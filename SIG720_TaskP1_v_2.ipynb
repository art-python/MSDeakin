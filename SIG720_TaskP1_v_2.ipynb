{
  "nbformat": 4,
  "nbformat_minor": 0,
  "metadata": {
    "colab": {
      "provenance": [],
      "authorship_tag": "ABX9TyPnItnv7WMmMrhhh3yuXS5z",
      "include_colab_link": true
    },
    "kernelspec": {
      "name": "python3",
      "display_name": "Python 3"
    },
    "language_info": {
      "name": "python"
    }
  },
  "cells": [
    {
      "cell_type": "markdown",
      "metadata": {
        "id": "view-in-github",
        "colab_type": "text"
      },
      "source": [
        "<a href=\"https://colab.research.google.com/github/art-python/MSDeakin/blob/SIG720-MachineLearning/SIG720_TaskP1_v_2.ipynb\" target=\"_parent\"><img src=\"https://colab.research.google.com/assets/colab-badge.svg\" alt=\"Open In Colab\"/></a>"
      ]
    },
    {
      "cell_type": "markdown",
      "source": [
        "# **Part 1**\n",
        "Load data from digitData2.csv file. The last column of each file presents the label and the rest of\n",
        "the columns are features.\n",
        "1. Selecting the optimum k value using Silhouette Coefficient and plot the optimum k values.\n",
        "2. Create clusters using Kmeans and Kmeans++ algorithms with optimal k value found in the\n",
        "previous problem. Report performances using appropriate evaluation metrics. Compare the\n",
        "results.\n",
        "3. Now repeat clustering using Kmeans for 50 times and report the average performance. Again,\n",
        "compare the results that you have obtained in Q3 using Kmeans++ and explain the difference (if\n",
        "any).\n",
        "4. Apply DBSCAN on this dataset (digitData2.csv) and find the optimum \"eps\" and \"min_samples\"\n",
        "value. Is the number of clusters the same as the cluster found in Q2? Explain the similarity or\n",
        "differences that you have found between two solutions.\n",
        "\n",
        "------------------------------------------------------\n",
        "\n",
        "Let's begin with initial data loading part"
      ],
      "metadata": {
        "id": "x-PTJbTD83sm"
      }
    },
    {
      "cell_type": "markdown",
      "source": [
        "To start with let's import all the important libraries from different modules."
      ],
      "metadata": {
        "id": "8zZ291wfZPRo"
      }
    },
    {
      "cell_type": "code",
      "source": [
        "#import important libraries\n",
        "import pandas as pd               #import Pandas package\n",
        "import numpy as np                #import Numpy package\n",
        "import matplotlib.pyplot as plt   #import Matplotlib package\n",
        "import seaborn as sns             #import Seaborn package\n",
        "%matplotlib inline"
      ],
      "metadata": {
        "id": "jDftfNO5glo8"
      },
      "execution_count": 1,
      "outputs": []
    },
    {
      "cell_type": "markdown",
      "source": [
        "Now, let's load data from google drive folder stored as a csv file.  "
      ],
      "metadata": {
        "id": "ozxoWxKVZV4V"
      }
    },
    {
      "cell_type": "code",
      "execution_count": 2,
      "metadata": {
        "colab": {
          "base_uri": "https://localhost:8080/"
        },
        "id": "4Wojzc-yD1I-",
        "outputId": "0de82263-64ae-4c2f-f107-0b78c851c1b8"
      },
      "outputs": [
        {
          "output_type": "stream",
          "name": "stdout",
          "text": [
            "Mounted at /content/drive\n"
          ]
        }
      ],
      "source": [
        "# Import the file from google drive, mount the drive\n",
        "from google.colab import drive\n",
        "drive.mount('/content/drive')"
      ]
    },
    {
      "cell_type": "code",
      "source": [
        "# Load the dataset file and read the csv\n",
        "folder_path = \"/content/drive/MyDrive/MSDeakin/SIG720-MachineLearning/\"\n",
        "file_name = \"digitData2.csv\"\n",
        "\n",
        "# Load the CSV file into a DataFrame\n",
        "dataset = pd.DataFrame(pd.read_csv(folder_path + file_name))\n",
        "df = dataset.copy()"
      ],
      "metadata": {
        "id": "0Plewlb_YG8c"
      },
      "execution_count": 11,
      "outputs": []
    },
    {
      "cell_type": "markdown",
      "source": [
        "Let's assign some column name for our ease and have a brief view of the dataset."
      ],
      "metadata": {
        "id": "jr6c8HuFZlo2"
      }
    },
    {
      "cell_type": "code",
      "source": [
        "# Assign column names based on their column number (0-based indexing)\n",
        "num_columns = len(df.columns)\n",
        "column_names = [f'Col{i+1}' for i in range(num_columns)]\n",
        "\n",
        "# Update the DataFrame with the assigned column names\n",
        "df.columns = column_names\n",
        "\n",
        "# Display the DataFrame\n",
        "df.head()"
      ],
      "metadata": {
        "colab": {
          "base_uri": "https://localhost:8080/",
          "height": 299
        },
        "id": "TkPr44lLW1vC",
        "outputId": "e6d267d0-91e1-463f-a317-67b110e39a97"
      },
      "execution_count": 17,
      "outputs": [
        {
          "output_type": "execute_result",
          "data": {
            "text/plain": [
              "   Col1  Col2  Col3  Col4  Col5  Col6  Col7  Col8  Col9  Col10  ...  Col56  \\\n",
              "0   0.0   0.0   0.0  12.0  13.0   5.0   0.0   0.0   0.0    0.0  ...    0.0   \n",
              "1   0.0   0.0   0.0   4.0  15.0  12.0   0.0   0.0   0.0    0.0  ...    0.0   \n",
              "2   0.0   0.0   7.0  15.0  13.0   1.0   0.0   0.0   0.0    8.0  ...    0.0   \n",
              "3   0.0   0.0   0.0   1.0  11.0   0.0   0.0   0.0   0.0    0.0  ...    0.0   \n",
              "4   0.0   0.0  12.0  10.0   0.0   0.0   0.0   0.0   0.0    0.0  ...    0.0   \n",
              "\n",
              "   Col57  Col58  Col59  Col60  Col61  Col62  Col63  Col64  Col65  \n",
              "0    0.0    0.0    0.0   11.0   16.0   10.0    0.0    0.0    1.0  \n",
              "1    0.0    0.0    0.0    3.0   11.0   16.0    9.0    0.0    2.0  \n",
              "2    0.0    0.0    7.0   13.0   13.0    9.0    0.0    0.0    3.0  \n",
              "3    0.0    0.0    0.0    2.0   16.0    4.0    0.0    0.0    4.0  \n",
              "4    0.0    0.0    9.0   16.0   16.0   10.0    0.0    0.0    5.0  \n",
              "\n",
              "[5 rows x 65 columns]"
            ],
            "text/html": [
              "\n",
              "\n",
              "  <div id=\"df-e2da5814-5c8e-44cf-b8ef-da128bdd0c59\">\n",
              "    <div class=\"colab-df-container\">\n",
              "      <div>\n",
              "<style scoped>\n",
              "    .dataframe tbody tr th:only-of-type {\n",
              "        vertical-align: middle;\n",
              "    }\n",
              "\n",
              "    .dataframe tbody tr th {\n",
              "        vertical-align: top;\n",
              "    }\n",
              "\n",
              "    .dataframe thead th {\n",
              "        text-align: right;\n",
              "    }\n",
              "</style>\n",
              "<table border=\"1\" class=\"dataframe\">\n",
              "  <thead>\n",
              "    <tr style=\"text-align: right;\">\n",
              "      <th></th>\n",
              "      <th>Col1</th>\n",
              "      <th>Col2</th>\n",
              "      <th>Col3</th>\n",
              "      <th>Col4</th>\n",
              "      <th>Col5</th>\n",
              "      <th>Col6</th>\n",
              "      <th>Col7</th>\n",
              "      <th>Col8</th>\n",
              "      <th>Col9</th>\n",
              "      <th>Col10</th>\n",
              "      <th>...</th>\n",
              "      <th>Col56</th>\n",
              "      <th>Col57</th>\n",
              "      <th>Col58</th>\n",
              "      <th>Col59</th>\n",
              "      <th>Col60</th>\n",
              "      <th>Col61</th>\n",
              "      <th>Col62</th>\n",
              "      <th>Col63</th>\n",
              "      <th>Col64</th>\n",
              "      <th>Col65</th>\n",
              "    </tr>\n",
              "  </thead>\n",
              "  <tbody>\n",
              "    <tr>\n",
              "      <th>0</th>\n",
              "      <td>0.0</td>\n",
              "      <td>0.0</td>\n",
              "      <td>0.0</td>\n",
              "      <td>12.0</td>\n",
              "      <td>13.0</td>\n",
              "      <td>5.0</td>\n",
              "      <td>0.0</td>\n",
              "      <td>0.0</td>\n",
              "      <td>0.0</td>\n",
              "      <td>0.0</td>\n",
              "      <td>...</td>\n",
              "      <td>0.0</td>\n",
              "      <td>0.0</td>\n",
              "      <td>0.0</td>\n",
              "      <td>0.0</td>\n",
              "      <td>11.0</td>\n",
              "      <td>16.0</td>\n",
              "      <td>10.0</td>\n",
              "      <td>0.0</td>\n",
              "      <td>0.0</td>\n",
              "      <td>1.0</td>\n",
              "    </tr>\n",
              "    <tr>\n",
              "      <th>1</th>\n",
              "      <td>0.0</td>\n",
              "      <td>0.0</td>\n",
              "      <td>0.0</td>\n",
              "      <td>4.0</td>\n",
              "      <td>15.0</td>\n",
              "      <td>12.0</td>\n",
              "      <td>0.0</td>\n",
              "      <td>0.0</td>\n",
              "      <td>0.0</td>\n",
              "      <td>0.0</td>\n",
              "      <td>...</td>\n",
              "      <td>0.0</td>\n",
              "      <td>0.0</td>\n",
              "      <td>0.0</td>\n",
              "      <td>0.0</td>\n",
              "      <td>3.0</td>\n",
              "      <td>11.0</td>\n",
              "      <td>16.0</td>\n",
              "      <td>9.0</td>\n",
              "      <td>0.0</td>\n",
              "      <td>2.0</td>\n",
              "    </tr>\n",
              "    <tr>\n",
              "      <th>2</th>\n",
              "      <td>0.0</td>\n",
              "      <td>0.0</td>\n",
              "      <td>7.0</td>\n",
              "      <td>15.0</td>\n",
              "      <td>13.0</td>\n",
              "      <td>1.0</td>\n",
              "      <td>0.0</td>\n",
              "      <td>0.0</td>\n",
              "      <td>0.0</td>\n",
              "      <td>8.0</td>\n",
              "      <td>...</td>\n",
              "      <td>0.0</td>\n",
              "      <td>0.0</td>\n",
              "      <td>0.0</td>\n",
              "      <td>7.0</td>\n",
              "      <td>13.0</td>\n",
              "      <td>13.0</td>\n",
              "      <td>9.0</td>\n",
              "      <td>0.0</td>\n",
              "      <td>0.0</td>\n",
              "      <td>3.0</td>\n",
              "    </tr>\n",
              "    <tr>\n",
              "      <th>3</th>\n",
              "      <td>0.0</td>\n",
              "      <td>0.0</td>\n",
              "      <td>0.0</td>\n",
              "      <td>1.0</td>\n",
              "      <td>11.0</td>\n",
              "      <td>0.0</td>\n",
              "      <td>0.0</td>\n",
              "      <td>0.0</td>\n",
              "      <td>0.0</td>\n",
              "      <td>0.0</td>\n",
              "      <td>...</td>\n",
              "      <td>0.0</td>\n",
              "      <td>0.0</td>\n",
              "      <td>0.0</td>\n",
              "      <td>0.0</td>\n",
              "      <td>2.0</td>\n",
              "      <td>16.0</td>\n",
              "      <td>4.0</td>\n",
              "      <td>0.0</td>\n",
              "      <td>0.0</td>\n",
              "      <td>4.0</td>\n",
              "    </tr>\n",
              "    <tr>\n",
              "      <th>4</th>\n",
              "      <td>0.0</td>\n",
              "      <td>0.0</td>\n",
              "      <td>12.0</td>\n",
              "      <td>10.0</td>\n",
              "      <td>0.0</td>\n",
              "      <td>0.0</td>\n",
              "      <td>0.0</td>\n",
              "      <td>0.0</td>\n",
              "      <td>0.0</td>\n",
              "      <td>0.0</td>\n",
              "      <td>...</td>\n",
              "      <td>0.0</td>\n",
              "      <td>0.0</td>\n",
              "      <td>0.0</td>\n",
              "      <td>9.0</td>\n",
              "      <td>16.0</td>\n",
              "      <td>16.0</td>\n",
              "      <td>10.0</td>\n",
              "      <td>0.0</td>\n",
              "      <td>0.0</td>\n",
              "      <td>5.0</td>\n",
              "    </tr>\n",
              "  </tbody>\n",
              "</table>\n",
              "<p>5 rows × 65 columns</p>\n",
              "</div>\n",
              "      <button class=\"colab-df-convert\" onclick=\"convertToInteractive('df-e2da5814-5c8e-44cf-b8ef-da128bdd0c59')\"\n",
              "              title=\"Convert this dataframe to an interactive table.\"\n",
              "              style=\"display:none;\">\n",
              "\n",
              "  <svg xmlns=\"http://www.w3.org/2000/svg\" height=\"24px\"viewBox=\"0 0 24 24\"\n",
              "       width=\"24px\">\n",
              "    <path d=\"M0 0h24v24H0V0z\" fill=\"none\"/>\n",
              "    <path d=\"M18.56 5.44l.94 2.06.94-2.06 2.06-.94-2.06-.94-.94-2.06-.94 2.06-2.06.94zm-11 1L8.5 8.5l.94-2.06 2.06-.94-2.06-.94L8.5 2.5l-.94 2.06-2.06.94zm10 10l.94 2.06.94-2.06 2.06-.94-2.06-.94-.94-2.06-.94 2.06-2.06.94z\"/><path d=\"M17.41 7.96l-1.37-1.37c-.4-.4-.92-.59-1.43-.59-.52 0-1.04.2-1.43.59L10.3 9.45l-7.72 7.72c-.78.78-.78 2.05 0 2.83L4 21.41c.39.39.9.59 1.41.59.51 0 1.02-.2 1.41-.59l7.78-7.78 2.81-2.81c.8-.78.8-2.07 0-2.86zM5.41 20L4 18.59l7.72-7.72 1.47 1.35L5.41 20z\"/>\n",
              "  </svg>\n",
              "      </button>\n",
              "\n",
              "\n",
              "\n",
              "    <div id=\"df-73d66332-9a76-49e6-92e8-2bcf89044840\">\n",
              "      <button class=\"colab-df-quickchart\" onclick=\"quickchart('df-73d66332-9a76-49e6-92e8-2bcf89044840')\"\n",
              "              title=\"Suggest charts.\"\n",
              "              style=\"display:none;\">\n",
              "\n",
              "<svg xmlns=\"http://www.w3.org/2000/svg\" height=\"24px\"viewBox=\"0 0 24 24\"\n",
              "     width=\"24px\">\n",
              "    <g>\n",
              "        <path d=\"M19 3H5c-1.1 0-2 .9-2 2v14c0 1.1.9 2 2 2h14c1.1 0 2-.9 2-2V5c0-1.1-.9-2-2-2zM9 17H7v-7h2v7zm4 0h-2V7h2v10zm4 0h-2v-4h2v4z\"/>\n",
              "    </g>\n",
              "</svg>\n",
              "      </button>\n",
              "    </div>\n",
              "\n",
              "<style>\n",
              "  .colab-df-quickchart {\n",
              "    background-color: #E8F0FE;\n",
              "    border: none;\n",
              "    border-radius: 50%;\n",
              "    cursor: pointer;\n",
              "    display: none;\n",
              "    fill: #1967D2;\n",
              "    height: 32px;\n",
              "    padding: 0 0 0 0;\n",
              "    width: 32px;\n",
              "  }\n",
              "\n",
              "  .colab-df-quickchart:hover {\n",
              "    background-color: #E2EBFA;\n",
              "    box-shadow: 0px 1px 2px rgba(60, 64, 67, 0.3), 0px 1px 3px 1px rgba(60, 64, 67, 0.15);\n",
              "    fill: #174EA6;\n",
              "  }\n",
              "\n",
              "  [theme=dark] .colab-df-quickchart {\n",
              "    background-color: #3B4455;\n",
              "    fill: #D2E3FC;\n",
              "  }\n",
              "\n",
              "  [theme=dark] .colab-df-quickchart:hover {\n",
              "    background-color: #434B5C;\n",
              "    box-shadow: 0px 1px 3px 1px rgba(0, 0, 0, 0.15);\n",
              "    filter: drop-shadow(0px 1px 2px rgba(0, 0, 0, 0.3));\n",
              "    fill: #FFFFFF;\n",
              "  }\n",
              "</style>\n",
              "\n",
              "    <script>\n",
              "      async function quickchart(key) {\n",
              "        const containerElement = document.querySelector('#' + key);\n",
              "        const charts = await google.colab.kernel.invokeFunction(\n",
              "            'suggestCharts', [key], {});\n",
              "      }\n",
              "    </script>\n",
              "\n",
              "      <script>\n",
              "\n",
              "function displayQuickchartButton(domScope) {\n",
              "  let quickchartButtonEl =\n",
              "    domScope.querySelector('#df-73d66332-9a76-49e6-92e8-2bcf89044840 button.colab-df-quickchart');\n",
              "  quickchartButtonEl.style.display =\n",
              "    google.colab.kernel.accessAllowed ? 'block' : 'none';\n",
              "}\n",
              "\n",
              "        displayQuickchartButton(document);\n",
              "      </script>\n",
              "      <style>\n",
              "    .colab-df-container {\n",
              "      display:flex;\n",
              "      flex-wrap:wrap;\n",
              "      gap: 12px;\n",
              "    }\n",
              "\n",
              "    .colab-df-convert {\n",
              "      background-color: #E8F0FE;\n",
              "      border: none;\n",
              "      border-radius: 50%;\n",
              "      cursor: pointer;\n",
              "      display: none;\n",
              "      fill: #1967D2;\n",
              "      height: 32px;\n",
              "      padding: 0 0 0 0;\n",
              "      width: 32px;\n",
              "    }\n",
              "\n",
              "    .colab-df-convert:hover {\n",
              "      background-color: #E2EBFA;\n",
              "      box-shadow: 0px 1px 2px rgba(60, 64, 67, 0.3), 0px 1px 3px 1px rgba(60, 64, 67, 0.15);\n",
              "      fill: #174EA6;\n",
              "    }\n",
              "\n",
              "    [theme=dark] .colab-df-convert {\n",
              "      background-color: #3B4455;\n",
              "      fill: #D2E3FC;\n",
              "    }\n",
              "\n",
              "    [theme=dark] .colab-df-convert:hover {\n",
              "      background-color: #434B5C;\n",
              "      box-shadow: 0px 1px 3px 1px rgba(0, 0, 0, 0.15);\n",
              "      filter: drop-shadow(0px 1px 2px rgba(0, 0, 0, 0.3));\n",
              "      fill: #FFFFFF;\n",
              "    }\n",
              "  </style>\n",
              "\n",
              "      <script>\n",
              "        const buttonEl =\n",
              "          document.querySelector('#df-e2da5814-5c8e-44cf-b8ef-da128bdd0c59 button.colab-df-convert');\n",
              "        buttonEl.style.display =\n",
              "          google.colab.kernel.accessAllowed ? 'block' : 'none';\n",
              "\n",
              "        async function convertToInteractive(key) {\n",
              "          const element = document.querySelector('#df-e2da5814-5c8e-44cf-b8ef-da128bdd0c59');\n",
              "          const dataTable =\n",
              "            await google.colab.kernel.invokeFunction('convertToInteractive',\n",
              "                                                     [key], {});\n",
              "          if (!dataTable) return;\n",
              "\n",
              "          const docLinkHtml = 'Like what you see? Visit the ' +\n",
              "            '<a target=\"_blank\" href=https://colab.research.google.com/notebooks/data_table.ipynb>data table notebook</a>'\n",
              "            + ' to learn more about interactive tables.';\n",
              "          element.innerHTML = '';\n",
              "          dataTable['output_type'] = 'display_data';\n",
              "          await google.colab.output.renderOutput(dataTable, element);\n",
              "          const docLink = document.createElement('div');\n",
              "          docLink.innerHTML = docLinkHtml;\n",
              "          element.appendChild(docLink);\n",
              "        }\n",
              "      </script>\n",
              "    </div>\n",
              "  </div>\n"
            ]
          },
          "metadata": {},
          "execution_count": 17
        }
      ]
    },
    {
      "cell_type": "code",
      "source": [
        "#check the shape of the dataset\n",
        "print('The shape of the dataset is', df.shape)"
      ],
      "metadata": {
        "colab": {
          "base_uri": "https://localhost:8080/"
        },
        "id": "u2jx-q69pINF",
        "outputId": "83c29636-a98b-4bcc-ffd8-635118638259"
      },
      "execution_count": 45,
      "outputs": [
        {
          "output_type": "stream",
          "name": "stdout",
          "text": [
            "The shape of the dataset is (1527, 65)\n"
          ]
        }
      ]
    },
    {
      "cell_type": "code",
      "source": [
        "# Statistical Summary of df\n",
        "df.describe()"
      ],
      "metadata": {
        "colab": {
          "base_uri": "https://localhost:8080/",
          "height": 393
        },
        "id": "0RF2TPbEopT3",
        "outputId": "486ee179-e5b4-4c26-ddab-c5f232852770"
      },
      "execution_count": 43,
      "outputs": [
        {
          "output_type": "execute_result",
          "data": {
            "text/plain": [
              "         Col1         Col2        Col3         Col4         Col5         Col6  \\\n",
              "count  1527.0  1527.000000  1527.00000  1527.000000  1527.000000  1527.000000   \n",
              "mean      0.0     0.298625     5.18664    11.747217    11.888016     5.913556   \n",
              "std       0.0     0.883750     4.76690     4.312531     4.275862     5.695563   \n",
              "min       0.0     0.000000     0.00000     0.000000     0.000000     0.000000   \n",
              "25%       0.0     0.000000     1.00000    10.000000    10.000000     0.000000   \n",
              "50%       0.0     0.000000     4.00000    13.000000    13.000000     4.000000   \n",
              "75%       0.0     0.000000     9.00000    15.000000    15.000000    11.000000   \n",
              "max       0.0     8.000000    16.00000    16.000000    16.000000    16.000000   \n",
              "\n",
              "              Col7         Col8         Col9        Col10  ...        Col56  \\\n",
              "count  1527.000000  1527.000000  1527.000000  1527.000000  ...  1527.000000   \n",
              "mean      1.453176     0.140144     0.006549     2.004584  ...     0.221349   \n",
              "std       3.444220     1.056097     0.102186     3.153455  ...     1.014051   \n",
              "min       0.000000     0.000000     0.000000     0.000000  ...     0.000000   \n",
              "25%       0.000000     0.000000     0.000000     0.000000  ...     0.000000   \n",
              "50%       0.000000     0.000000     0.000000     0.000000  ...     0.000000   \n",
              "75%       0.000000     0.000000     0.000000     3.000000  ...     0.000000   \n",
              "max      16.000000    14.000000     2.000000    16.000000  ...    13.000000   \n",
              "\n",
              "             Col57        Col58        Col59        Col60        Col61  \\\n",
              "count  1527.000000  1527.000000  1527.000000  1527.000000  1527.000000   \n",
              "mean      0.000655     0.273739     5.544859    12.120498    12.047806   \n",
              "std       0.025591     0.890306     5.104715     4.381379     4.835533   \n",
              "min       0.000000     0.000000     0.000000     0.000000     0.000000   \n",
              "25%       0.000000     0.000000     1.000000    11.000000    10.000000   \n",
              "50%       0.000000     0.000000     4.000000    13.000000    14.000000   \n",
              "75%       0.000000     0.000000    10.000000    16.000000    16.000000   \n",
              "max       1.000000     9.000000    16.000000    16.000000    16.000000   \n",
              "\n",
              "             Col62        Col63        Col64        Col65  \n",
              "count  1527.000000  1527.000000  1527.000000  1527.000000  \n",
              "mean      7.111984     2.259987     0.415193     4.482646  \n",
              "std       5.961973     4.280452     1.999470     2.861972  \n",
              "min       0.000000     0.000000     0.000000     0.000000  \n",
              "25%       0.000000     0.000000     0.000000     2.000000  \n",
              "50%       7.000000     0.000000     0.000000     4.000000  \n",
              "75%      13.000000     2.000000     0.000000     7.000000  \n",
              "max      16.000000    16.000000    16.000000     9.000000  \n",
              "\n",
              "[8 rows x 65 columns]"
            ],
            "text/html": [
              "\n",
              "\n",
              "  <div id=\"df-e51e584b-4eb1-45d0-9d0f-a177a1245169\">\n",
              "    <div class=\"colab-df-container\">\n",
              "      <div>\n",
              "<style scoped>\n",
              "    .dataframe tbody tr th:only-of-type {\n",
              "        vertical-align: middle;\n",
              "    }\n",
              "\n",
              "    .dataframe tbody tr th {\n",
              "        vertical-align: top;\n",
              "    }\n",
              "\n",
              "    .dataframe thead th {\n",
              "        text-align: right;\n",
              "    }\n",
              "</style>\n",
              "<table border=\"1\" class=\"dataframe\">\n",
              "  <thead>\n",
              "    <tr style=\"text-align: right;\">\n",
              "      <th></th>\n",
              "      <th>Col1</th>\n",
              "      <th>Col2</th>\n",
              "      <th>Col3</th>\n",
              "      <th>Col4</th>\n",
              "      <th>Col5</th>\n",
              "      <th>Col6</th>\n",
              "      <th>Col7</th>\n",
              "      <th>Col8</th>\n",
              "      <th>Col9</th>\n",
              "      <th>Col10</th>\n",
              "      <th>...</th>\n",
              "      <th>Col56</th>\n",
              "      <th>Col57</th>\n",
              "      <th>Col58</th>\n",
              "      <th>Col59</th>\n",
              "      <th>Col60</th>\n",
              "      <th>Col61</th>\n",
              "      <th>Col62</th>\n",
              "      <th>Col63</th>\n",
              "      <th>Col64</th>\n",
              "      <th>Col65</th>\n",
              "    </tr>\n",
              "  </thead>\n",
              "  <tbody>\n",
              "    <tr>\n",
              "      <th>count</th>\n",
              "      <td>1527.0</td>\n",
              "      <td>1527.000000</td>\n",
              "      <td>1527.00000</td>\n",
              "      <td>1527.000000</td>\n",
              "      <td>1527.000000</td>\n",
              "      <td>1527.000000</td>\n",
              "      <td>1527.000000</td>\n",
              "      <td>1527.000000</td>\n",
              "      <td>1527.000000</td>\n",
              "      <td>1527.000000</td>\n",
              "      <td>...</td>\n",
              "      <td>1527.000000</td>\n",
              "      <td>1527.000000</td>\n",
              "      <td>1527.000000</td>\n",
              "      <td>1527.000000</td>\n",
              "      <td>1527.000000</td>\n",
              "      <td>1527.000000</td>\n",
              "      <td>1527.000000</td>\n",
              "      <td>1527.000000</td>\n",
              "      <td>1527.000000</td>\n",
              "      <td>1527.000000</td>\n",
              "    </tr>\n",
              "    <tr>\n",
              "      <th>mean</th>\n",
              "      <td>0.0</td>\n",
              "      <td>0.298625</td>\n",
              "      <td>5.18664</td>\n",
              "      <td>11.747217</td>\n",
              "      <td>11.888016</td>\n",
              "      <td>5.913556</td>\n",
              "      <td>1.453176</td>\n",
              "      <td>0.140144</td>\n",
              "      <td>0.006549</td>\n",
              "      <td>2.004584</td>\n",
              "      <td>...</td>\n",
              "      <td>0.221349</td>\n",
              "      <td>0.000655</td>\n",
              "      <td>0.273739</td>\n",
              "      <td>5.544859</td>\n",
              "      <td>12.120498</td>\n",
              "      <td>12.047806</td>\n",
              "      <td>7.111984</td>\n",
              "      <td>2.259987</td>\n",
              "      <td>0.415193</td>\n",
              "      <td>4.482646</td>\n",
              "    </tr>\n",
              "    <tr>\n",
              "      <th>std</th>\n",
              "      <td>0.0</td>\n",
              "      <td>0.883750</td>\n",
              "      <td>4.76690</td>\n",
              "      <td>4.312531</td>\n",
              "      <td>4.275862</td>\n",
              "      <td>5.695563</td>\n",
              "      <td>3.444220</td>\n",
              "      <td>1.056097</td>\n",
              "      <td>0.102186</td>\n",
              "      <td>3.153455</td>\n",
              "      <td>...</td>\n",
              "      <td>1.014051</td>\n",
              "      <td>0.025591</td>\n",
              "      <td>0.890306</td>\n",
              "      <td>5.104715</td>\n",
              "      <td>4.381379</td>\n",
              "      <td>4.835533</td>\n",
              "      <td>5.961973</td>\n",
              "      <td>4.280452</td>\n",
              "      <td>1.999470</td>\n",
              "      <td>2.861972</td>\n",
              "    </tr>\n",
              "    <tr>\n",
              "      <th>min</th>\n",
              "      <td>0.0</td>\n",
              "      <td>0.000000</td>\n",
              "      <td>0.00000</td>\n",
              "      <td>0.000000</td>\n",
              "      <td>0.000000</td>\n",
              "      <td>0.000000</td>\n",
              "      <td>0.000000</td>\n",
              "      <td>0.000000</td>\n",
              "      <td>0.000000</td>\n",
              "      <td>0.000000</td>\n",
              "      <td>...</td>\n",
              "      <td>0.000000</td>\n",
              "      <td>0.000000</td>\n",
              "      <td>0.000000</td>\n",
              "      <td>0.000000</td>\n",
              "      <td>0.000000</td>\n",
              "      <td>0.000000</td>\n",
              "      <td>0.000000</td>\n",
              "      <td>0.000000</td>\n",
              "      <td>0.000000</td>\n",
              "      <td>0.000000</td>\n",
              "    </tr>\n",
              "    <tr>\n",
              "      <th>25%</th>\n",
              "      <td>0.0</td>\n",
              "      <td>0.000000</td>\n",
              "      <td>1.00000</td>\n",
              "      <td>10.000000</td>\n",
              "      <td>10.000000</td>\n",
              "      <td>0.000000</td>\n",
              "      <td>0.000000</td>\n",
              "      <td>0.000000</td>\n",
              "      <td>0.000000</td>\n",
              "      <td>0.000000</td>\n",
              "      <td>...</td>\n",
              "      <td>0.000000</td>\n",
              "      <td>0.000000</td>\n",
              "      <td>0.000000</td>\n",
              "      <td>1.000000</td>\n",
              "      <td>11.000000</td>\n",
              "      <td>10.000000</td>\n",
              "      <td>0.000000</td>\n",
              "      <td>0.000000</td>\n",
              "      <td>0.000000</td>\n",
              "      <td>2.000000</td>\n",
              "    </tr>\n",
              "    <tr>\n",
              "      <th>50%</th>\n",
              "      <td>0.0</td>\n",
              "      <td>0.000000</td>\n",
              "      <td>4.00000</td>\n",
              "      <td>13.000000</td>\n",
              "      <td>13.000000</td>\n",
              "      <td>4.000000</td>\n",
              "      <td>0.000000</td>\n",
              "      <td>0.000000</td>\n",
              "      <td>0.000000</td>\n",
              "      <td>0.000000</td>\n",
              "      <td>...</td>\n",
              "      <td>0.000000</td>\n",
              "      <td>0.000000</td>\n",
              "      <td>0.000000</td>\n",
              "      <td>4.000000</td>\n",
              "      <td>13.000000</td>\n",
              "      <td>14.000000</td>\n",
              "      <td>7.000000</td>\n",
              "      <td>0.000000</td>\n",
              "      <td>0.000000</td>\n",
              "      <td>4.000000</td>\n",
              "    </tr>\n",
              "    <tr>\n",
              "      <th>75%</th>\n",
              "      <td>0.0</td>\n",
              "      <td>0.000000</td>\n",
              "      <td>9.00000</td>\n",
              "      <td>15.000000</td>\n",
              "      <td>15.000000</td>\n",
              "      <td>11.000000</td>\n",
              "      <td>0.000000</td>\n",
              "      <td>0.000000</td>\n",
              "      <td>0.000000</td>\n",
              "      <td>3.000000</td>\n",
              "      <td>...</td>\n",
              "      <td>0.000000</td>\n",
              "      <td>0.000000</td>\n",
              "      <td>0.000000</td>\n",
              "      <td>10.000000</td>\n",
              "      <td>16.000000</td>\n",
              "      <td>16.000000</td>\n",
              "      <td>13.000000</td>\n",
              "      <td>2.000000</td>\n",
              "      <td>0.000000</td>\n",
              "      <td>7.000000</td>\n",
              "    </tr>\n",
              "    <tr>\n",
              "      <th>max</th>\n",
              "      <td>0.0</td>\n",
              "      <td>8.000000</td>\n",
              "      <td>16.00000</td>\n",
              "      <td>16.000000</td>\n",
              "      <td>16.000000</td>\n",
              "      <td>16.000000</td>\n",
              "      <td>16.000000</td>\n",
              "      <td>14.000000</td>\n",
              "      <td>2.000000</td>\n",
              "      <td>16.000000</td>\n",
              "      <td>...</td>\n",
              "      <td>13.000000</td>\n",
              "      <td>1.000000</td>\n",
              "      <td>9.000000</td>\n",
              "      <td>16.000000</td>\n",
              "      <td>16.000000</td>\n",
              "      <td>16.000000</td>\n",
              "      <td>16.000000</td>\n",
              "      <td>16.000000</td>\n",
              "      <td>16.000000</td>\n",
              "      <td>9.000000</td>\n",
              "    </tr>\n",
              "  </tbody>\n",
              "</table>\n",
              "<p>8 rows × 65 columns</p>\n",
              "</div>\n",
              "      <button class=\"colab-df-convert\" onclick=\"convertToInteractive('df-e51e584b-4eb1-45d0-9d0f-a177a1245169')\"\n",
              "              title=\"Convert this dataframe to an interactive table.\"\n",
              "              style=\"display:none;\">\n",
              "\n",
              "  <svg xmlns=\"http://www.w3.org/2000/svg\" height=\"24px\"viewBox=\"0 0 24 24\"\n",
              "       width=\"24px\">\n",
              "    <path d=\"M0 0h24v24H0V0z\" fill=\"none\"/>\n",
              "    <path d=\"M18.56 5.44l.94 2.06.94-2.06 2.06-.94-2.06-.94-.94-2.06-.94 2.06-2.06.94zm-11 1L8.5 8.5l.94-2.06 2.06-.94-2.06-.94L8.5 2.5l-.94 2.06-2.06.94zm10 10l.94 2.06.94-2.06 2.06-.94-2.06-.94-.94-2.06-.94 2.06-2.06.94z\"/><path d=\"M17.41 7.96l-1.37-1.37c-.4-.4-.92-.59-1.43-.59-.52 0-1.04.2-1.43.59L10.3 9.45l-7.72 7.72c-.78.78-.78 2.05 0 2.83L4 21.41c.39.39.9.59 1.41.59.51 0 1.02-.2 1.41-.59l7.78-7.78 2.81-2.81c.8-.78.8-2.07 0-2.86zM5.41 20L4 18.59l7.72-7.72 1.47 1.35L5.41 20z\"/>\n",
              "  </svg>\n",
              "      </button>\n",
              "\n",
              "\n",
              "\n",
              "    <div id=\"df-27ed06fd-3e14-4ee7-beec-2a7d2b160ebe\">\n",
              "      <button class=\"colab-df-quickchart\" onclick=\"quickchart('df-27ed06fd-3e14-4ee7-beec-2a7d2b160ebe')\"\n",
              "              title=\"Suggest charts.\"\n",
              "              style=\"display:none;\">\n",
              "\n",
              "<svg xmlns=\"http://www.w3.org/2000/svg\" height=\"24px\"viewBox=\"0 0 24 24\"\n",
              "     width=\"24px\">\n",
              "    <g>\n",
              "        <path d=\"M19 3H5c-1.1 0-2 .9-2 2v14c0 1.1.9 2 2 2h14c1.1 0 2-.9 2-2V5c0-1.1-.9-2-2-2zM9 17H7v-7h2v7zm4 0h-2V7h2v10zm4 0h-2v-4h2v4z\"/>\n",
              "    </g>\n",
              "</svg>\n",
              "      </button>\n",
              "    </div>\n",
              "\n",
              "<style>\n",
              "  .colab-df-quickchart {\n",
              "    background-color: #E8F0FE;\n",
              "    border: none;\n",
              "    border-radius: 50%;\n",
              "    cursor: pointer;\n",
              "    display: none;\n",
              "    fill: #1967D2;\n",
              "    height: 32px;\n",
              "    padding: 0 0 0 0;\n",
              "    width: 32px;\n",
              "  }\n",
              "\n",
              "  .colab-df-quickchart:hover {\n",
              "    background-color: #E2EBFA;\n",
              "    box-shadow: 0px 1px 2px rgba(60, 64, 67, 0.3), 0px 1px 3px 1px rgba(60, 64, 67, 0.15);\n",
              "    fill: #174EA6;\n",
              "  }\n",
              "\n",
              "  [theme=dark] .colab-df-quickchart {\n",
              "    background-color: #3B4455;\n",
              "    fill: #D2E3FC;\n",
              "  }\n",
              "\n",
              "  [theme=dark] .colab-df-quickchart:hover {\n",
              "    background-color: #434B5C;\n",
              "    box-shadow: 0px 1px 3px 1px rgba(0, 0, 0, 0.15);\n",
              "    filter: drop-shadow(0px 1px 2px rgba(0, 0, 0, 0.3));\n",
              "    fill: #FFFFFF;\n",
              "  }\n",
              "</style>\n",
              "\n",
              "    <script>\n",
              "      async function quickchart(key) {\n",
              "        const containerElement = document.querySelector('#' + key);\n",
              "        const charts = await google.colab.kernel.invokeFunction(\n",
              "            'suggestCharts', [key], {});\n",
              "      }\n",
              "    </script>\n",
              "\n",
              "      <script>\n",
              "\n",
              "function displayQuickchartButton(domScope) {\n",
              "  let quickchartButtonEl =\n",
              "    domScope.querySelector('#df-27ed06fd-3e14-4ee7-beec-2a7d2b160ebe button.colab-df-quickchart');\n",
              "  quickchartButtonEl.style.display =\n",
              "    google.colab.kernel.accessAllowed ? 'block' : 'none';\n",
              "}\n",
              "\n",
              "        displayQuickchartButton(document);\n",
              "      </script>\n",
              "      <style>\n",
              "    .colab-df-container {\n",
              "      display:flex;\n",
              "      flex-wrap:wrap;\n",
              "      gap: 12px;\n",
              "    }\n",
              "\n",
              "    .colab-df-convert {\n",
              "      background-color: #E8F0FE;\n",
              "      border: none;\n",
              "      border-radius: 50%;\n",
              "      cursor: pointer;\n",
              "      display: none;\n",
              "      fill: #1967D2;\n",
              "      height: 32px;\n",
              "      padding: 0 0 0 0;\n",
              "      width: 32px;\n",
              "    }\n",
              "\n",
              "    .colab-df-convert:hover {\n",
              "      background-color: #E2EBFA;\n",
              "      box-shadow: 0px 1px 2px rgba(60, 64, 67, 0.3), 0px 1px 3px 1px rgba(60, 64, 67, 0.15);\n",
              "      fill: #174EA6;\n",
              "    }\n",
              "\n",
              "    [theme=dark] .colab-df-convert {\n",
              "      background-color: #3B4455;\n",
              "      fill: #D2E3FC;\n",
              "    }\n",
              "\n",
              "    [theme=dark] .colab-df-convert:hover {\n",
              "      background-color: #434B5C;\n",
              "      box-shadow: 0px 1px 3px 1px rgba(0, 0, 0, 0.15);\n",
              "      filter: drop-shadow(0px 1px 2px rgba(0, 0, 0, 0.3));\n",
              "      fill: #FFFFFF;\n",
              "    }\n",
              "  </style>\n",
              "\n",
              "      <script>\n",
              "        const buttonEl =\n",
              "          document.querySelector('#df-e51e584b-4eb1-45d0-9d0f-a177a1245169 button.colab-df-convert');\n",
              "        buttonEl.style.display =\n",
              "          google.colab.kernel.accessAllowed ? 'block' : 'none';\n",
              "\n",
              "        async function convertToInteractive(key) {\n",
              "          const element = document.querySelector('#df-e51e584b-4eb1-45d0-9d0f-a177a1245169');\n",
              "          const dataTable =\n",
              "            await google.colab.kernel.invokeFunction('convertToInteractive',\n",
              "                                                     [key], {});\n",
              "          if (!dataTable) return;\n",
              "\n",
              "          const docLinkHtml = 'Like what you see? Visit the ' +\n",
              "            '<a target=\"_blank\" href=https://colab.research.google.com/notebooks/data_table.ipynb>data table notebook</a>'\n",
              "            + ' to learn more about interactive tables.';\n",
              "          element.innerHTML = '';\n",
              "          dataTable['output_type'] = 'display_data';\n",
              "          await google.colab.output.renderOutput(dataTable, element);\n",
              "          const docLink = document.createElement('div');\n",
              "          docLink.innerHTML = docLinkHtml;\n",
              "          element.appendChild(docLink);\n",
              "        }\n",
              "      </script>\n",
              "    </div>\n",
              "  </div>\n"
            ]
          },
          "metadata": {},
          "execution_count": 43
        }
      ]
    },
    {
      "cell_type": "markdown",
      "source": [
        "* The dataset has 64 features and one target variable which is 65th column and the features are in different range of values which means that we might need scaling to normalize this dataset across all the variables."
      ],
      "metadata": {
        "id": "kAfnMZZxp0ae"
      }
    },
    {
      "cell_type": "code",
      "source": [
        "# Checking for duplicate values\n",
        "df.duplicated().sum()"
      ],
      "metadata": {
        "colab": {
          "base_uri": "https://localhost:8080/"
        },
        "id": "WcGsgauwpYe6",
        "outputId": "0fae9fa5-632c-4a7a-a708-cf7cf8a96f77"
      },
      "execution_count": 46,
      "outputs": [
        {
          "output_type": "execute_result",
          "data": {
            "text/plain": [
              "0"
            ]
          },
          "metadata": {},
          "execution_count": 46
        }
      ]
    },
    {
      "cell_type": "markdown",
      "source": [
        "* There is no duplicate values in this dataset."
      ],
      "metadata": {
        "id": "tPsuKOHBpay2"
      }
    },
    {
      "cell_type": "code",
      "source": [
        "# Checking for missing values\n",
        "df.isnull().sum()"
      ],
      "metadata": {
        "colab": {
          "base_uri": "https://localhost:8080/"
        },
        "id": "r5rYP903pg-_",
        "outputId": "020f31c1-7e66-4ac9-8bed-c1b28558dbaf"
      },
      "execution_count": 47,
      "outputs": [
        {
          "output_type": "execute_result",
          "data": {
            "text/plain": [
              "Col1     0\n",
              "Col2     0\n",
              "Col3     0\n",
              "Col4     0\n",
              "Col5     0\n",
              "        ..\n",
              "Col61    0\n",
              "Col62    0\n",
              "Col63    0\n",
              "Col64    0\n",
              "Col65    0\n",
              "Length: 65, dtype: int64"
            ]
          },
          "metadata": {},
          "execution_count": 47
        }
      ]
    },
    {
      "cell_type": "markdown",
      "source": [
        "* There is no missing values present in this dataset."
      ],
      "metadata": {
        "id": "t9Mlx0uapih3"
      }
    },
    {
      "cell_type": "markdown",
      "source": [
        "Now, as recommended extract the target variable from the features variables."
      ],
      "metadata": {
        "id": "RwILMvPvZu4E"
      }
    },
    {
      "cell_type": "code",
      "source": [
        "# Extract features (all columns except the last one)\n",
        "X = df.iloc[:, :-1]\n",
        "y = df.iloc[:, -1]"
      ],
      "metadata": {
        "id": "lb3SbpqaY_R7"
      },
      "execution_count": 72,
      "outputs": []
    },
    {
      "cell_type": "markdown",
      "source": [
        "**Scale the dataset**\n",
        "\n",
        "Now, let's proceed with scaling the data in order to normalise it. Clustering algorithms are a type of algorithm that rely on distances between data points. It is important to note that all distance-based algorithms are influenced by the scale of the variables. Hence, it is necessary to perform data scaling prior to implementing the clustering algorithm."
      ],
      "metadata": {
        "id": "2oJy2iAcqn5g"
      }
    },
    {
      "cell_type": "code",
      "source": [
        "# Import MinMaxscaler to scale the data between -1 to 1 for all the features\n",
        "from sklearn.preprocessing import MinMaxScaler\n",
        "\n",
        "# Scaling the data before clustering\n",
        "scaler = MinMaxScaler()\n",
        "X_scaled = scaler.fit_transform(X)\n",
        "\n",
        "# Creating a dataframe of the scaled data\n",
        "X_scaled = pd.DataFrame(X_scaled, columns = X.columns)"
      ],
      "metadata": {
        "id": "JFMfHueNqkLt"
      },
      "execution_count": 73,
      "outputs": []
    },
    {
      "cell_type": "code",
      "source": [
        "# verify the scaling\n",
        "X_scaled.describe().round(2)"
      ],
      "metadata": {
        "colab": {
          "base_uri": "https://localhost:8080/",
          "height": 393
        },
        "id": "To3JSYL3rhKt",
        "outputId": "d69d9b2a-bef7-4843-c0b5-09fa141eb084"
      },
      "execution_count": 74,
      "outputs": [
        {
          "output_type": "execute_result",
          "data": {
            "text/plain": [
              "         Col1     Col2     Col3     Col4     Col5     Col6     Col7     Col8  \\\n",
              "count  1527.0  1527.00  1527.00  1527.00  1527.00  1527.00  1527.00  1527.00   \n",
              "mean      0.0     0.04     0.32     0.73     0.74     0.37     0.09     0.01   \n",
              "std       0.0     0.11     0.30     0.27     0.27     0.36     0.22     0.08   \n",
              "min       0.0     0.00     0.00     0.00     0.00     0.00     0.00     0.00   \n",
              "25%       0.0     0.00     0.06     0.62     0.62     0.00     0.00     0.00   \n",
              "50%       0.0     0.00     0.25     0.81     0.81     0.25     0.00     0.00   \n",
              "75%       0.0     0.00     0.56     0.94     0.94     0.69     0.00     0.00   \n",
              "max       0.0     1.00     1.00     1.00     1.00     1.00     1.00     1.00   \n",
              "\n",
              "          Col9    Col10  ...    Col55    Col56    Col57    Col58    Col59  \\\n",
              "count  1527.00  1527.00  ...  1527.00  1527.00  1527.00  1527.00  1527.00   \n",
              "mean      0.00     0.13  ...     0.24     0.02     0.00     0.03     0.35   \n",
              "std       0.05     0.20  ...     0.31     0.08     0.03     0.10     0.32   \n",
              "min       0.00     0.00  ...     0.00     0.00     0.00     0.00     0.00   \n",
              "25%       0.00     0.00  ...     0.00     0.00     0.00     0.00     0.06   \n",
              "50%       0.00     0.00  ...     0.06     0.00     0.00     0.00     0.25   \n",
              "75%       0.00     0.19  ...     0.44     0.00     0.00     0.00     0.62   \n",
              "max       1.00     1.00  ...     1.00     1.00     1.00     1.00     1.00   \n",
              "\n",
              "         Col60    Col61    Col62    Col63    Col64  \n",
              "count  1527.00  1527.00  1527.00  1527.00  1527.00  \n",
              "mean      0.76     0.75     0.44     0.14     0.03  \n",
              "std       0.27     0.30     0.37     0.27     0.12  \n",
              "min       0.00     0.00     0.00     0.00     0.00  \n",
              "25%       0.69     0.62     0.00     0.00     0.00  \n",
              "50%       0.81     0.88     0.44     0.00     0.00  \n",
              "75%       1.00     1.00     0.81     0.12     0.00  \n",
              "max       1.00     1.00     1.00     1.00     1.00  \n",
              "\n",
              "[8 rows x 64 columns]"
            ],
            "text/html": [
              "\n",
              "\n",
              "  <div id=\"df-ab8d75da-4964-4f74-bc02-185ff125a251\">\n",
              "    <div class=\"colab-df-container\">\n",
              "      <div>\n",
              "<style scoped>\n",
              "    .dataframe tbody tr th:only-of-type {\n",
              "        vertical-align: middle;\n",
              "    }\n",
              "\n",
              "    .dataframe tbody tr th {\n",
              "        vertical-align: top;\n",
              "    }\n",
              "\n",
              "    .dataframe thead th {\n",
              "        text-align: right;\n",
              "    }\n",
              "</style>\n",
              "<table border=\"1\" class=\"dataframe\">\n",
              "  <thead>\n",
              "    <tr style=\"text-align: right;\">\n",
              "      <th></th>\n",
              "      <th>Col1</th>\n",
              "      <th>Col2</th>\n",
              "      <th>Col3</th>\n",
              "      <th>Col4</th>\n",
              "      <th>Col5</th>\n",
              "      <th>Col6</th>\n",
              "      <th>Col7</th>\n",
              "      <th>Col8</th>\n",
              "      <th>Col9</th>\n",
              "      <th>Col10</th>\n",
              "      <th>...</th>\n",
              "      <th>Col55</th>\n",
              "      <th>Col56</th>\n",
              "      <th>Col57</th>\n",
              "      <th>Col58</th>\n",
              "      <th>Col59</th>\n",
              "      <th>Col60</th>\n",
              "      <th>Col61</th>\n",
              "      <th>Col62</th>\n",
              "      <th>Col63</th>\n",
              "      <th>Col64</th>\n",
              "    </tr>\n",
              "  </thead>\n",
              "  <tbody>\n",
              "    <tr>\n",
              "      <th>count</th>\n",
              "      <td>1527.0</td>\n",
              "      <td>1527.00</td>\n",
              "      <td>1527.00</td>\n",
              "      <td>1527.00</td>\n",
              "      <td>1527.00</td>\n",
              "      <td>1527.00</td>\n",
              "      <td>1527.00</td>\n",
              "      <td>1527.00</td>\n",
              "      <td>1527.00</td>\n",
              "      <td>1527.00</td>\n",
              "      <td>...</td>\n",
              "      <td>1527.00</td>\n",
              "      <td>1527.00</td>\n",
              "      <td>1527.00</td>\n",
              "      <td>1527.00</td>\n",
              "      <td>1527.00</td>\n",
              "      <td>1527.00</td>\n",
              "      <td>1527.00</td>\n",
              "      <td>1527.00</td>\n",
              "      <td>1527.00</td>\n",
              "      <td>1527.00</td>\n",
              "    </tr>\n",
              "    <tr>\n",
              "      <th>mean</th>\n",
              "      <td>0.0</td>\n",
              "      <td>0.04</td>\n",
              "      <td>0.32</td>\n",
              "      <td>0.73</td>\n",
              "      <td>0.74</td>\n",
              "      <td>0.37</td>\n",
              "      <td>0.09</td>\n",
              "      <td>0.01</td>\n",
              "      <td>0.00</td>\n",
              "      <td>0.13</td>\n",
              "      <td>...</td>\n",
              "      <td>0.24</td>\n",
              "      <td>0.02</td>\n",
              "      <td>0.00</td>\n",
              "      <td>0.03</td>\n",
              "      <td>0.35</td>\n",
              "      <td>0.76</td>\n",
              "      <td>0.75</td>\n",
              "      <td>0.44</td>\n",
              "      <td>0.14</td>\n",
              "      <td>0.03</td>\n",
              "    </tr>\n",
              "    <tr>\n",
              "      <th>std</th>\n",
              "      <td>0.0</td>\n",
              "      <td>0.11</td>\n",
              "      <td>0.30</td>\n",
              "      <td>0.27</td>\n",
              "      <td>0.27</td>\n",
              "      <td>0.36</td>\n",
              "      <td>0.22</td>\n",
              "      <td>0.08</td>\n",
              "      <td>0.05</td>\n",
              "      <td>0.20</td>\n",
              "      <td>...</td>\n",
              "      <td>0.31</td>\n",
              "      <td>0.08</td>\n",
              "      <td>0.03</td>\n",
              "      <td>0.10</td>\n",
              "      <td>0.32</td>\n",
              "      <td>0.27</td>\n",
              "      <td>0.30</td>\n",
              "      <td>0.37</td>\n",
              "      <td>0.27</td>\n",
              "      <td>0.12</td>\n",
              "    </tr>\n",
              "    <tr>\n",
              "      <th>min</th>\n",
              "      <td>0.0</td>\n",
              "      <td>0.00</td>\n",
              "      <td>0.00</td>\n",
              "      <td>0.00</td>\n",
              "      <td>0.00</td>\n",
              "      <td>0.00</td>\n",
              "      <td>0.00</td>\n",
              "      <td>0.00</td>\n",
              "      <td>0.00</td>\n",
              "      <td>0.00</td>\n",
              "      <td>...</td>\n",
              "      <td>0.00</td>\n",
              "      <td>0.00</td>\n",
              "      <td>0.00</td>\n",
              "      <td>0.00</td>\n",
              "      <td>0.00</td>\n",
              "      <td>0.00</td>\n",
              "      <td>0.00</td>\n",
              "      <td>0.00</td>\n",
              "      <td>0.00</td>\n",
              "      <td>0.00</td>\n",
              "    </tr>\n",
              "    <tr>\n",
              "      <th>25%</th>\n",
              "      <td>0.0</td>\n",
              "      <td>0.00</td>\n",
              "      <td>0.06</td>\n",
              "      <td>0.62</td>\n",
              "      <td>0.62</td>\n",
              "      <td>0.00</td>\n",
              "      <td>0.00</td>\n",
              "      <td>0.00</td>\n",
              "      <td>0.00</td>\n",
              "      <td>0.00</td>\n",
              "      <td>...</td>\n",
              "      <td>0.00</td>\n",
              "      <td>0.00</td>\n",
              "      <td>0.00</td>\n",
              "      <td>0.00</td>\n",
              "      <td>0.06</td>\n",
              "      <td>0.69</td>\n",
              "      <td>0.62</td>\n",
              "      <td>0.00</td>\n",
              "      <td>0.00</td>\n",
              "      <td>0.00</td>\n",
              "    </tr>\n",
              "    <tr>\n",
              "      <th>50%</th>\n",
              "      <td>0.0</td>\n",
              "      <td>0.00</td>\n",
              "      <td>0.25</td>\n",
              "      <td>0.81</td>\n",
              "      <td>0.81</td>\n",
              "      <td>0.25</td>\n",
              "      <td>0.00</td>\n",
              "      <td>0.00</td>\n",
              "      <td>0.00</td>\n",
              "      <td>0.00</td>\n",
              "      <td>...</td>\n",
              "      <td>0.06</td>\n",
              "      <td>0.00</td>\n",
              "      <td>0.00</td>\n",
              "      <td>0.00</td>\n",
              "      <td>0.25</td>\n",
              "      <td>0.81</td>\n",
              "      <td>0.88</td>\n",
              "      <td>0.44</td>\n",
              "      <td>0.00</td>\n",
              "      <td>0.00</td>\n",
              "    </tr>\n",
              "    <tr>\n",
              "      <th>75%</th>\n",
              "      <td>0.0</td>\n",
              "      <td>0.00</td>\n",
              "      <td>0.56</td>\n",
              "      <td>0.94</td>\n",
              "      <td>0.94</td>\n",
              "      <td>0.69</td>\n",
              "      <td>0.00</td>\n",
              "      <td>0.00</td>\n",
              "      <td>0.00</td>\n",
              "      <td>0.19</td>\n",
              "      <td>...</td>\n",
              "      <td>0.44</td>\n",
              "      <td>0.00</td>\n",
              "      <td>0.00</td>\n",
              "      <td>0.00</td>\n",
              "      <td>0.62</td>\n",
              "      <td>1.00</td>\n",
              "      <td>1.00</td>\n",
              "      <td>0.81</td>\n",
              "      <td>0.12</td>\n",
              "      <td>0.00</td>\n",
              "    </tr>\n",
              "    <tr>\n",
              "      <th>max</th>\n",
              "      <td>0.0</td>\n",
              "      <td>1.00</td>\n",
              "      <td>1.00</td>\n",
              "      <td>1.00</td>\n",
              "      <td>1.00</td>\n",
              "      <td>1.00</td>\n",
              "      <td>1.00</td>\n",
              "      <td>1.00</td>\n",
              "      <td>1.00</td>\n",
              "      <td>1.00</td>\n",
              "      <td>...</td>\n",
              "      <td>1.00</td>\n",
              "      <td>1.00</td>\n",
              "      <td>1.00</td>\n",
              "      <td>1.00</td>\n",
              "      <td>1.00</td>\n",
              "      <td>1.00</td>\n",
              "      <td>1.00</td>\n",
              "      <td>1.00</td>\n",
              "      <td>1.00</td>\n",
              "      <td>1.00</td>\n",
              "    </tr>\n",
              "  </tbody>\n",
              "</table>\n",
              "<p>8 rows × 64 columns</p>\n",
              "</div>\n",
              "      <button class=\"colab-df-convert\" onclick=\"convertToInteractive('df-ab8d75da-4964-4f74-bc02-185ff125a251')\"\n",
              "              title=\"Convert this dataframe to an interactive table.\"\n",
              "              style=\"display:none;\">\n",
              "\n",
              "  <svg xmlns=\"http://www.w3.org/2000/svg\" height=\"24px\"viewBox=\"0 0 24 24\"\n",
              "       width=\"24px\">\n",
              "    <path d=\"M0 0h24v24H0V0z\" fill=\"none\"/>\n",
              "    <path d=\"M18.56 5.44l.94 2.06.94-2.06 2.06-.94-2.06-.94-.94-2.06-.94 2.06-2.06.94zm-11 1L8.5 8.5l.94-2.06 2.06-.94-2.06-.94L8.5 2.5l-.94 2.06-2.06.94zm10 10l.94 2.06.94-2.06 2.06-.94-2.06-.94-.94-2.06-.94 2.06-2.06.94z\"/><path d=\"M17.41 7.96l-1.37-1.37c-.4-.4-.92-.59-1.43-.59-.52 0-1.04.2-1.43.59L10.3 9.45l-7.72 7.72c-.78.78-.78 2.05 0 2.83L4 21.41c.39.39.9.59 1.41.59.51 0 1.02-.2 1.41-.59l7.78-7.78 2.81-2.81c.8-.78.8-2.07 0-2.86zM5.41 20L4 18.59l7.72-7.72 1.47 1.35L5.41 20z\"/>\n",
              "  </svg>\n",
              "      </button>\n",
              "\n",
              "\n",
              "\n",
              "    <div id=\"df-33138abb-cec7-4b11-bd2c-1a3a56ab263b\">\n",
              "      <button class=\"colab-df-quickchart\" onclick=\"quickchart('df-33138abb-cec7-4b11-bd2c-1a3a56ab263b')\"\n",
              "              title=\"Suggest charts.\"\n",
              "              style=\"display:none;\">\n",
              "\n",
              "<svg xmlns=\"http://www.w3.org/2000/svg\" height=\"24px\"viewBox=\"0 0 24 24\"\n",
              "     width=\"24px\">\n",
              "    <g>\n",
              "        <path d=\"M19 3H5c-1.1 0-2 .9-2 2v14c0 1.1.9 2 2 2h14c1.1 0 2-.9 2-2V5c0-1.1-.9-2-2-2zM9 17H7v-7h2v7zm4 0h-2V7h2v10zm4 0h-2v-4h2v4z\"/>\n",
              "    </g>\n",
              "</svg>\n",
              "      </button>\n",
              "    </div>\n",
              "\n",
              "<style>\n",
              "  .colab-df-quickchart {\n",
              "    background-color: #E8F0FE;\n",
              "    border: none;\n",
              "    border-radius: 50%;\n",
              "    cursor: pointer;\n",
              "    display: none;\n",
              "    fill: #1967D2;\n",
              "    height: 32px;\n",
              "    padding: 0 0 0 0;\n",
              "    width: 32px;\n",
              "  }\n",
              "\n",
              "  .colab-df-quickchart:hover {\n",
              "    background-color: #E2EBFA;\n",
              "    box-shadow: 0px 1px 2px rgba(60, 64, 67, 0.3), 0px 1px 3px 1px rgba(60, 64, 67, 0.15);\n",
              "    fill: #174EA6;\n",
              "  }\n",
              "\n",
              "  [theme=dark] .colab-df-quickchart {\n",
              "    background-color: #3B4455;\n",
              "    fill: #D2E3FC;\n",
              "  }\n",
              "\n",
              "  [theme=dark] .colab-df-quickchart:hover {\n",
              "    background-color: #434B5C;\n",
              "    box-shadow: 0px 1px 3px 1px rgba(0, 0, 0, 0.15);\n",
              "    filter: drop-shadow(0px 1px 2px rgba(0, 0, 0, 0.3));\n",
              "    fill: #FFFFFF;\n",
              "  }\n",
              "</style>\n",
              "\n",
              "    <script>\n",
              "      async function quickchart(key) {\n",
              "        const containerElement = document.querySelector('#' + key);\n",
              "        const charts = await google.colab.kernel.invokeFunction(\n",
              "            'suggestCharts', [key], {});\n",
              "      }\n",
              "    </script>\n",
              "\n",
              "      <script>\n",
              "\n",
              "function displayQuickchartButton(domScope) {\n",
              "  let quickchartButtonEl =\n",
              "    domScope.querySelector('#df-33138abb-cec7-4b11-bd2c-1a3a56ab263b button.colab-df-quickchart');\n",
              "  quickchartButtonEl.style.display =\n",
              "    google.colab.kernel.accessAllowed ? 'block' : 'none';\n",
              "}\n",
              "\n",
              "        displayQuickchartButton(document);\n",
              "      </script>\n",
              "      <style>\n",
              "    .colab-df-container {\n",
              "      display:flex;\n",
              "      flex-wrap:wrap;\n",
              "      gap: 12px;\n",
              "    }\n",
              "\n",
              "    .colab-df-convert {\n",
              "      background-color: #E8F0FE;\n",
              "      border: none;\n",
              "      border-radius: 50%;\n",
              "      cursor: pointer;\n",
              "      display: none;\n",
              "      fill: #1967D2;\n",
              "      height: 32px;\n",
              "      padding: 0 0 0 0;\n",
              "      width: 32px;\n",
              "    }\n",
              "\n",
              "    .colab-df-convert:hover {\n",
              "      background-color: #E2EBFA;\n",
              "      box-shadow: 0px 1px 2px rgba(60, 64, 67, 0.3), 0px 1px 3px 1px rgba(60, 64, 67, 0.15);\n",
              "      fill: #174EA6;\n",
              "    }\n",
              "\n",
              "    [theme=dark] .colab-df-convert {\n",
              "      background-color: #3B4455;\n",
              "      fill: #D2E3FC;\n",
              "    }\n",
              "\n",
              "    [theme=dark] .colab-df-convert:hover {\n",
              "      background-color: #434B5C;\n",
              "      box-shadow: 0px 1px 3px 1px rgba(0, 0, 0, 0.15);\n",
              "      filter: drop-shadow(0px 1px 2px rgba(0, 0, 0, 0.3));\n",
              "      fill: #FFFFFF;\n",
              "    }\n",
              "  </style>\n",
              "\n",
              "      <script>\n",
              "        const buttonEl =\n",
              "          document.querySelector('#df-ab8d75da-4964-4f74-bc02-185ff125a251 button.colab-df-convert');\n",
              "        buttonEl.style.display =\n",
              "          google.colab.kernel.accessAllowed ? 'block' : 'none';\n",
              "\n",
              "        async function convertToInteractive(key) {\n",
              "          const element = document.querySelector('#df-ab8d75da-4964-4f74-bc02-185ff125a251');\n",
              "          const dataTable =\n",
              "            await google.colab.kernel.invokeFunction('convertToInteractive',\n",
              "                                                     [key], {});\n",
              "          if (!dataTable) return;\n",
              "\n",
              "          const docLinkHtml = 'Like what you see? Visit the ' +\n",
              "            '<a target=\"_blank\" href=https://colab.research.google.com/notebooks/data_table.ipynb>data table notebook</a>'\n",
              "            + ' to learn more about interactive tables.';\n",
              "          element.innerHTML = '';\n",
              "          dataTable['output_type'] = 'display_data';\n",
              "          await google.colab.output.renderOutput(dataTable, element);\n",
              "          const docLink = document.createElement('div');\n",
              "          docLink.innerHTML = docLinkHtml;\n",
              "          element.appendChild(docLink);\n",
              "        }\n",
              "      </script>\n",
              "    </div>\n",
              "  </div>\n"
            ]
          },
          "metadata": {},
          "execution_count": 74
        }
      ]
    },
    {
      "cell_type": "code",
      "source": [
        "#convert the X scaled into new X\n",
        "X = X_scaled.copy()"
      ],
      "metadata": {
        "id": "aR0KeD3XuRqe"
      },
      "execution_count": 75,
      "outputs": []
    },
    {
      "cell_type": "markdown",
      "source": [
        "Now, let's start our task with Q1.1\n",
        "\n",
        "### **1.1. Selecting the optimum k value using Silhouette Coefficient and plot the optimum k values.**"
      ],
      "metadata": {
        "id": "e3H78OPVaz7e"
      }
    },
    {
      "cell_type": "code",
      "source": [
        "# Import libraries required for the task such as Kmean 7 silhouette score\n",
        "from sklearn.cluster import KMeans\n",
        "from sklearn.metrics import silhouette_score\n",
        "\n",
        "\n",
        "# Define a range of k values to try\n",
        "k_values = range(2, 63)\n",
        "# we can adjust the range as needed but for our case we are keeping it till max. possible or 64 features.\n",
        "\n",
        "# Initialize lists to store the Silhouette Coefficients for each k value\n",
        "silhouette_scores = []"
      ],
      "metadata": {
        "id": "Rm63MNaQktTV"
      },
      "execution_count": 76,
      "outputs": []
    },
    {
      "cell_type": "code",
      "source": [
        "# Iterate over each k value\n",
        "for k in k_values:\n",
        "    # Perform K-means clustering\n",
        "    kmeans = KMeans(n_clusters=k, random_state=42)\n",
        "    labels = kmeans.fit_predict(X)\n",
        "\n",
        "    # Calculate the Silhouette Coefficient\n",
        "    score = silhouette_score(X, kmeans.labels_)\n",
        "    silhouette_scores.append(score)"
      ],
      "metadata": {
        "id": "HXh4m4TXbr42"
      },
      "execution_count": null,
      "outputs": []
    },
    {
      "cell_type": "markdown",
      "source": [
        "Let's print the Silhouette scores"
      ],
      "metadata": {
        "id": "OHjUvQMUeSyC"
      }
    },
    {
      "cell_type": "code",
      "source": [
        "# Print the silhouette score rounded off to 3 digits\n",
        "print(\"Silhouette Score:\", np.round(silhouette_scores, decimals=3))"
      ],
      "metadata": {
        "colab": {
          "base_uri": "https://localhost:8080/"
        },
        "id": "d4azJGN7c5ri",
        "outputId": "627c8467-063f-4459-fc85-648fab7b73e9"
      },
      "execution_count": 78,
      "outputs": [
        {
          "output_type": "stream",
          "name": "stdout",
          "text": [
            "Silhouette Score: [0.12  0.128 0.13  0.145 0.156 0.17  0.181 0.194 0.187 0.187 0.186 0.189\n",
            " 0.186 0.18  0.181 0.182 0.184 0.175 0.166 0.168 0.171 0.187 0.164 0.167\n",
            " 0.153 0.152 0.15  0.149 0.14  0.145 0.155 0.167 0.141 0.148 0.146 0.145\n",
            " 0.145 0.144 0.142 0.143 0.144 0.147 0.141 0.14  0.142 0.143 0.144 0.143\n",
            " 0.142 0.137 0.141 0.136 0.141 0.141 0.135 0.138 0.139 0.137 0.138 0.14\n",
            " 0.141]\n"
          ]
        }
      ]
    },
    {
      "cell_type": "markdown",
      "source": [
        "* The Silhouette Coefficient measures clustering quality. It compares each data point in a cluster against each other ranges between -1 to 1.\n",
        "\n",
        "* A data point near -1 is misclassified or assigned to a wrong cluser whereas near +1 indicate that the sample is far away from the neighboring clusters.\n",
        "* A data point near 0 is near the cluster decision boundary and a well-clustered data point is far from the decision border.\n",
        "\n",
        "* We calculate the Silhouette Coefficient for multiple k values and choose the one that maximises this statistic to discover the ideal number of clusters.\n",
        "\n"
      ],
      "metadata": {
        "id": "iPx-9tcQgLT0"
      }
    },
    {
      "cell_type": "code",
      "source": [
        "# Find the index of the maximum Silhouette Coefficient\n",
        "optimal_k_index = silhouette_scores.index(max(silhouette_scores))\n",
        "\n",
        "# Get the optimal k value\n",
        "optimal_k = k_values[optimal_k_index]"
      ],
      "metadata": {
        "id": "kVyzSrUymwqa"
      },
      "execution_count": 79,
      "outputs": []
    },
    {
      "cell_type": "code",
      "source": [
        "# Print the optimal k value\n",
        "print('Optimal k value:', optimal_k)"
      ],
      "metadata": {
        "colab": {
          "base_uri": "https://localhost:8080/"
        },
        "id": "tpGw21lvnGNw",
        "outputId": "f3aaf86f-9ac5-46c3-88ce-6fb20140ca5e"
      },
      "execution_count": 80,
      "outputs": [
        {
          "output_type": "stream",
          "name": "stdout",
          "text": [
            "Optimal k value: 9\n"
          ]
        }
      ]
    },
    {
      "cell_type": "code",
      "source": [
        "# Plot the Silhouette Coefficients for each k value\n",
        "plt.plot(k_values, silhouette_scores, marker='o')\n",
        "plt.xlabel('Number of clusters (k)')\n",
        "plt.ylabel('Silhouette Coefficient')\n",
        "plt.title('Silhouette Coefficient for different k values')\n",
        "\n",
        "# Add numbers on the markers\n",
        "for i, score in enumerate(silhouette_scores):\n",
        "    plt.text(k_values[i], score, str(i+1), ha='center', va='bottom')\n",
        "\n",
        "plt.show()"
      ],
      "metadata": {
        "colab": {
          "base_uri": "https://localhost:8080/",
          "height": 472
        },
        "id": "Otf4J7Eqm_2q",
        "outputId": "fec16d60-efdc-451e-cefb-c06dd2620267"
      },
      "execution_count": 81,
      "outputs": [
        {
          "output_type": "display_data",
          "data": {
            "text/plain": [
              "<Figure size 640x480 with 1 Axes>"
            ],
            "image/png": "[encoded data removed]"
          },
          "metadata": {}
        }
      ]
    },
    {
      "cell_type": "markdown",
      "source": [
        "The graph shows the k value for the peak Silhouette Coefficient score. This shows that the dataset's ideal number of clusters for meaningful and well-defined clustering is <9. The figure helps us choose a good k value for clustering. Beyond that value it will decrease the performance of the model."
      ],
      "metadata": {
        "id": "KEhehupQhBxi"
      }
    },
    {
      "cell_type": "markdown",
      "source": [
        "**1.2. Create clusters using Kmeans and Kmeans++ algorithms with optimal k value found in the previous problem. Report performances using appropriate evaluation metrics. Compare the results.**"
      ],
      "metadata": {
        "id": "pYRbXBIvf7yn"
      }
    },
    {
      "cell_type": "markdown",
      "source": [
        "First, apply the K-mean clustering and check the performance using different performance metrics."
      ],
      "metadata": {
        "id": "jXE4kaApxKQu"
      }
    },
    {
      "cell_type": "code",
      "source": [
        "from sklearn.metrics import completeness_score, homogeneity_score\n",
        "from sklearn.metrics import confusion_matrix\n",
        "\n",
        "# Perform K-means clustering with the optimal k value using K-means algorithm\n",
        "kmeans = KMeans(n_clusters=optimal_k, random_state=42)\n",
        "kmeans.fit(features)\n",
        "kmeans_labels = kmeans.labels_"
      ],
      "metadata": {
        "colab": {
          "base_uri": "https://localhost:8080/"
        },
        "id": "rbfAyQZno5KQ",
        "outputId": "dbffe402-ae7d-44bf-dddb-3b1aaef1770b"
      },
      "execution_count": 97,
      "outputs": [
        {
          "output_type": "stream",
          "name": "stderr",
          "text": [
            "/usr/local/lib/python3.10/dist-packages/sklearn/cluster/_kmeans.py:870: FutureWarning: The default value of `n_init` will change from 10 to 'auto' in 1.4. Set the value of `n_init` explicitly to suppress the warning\n",
            "  warnings.warn(\n"
          ]
        }
      ]
    },
    {
      "cell_type": "code",
      "source": [
        "# Calculate evaluation metrics\n",
        "silhouette = silhouette_score(X, kmeans_labels)\n",
        "inertia = kmeans.inertia_\n",
        "completeness = completeness_score(y, kmeans_labels)\n",
        "homogeneity = homogeneity_score(y, kmeans_labels)\n",
        "\n",
        "\n",
        "# Replace true_labels and kmeans_labels with your data\n",
        "true_labels = y\n",
        "kmeans_labels = kmeans.labels_\n",
        "\n",
        "# Calculate the confusion matrix\n",
        "conf_matrix = confusion_matrix(true_labels, kmeans_labels)\n",
        "\n",
        "# Calculate the purity score\n",
        "purity = np.sum(np.amax(conf_matrix, axis=0)) / np.sum(conf_matrix)"
      ],
      "metadata": {
        "id": "lniKj-c-o-XJ"
      },
      "execution_count": 98,
      "outputs": []
    },
    {
      "cell_type": "code",
      "source": [
        "# print the results\n",
        "print('K-means clustering performance:')\n",
        "print('Silhouette Score:', silhouette)\n",
        "print('Inertia:', inertia)\n",
        "print('Completeness Score:', completeness)\n",
        "print('Homogeneity Score:', homogeneity)\n",
        "print('Purity Score:', purity)"
      ],
      "metadata": {
        "colab": {
          "base_uri": "https://localhost:8080/"
        },
        "id": "UO7h_DV4qZWx",
        "outputId": "43d23b22-013f-4cb7-863c-a052b28210c4"
      },
      "execution_count": 99,
      "outputs": [
        {
          "output_type": "stream",
          "name": "stdout",
          "text": [
            "K-means clustering performance:\n",
            "Silhouette Score: 0.1938016692891812\n",
            "Inertia: 1004381.7550767462\n",
            "Completeness Score: 0.7687151413043897\n",
            "Homogeneity Score: 0.7064358296338668\n",
            "Purity Score: 0.7367387033398821\n"
          ]
        }
      ]
    },
    {
      "cell_type": "markdown",
      "source": [
        "Now, let's try Kmean++ to check whether the performance of clustering model is improved or not."
      ],
      "metadata": {
        "id": "j5D4JFz_xUjQ"
      }
    },
    {
      "cell_type": "code",
      "source": [
        "# Perform K-means clustering with the optimal k value using K-means++ algorithm\n",
        "kmeans_pp = KMeans(n_clusters=optimal_k, init='k-means++', random_state=42)\n",
        "kmeans_pp.fit(X)\n",
        "kmeans_pp_labels = kmeans_pp.labels_"
      ],
      "metadata": {
        "colab": {
          "base_uri": "https://localhost:8080/"
        },
        "id": "0puXZEdWpLIY",
        "outputId": "981b69aa-ff7e-4f70-dea4-05383b939f90"
      },
      "execution_count": 110,
      "outputs": [
        {
          "output_type": "stream",
          "name": "stderr",
          "text": [
            "/usr/local/lib/python3.10/dist-packages/sklearn/cluster/_kmeans.py:870: FutureWarning: The default value of `n_init` will change from 10 to 'auto' in 1.4. Set the value of `n_init` explicitly to suppress the warning\n",
            "  warnings.warn(\n"
          ]
        }
      ]
    },
    {
      "cell_type": "code",
      "source": [
        "# Calculate evaluation metrics\n",
        "silhouette_pp = silhouette_score(X, kmeans_pp_labels)\n",
        "inertia_pp = kmeans_pp.inertia_\n",
        "completeness_pp = completeness_score(y, kmeans_pp_labels)\n",
        "homogeneity_pp = homogeneity_score(y, kmeans_pp_labels)\n",
        "\n",
        "\n",
        "from sklearn.metrics import confusion_matrix\n",
        "\n",
        "# Replace true_labels and kmeans_labels with your data\n",
        "true_labels = y\n",
        "kmeans_pp_labels = kmeans_pp.labels_\n",
        "\n",
        "# Calculate the confusion matrix\n",
        "conf_matrix = confusion_matrix(true_labels, kmeans_pp_labels)\n",
        "\n",
        "# Calculate the purity score\n",
        "purity_pp = np.sum(np.amax(conf_matrix, axis=0)) / np.sum(conf_matrix)\n"
      ],
      "metadata": {
        "id": "QJfMa30upNrD"
      },
      "execution_count": 111,
      "outputs": []
    },
    {
      "cell_type": "code",
      "source": [
        "# Print the Kmean++ results\n",
        "print('\\nK-means++ clustering performance:')\n",
        "print('Silhouette Score K++:', silhouette_pp)\n",
        "print('Inertia K++:', inertia_pp)\n",
        "print('Completeness Score K++:', completeness_pp)\n",
        "print('Homogeneity Score K++:', homogeneity_pp)\n",
        "print('Purity Score K++:', purity_pp)"
      ],
      "metadata": {
        "colab": {
          "base_uri": "https://localhost:8080/"
        },
        "id": "2S6TK2s-t9O7",
        "outputId": "ab90eb54-32fd-4b56-f034-b145b7c37fba"
      },
      "execution_count": 112,
      "outputs": [
        {
          "output_type": "stream",
          "name": "stdout",
          "text": [
            "\n",
            "K-means++ clustering performance:\n",
            "Silhouette Score K++: 0.19385083362670835\n",
            "Inertia K++: 4006.8148445078077\n",
            "Completeness Score K++: 0.7756671996063309\n",
            "Homogeneity Score K++: 0.7128960376538923\n",
            "Purity Score K++: 0.7406679764243614\n"
          ]
        }
      ]
    },
    {
      "cell_type": "code",
      "source": [
        "# Create a table to compare the results\n",
        "results = pd.DataFrame({\n",
        "    'Algorithm': ['KMeans', 'KMeans++'],\n",
        "    'Silhouette Score': [silhouette, silhouette_pp],\n",
        "    'Inertia': [inertia, inertia_pp],\n",
        "    'Completeness Score': [completeness, completeness_pp],\n",
        "    'Homogeneity Score': [homogeneity, homogeneity_pp],\n",
        "    'Purity Score': [purity, purity_pp]\n",
        "})\n",
        "\n",
        "results.round(4)"
      ],
      "metadata": {
        "colab": {
          "base_uri": "https://localhost:8080/",
          "height": 112
        },
        "id": "9iasIinax6kW",
        "outputId": "39ac4ab8-5765-4ff3-9eda-f233e122b3e5"
      },
      "execution_count": 113,
      "outputs": [
        {
          "output_type": "execute_result",
          "data": {
            "text/plain": [
              "  Algorithm  Silhouette Score    Inertia  Completeness Score  \\\n",
              "0    KMeans            0.1938  4006.7668              0.7738   \n",
              "1  KMeans++            0.1939  4006.8148              0.7757   \n",
              "\n",
              "   Homogeneity Score  Purity Score  \n",
              "0             0.7112        0.7367  \n",
              "1             0.7129        0.7407  "
            ],
            "text/html": [
              "\n",
              "\n",
              "  <div id=\"df-fb9ef01c-665c-4409-b117-ffc56310f44b\">\n",
              "    <div class=\"colab-df-container\">\n",
              "      <div>\n",
              "<style scoped>\n",
              "    .dataframe tbody tr th:only-of-type {\n",
              "        vertical-align: middle;\n",
              "    }\n",
              "\n",
              "    .dataframe tbody tr th {\n",
              "        vertical-align: top;\n",
              "    }\n",
              "\n",
              "    .dataframe thead th {\n",
              "        text-align: right;\n",
              "    }\n",
              "</style>\n",
              "<table border=\"1\" class=\"dataframe\">\n",
              "  <thead>\n",
              "    <tr style=\"text-align: right;\">\n",
              "      <th></th>\n",
              "      <th>Algorithm</th>\n",
              "      <th>Silhouette Score</th>\n",
              "      <th>Inertia</th>\n",
              "      <th>Completeness Score</th>\n",
              "      <th>Homogeneity Score</th>\n",
              "      <th>Purity Score</th>\n",
              "    </tr>\n",
              "  </thead>\n",
              "  <tbody>\n",
              "    <tr>\n",
              "      <th>0</th>\n",
              "      <td>KMeans</td>\n",
              "      <td>0.1938</td>\n",
              "      <td>4006.7668</td>\n",
              "      <td>0.7738</td>\n",
              "      <td>0.7112</td>\n",
              "      <td>0.7367</td>\n",
              "    </tr>\n",
              "    <tr>\n",
              "      <th>1</th>\n",
              "      <td>KMeans++</td>\n",
              "      <td>0.1939</td>\n",
              "      <td>4006.8148</td>\n",
              "      <td>0.7757</td>\n",
              "      <td>0.7129</td>\n",
              "      <td>0.7407</td>\n",
              "    </tr>\n",
              "  </tbody>\n",
              "</table>\n",
              "</div>\n",
              "      <button class=\"colab-df-convert\" onclick=\"convertToInteractive('df-fb9ef01c-665c-4409-b117-ffc56310f44b')\"\n",
              "              title=\"Convert this dataframe to an interactive table.\"\n",
              "              style=\"display:none;\">\n",
              "\n",
              "  <svg xmlns=\"http://www.w3.org/2000/svg\" height=\"24px\"viewBox=\"0 0 24 24\"\n",
              "       width=\"24px\">\n",
              "    <path d=\"M0 0h24v24H0V0z\" fill=\"none\"/>\n",
              "    <path d=\"M18.56 5.44l.94 2.06.94-2.06 2.06-.94-2.06-.94-.94-2.06-.94 2.06-2.06.94zm-11 1L8.5 8.5l.94-2.06 2.06-.94-2.06-.94L8.5 2.5l-.94 2.06-2.06.94zm10 10l.94 2.06.94-2.06 2.06-.94-2.06-.94-.94-2.06-.94 2.06-2.06.94z\"/><path d=\"M17.41 7.96l-1.37-1.37c-.4-.4-.92-.59-1.43-.59-.52 0-1.04.2-1.43.59L10.3 9.45l-7.72 7.72c-.78.78-.78 2.05 0 2.83L4 21.41c.39.39.9.59 1.41.59.51 0 1.02-.2 1.41-.59l7.78-7.78 2.81-2.81c.8-.78.8-2.07 0-2.86zM5.41 20L4 18.59l7.72-7.72 1.47 1.35L5.41 20z\"/>\n",
              "  </svg>\n",
              "      </button>\n",
              "\n",
              "\n",
              "\n",
              "    <div id=\"df-65ccc845-bb4d-4d3f-88a8-e7eea7009e06\">\n",
              "      <button class=\"colab-df-quickchart\" onclick=\"quickchart('df-65ccc845-bb4d-4d3f-88a8-e7eea7009e06')\"\n",
              "              title=\"Suggest charts.\"\n",
              "              style=\"display:none;\">\n",
              "\n",
              "<svg xmlns=\"http://www.w3.org/2000/svg\" height=\"24px\"viewBox=\"0 0 24 24\"\n",
              "     width=\"24px\">\n",
              "    <g>\n",
              "        <path d=\"M19 3H5c-1.1 0-2 .9-2 2v14c0 1.1.9 2 2 2h14c1.1 0 2-.9 2-2V5c0-1.1-.9-2-2-2zM9 17H7v-7h2v7zm4 0h-2V7h2v10zm4 0h-2v-4h2v4z\"/>\n",
              "    </g>\n",
              "</svg>\n",
              "      </button>\n",
              "    </div>\n",
              "\n",
              "<style>\n",
              "  .colab-df-quickchart {\n",
              "    background-color: #E8F0FE;\n",
              "    border: none;\n",
              "    border-radius: 50%;\n",
              "    cursor: pointer;\n",
              "    display: none;\n",
              "    fill: #1967D2;\n",
              "    height: 32px;\n",
              "    padding: 0 0 0 0;\n",
              "    width: 32px;\n",
              "  }\n",
              "\n",
              "  .colab-df-quickchart:hover {\n",
              "    background-color: #E2EBFA;\n",
              "    box-shadow: 0px 1px 2px rgba(60, 64, 67, 0.3), 0px 1px 3px 1px rgba(60, 64, 67, 0.15);\n",
              "    fill: #174EA6;\n",
              "  }\n",
              "\n",
              "  [theme=dark] .colab-df-quickchart {\n",
              "    background-color: #3B4455;\n",
              "    fill: #D2E3FC;\n",
              "  }\n",
              "\n",
              "  [theme=dark] .colab-df-quickchart:hover {\n",
              "    background-color: #434B5C;\n",
              "    box-shadow: 0px 1px 3px 1px rgba(0, 0, 0, 0.15);\n",
              "    filter: drop-shadow(0px 1px 2px rgba(0, 0, 0, 0.3));\n",
              "    fill: #FFFFFF;\n",
              "  }\n",
              "</style>\n",
              "\n",
              "    <script>\n",
              "      async function quickchart(key) {\n",
              "        const containerElement = document.querySelector('#' + key);\n",
              "        const charts = await google.colab.kernel.invokeFunction(\n",
              "            'suggestCharts', [key], {});\n",
              "      }\n",
              "    </script>\n",
              "\n",
              "      <script>\n",
              "\n",
              "function displayQuickchartButton(domScope) {\n",
              "  let quickchartButtonEl =\n",
              "    domScope.querySelector('#df-65ccc845-bb4d-4d3f-88a8-e7eea7009e06 button.colab-df-quickchart');\n",
              "  quickchartButtonEl.style.display =\n",
              "    google.colab.kernel.accessAllowed ? 'block' : 'none';\n",
              "}\n",
              "\n",
              "        displayQuickchartButton(document);\n",
              "      </script>\n",
              "      <style>\n",
              "    .colab-df-container {\n",
              "      display:flex;\n",
              "      flex-wrap:wrap;\n",
              "      gap: 12px;\n",
              "    }\n",
              "\n",
              "    .colab-df-convert {\n",
              "      background-color: #E8F0FE;\n",
              "      border: none;\n",
              "      border-radius: 50%;\n",
              "      cursor: pointer;\n",
              "      display: none;\n",
              "      fill: #1967D2;\n",
              "      height: 32px;\n",
              "      padding: 0 0 0 0;\n",
              "      width: 32px;\n",
              "    }\n",
              "\n",
              "    .colab-df-convert:hover {\n",
              "      background-color: #E2EBFA;\n",
              "      box-shadow: 0px 1px 2px rgba(60, 64, 67, 0.3), 0px 1px 3px 1px rgba(60, 64, 67, 0.15);\n",
              "      fill: #174EA6;\n",
              "    }\n",
              "\n",
              "    [theme=dark] .colab-df-convert {\n",
              "      background-color: #3B4455;\n",
              "      fill: #D2E3FC;\n",
              "    }\n",
              "\n",
              "    [theme=dark] .colab-df-convert:hover {\n",
              "      background-color: #434B5C;\n",
              "      box-shadow: 0px 1px 3px 1px rgba(0, 0, 0, 0.15);\n",
              "      filter: drop-shadow(0px 1px 2px rgba(0, 0, 0, 0.3));\n",
              "      fill: #FFFFFF;\n",
              "    }\n",
              "  </style>\n",
              "\n",
              "      <script>\n",
              "        const buttonEl =\n",
              "          document.querySelector('#df-fb9ef01c-665c-4409-b117-ffc56310f44b button.colab-df-convert');\n",
              "        buttonEl.style.display =\n",
              "          google.colab.kernel.accessAllowed ? 'block' : 'none';\n",
              "\n",
              "        async function convertToInteractive(key) {\n",
              "          const element = document.querySelector('#df-fb9ef01c-665c-4409-b117-ffc56310f44b');\n",
              "          const dataTable =\n",
              "            await google.colab.kernel.invokeFunction('convertToInteractive',\n",
              "                                                     [key], {});\n",
              "          if (!dataTable) return;\n",
              "\n",
              "          const docLinkHtml = 'Like what you see? Visit the ' +\n",
              "            '<a target=\"_blank\" href=https://colab.research.google.com/notebooks/data_table.ipynb>data table notebook</a>'\n",
              "            + ' to learn more about interactive tables.';\n",
              "          element.innerHTML = '';\n",
              "          dataTable['output_type'] = 'display_data';\n",
              "          await google.colab.output.renderOutput(dataTable, element);\n",
              "          const docLink = document.createElement('div');\n",
              "          docLink.innerHTML = docLinkHtml;\n",
              "          element.appendChild(docLink);\n",
              "        }\n",
              "      </script>\n",
              "    </div>\n",
              "  </div>\n"
            ]
          },
          "metadata": {},
          "execution_count": 113
        }
      ]
    },
    {
      "cell_type": "markdown",
      "source": [
        "The purpose of comparing KMeans and KMeans++ is to analyse if more better initialisation strategy of KMeans++ leads to a better clustering performance when compared to KMeans.\n",
        "\n",
        "The performance metrics used explains:\n",
        "*  **Silhouette Score**: Measures the quality of clustering by computing the mean silhouette coefficient for each data point, indicating how well it fits within its cluster compared to neighboring clusters.\n",
        "* **Inertia**: Measures the sum of squared distances of samples to their cluster center, serving as a measure of compactness within clusters, and it is minimized during KMeans clustering.\n",
        "* **Completeness Score**: Measures the ability of the clustering algorithm to correctly assign all members of a true class to the same cluster.\n",
        "* **Homogeneity Score**: Measures the ability of the clustering algorithm to group samples from the same true class into a single cluster.\n",
        "* **Purity Score**: Used mainly for clustering evaluation, it measures the proportion of correctly clustered samples with the same true class in a cluster..\n",
        "\n",
        "If we observe that the performance metrics for KMeans++ are significantly better than those for KMeans, it implies that the initialisation strategy used in KMeans++ has played a role in generating clusters that are more well-defined and accurate. On the other hand, if the scores are similar for both algorithms, it suggests that both methods produced clustering of similar quality.\n"
      ],
      "metadata": {
        "id": "alAoH9pkmc0u"
      }
    },
    {
      "cell_type": "markdown",
      "source": [
        "### **Task 3: Repeat clustering using K-means for 50 times and report the average performance. Compare the results obtained in Q2 using K-means++ and explain the difference**"
      ],
      "metadata": {
        "id": "98dQV1q-vm4V"
      }
    },
    {
      "cell_type": "markdown",
      "source": [
        "Here we will increase the repetition of Kmeans for about 50 times and check the average performance."
      ],
      "metadata": {
        "id": "f8X6giNp9nHO"
      }
    },
    {
      "cell_type": "code",
      "source": [
        "# Define the number of repetitions\n",
        "num_repetitions = 50\n",
        "\n",
        "# Initialize lists to store performance metrics for each repetition\n",
        "silhouette_50 = []\n",
        "inertia_50 = []\n",
        "completeness_50 = []\n",
        "homogeneity_50 = []\n",
        "\n",
        "for _ in range(num_repetitions):\n",
        "    # Perform K-means clustering\n",
        "    kmeans_50 = KMeans(n_clusters=optimal_k, random_state=i)\n",
        "    kmeans_50.fit(X)\n",
        "    kmeans_50_labels = kmeans_50.labels_\n",
        "\n",
        "    # Calculate evaluation metrics\n",
        "    silhouette = silhouette_score(X, kmeans_50_labels)\n",
        "    inertia = kmeans.inertia_\n",
        "    completeness = completeness_score(y, kmeans_50_labels)\n",
        "    homogeneity = homogeneity_score(y, kmeans_50_labels)\n",
        "\n",
        "    # Append scores to the lists\n",
        "    silhouette_50.append(silhouette)\n",
        "    inertia_50.append(inertia)\n",
        "    completeness_50.append(completeness)\n",
        "    homogeneity_50.append(homogeneity)"
      ],
      "metadata": {
        "id": "lKKqnoCPvNny"
      },
      "execution_count": null,
      "outputs": []
    },
    {
      "cell_type": "code",
      "source": [
        "# Calculate the purity score\n",
        "\n",
        "# Replace true_labels and kmeans_labels with your data\n",
        "true_labels = y\n",
        "kmeans_50_labels = kmeans_50.labels_\n",
        "\n",
        "# Calculate the confusion matrix\n",
        "conf_matrix = confusion_matrix(true_labels, kmeans_50_labels)\n",
        "\n",
        "# Calculate the purity score\n",
        "purity_50 = np.sum(np.amax(conf_matrix, axis=0)) / np.sum(conf_matrix)"
      ],
      "metadata": {
        "id": "W0b2Sfab-oPa"
      },
      "execution_count": 124,
      "outputs": []
    },
    {
      "cell_type": "code",
      "source": [
        "# Calculate the average performance\n",
        "average_silhouette = np.mean(silhouette_50)\n",
        "average_inertia = np.mean(inertia_50)\n",
        "average_completeness = np.mean(completeness_50)\n",
        "average_homogeneity = np.mean(homogeneity_50)\n",
        "average_purity = np.mean(purity_50)\n",
        "\n",
        "print('Average performance over', num_repetitions, 'repetitions:')\n",
        "print('Average Silhouette Score:', average_silhouette)\n",
        "print('Average Inertia:', average_inertia)\n",
        "print('Average Completeness Score:', average_completeness)\n",
        "print('Average Homogeneity Score:', average_homogeneity)\n",
        "print('Purity Score K++:', average_purity)"
      ],
      "metadata": {
        "colab": {
          "base_uri": "https://localhost:8080/"
        },
        "id": "OUNoQMZkv-Mj",
        "outputId": "31a8dda0-4c93-484e-ffa5-72282757effe"
      },
      "execution_count": 125,
      "outputs": [
        {
          "output_type": "stream",
          "name": "stdout",
          "text": [
            "Average performance over 50 repetitions:\n",
            "Average Silhouette Score: 0.19385667000262527\n",
            "Average Inertia: 4006.774110773601\n",
            "Average Completeness Score: 0.7726361988733561\n",
            "Average Homogeneity Score: 0.7102503983234649\n",
            "Purity Score K++: 0.739358218729535\n"
          ]
        }
      ]
    },
    {
      "cell_type": "markdown",
      "source": [
        "Let's compare the result with the K-mean++ results"
      ],
      "metadata": {
        "id": "q9g4RsvE-ZyL"
      }
    },
    {
      "cell_type": "code",
      "source": [
        "# Create a table to compare the results\n",
        "results = pd.DataFrame({\n",
        "    'Algorithm': ['KMeans++', 'KMeans-50'],\n",
        "    'Silhouette Score': [silhouette_pp, average_silhouette],\n",
        "    'Inertia': [inertia_pp, average_inertia],\n",
        "    'Completeness Score': [ completeness_pp, average_completeness],\n",
        "    'Homogeneity Score': [homogeneity_pp, average_homogeneity],\n",
        "    'Purity Score': [purity_pp, average_purity]\n",
        "})\n",
        "\n",
        "results.round(4)"
      ],
      "metadata": {
        "colab": {
          "base_uri": "https://localhost:8080/",
          "height": 112
        },
        "id": "3ue9Xvxp-ZKL",
        "outputId": "b2f6edfb-8691-44dc-9461-fa04127e206c"
      },
      "execution_count": 126,
      "outputs": [
        {
          "output_type": "execute_result",
          "data": {
            "text/plain": [
              "   Algorithm  Silhouette Score    Inertia  Completeness Score  \\\n",
              "0   KMeans++            0.1939  4006.8148              0.7757   \n",
              "1  KMeans-50            0.1939  4006.7741              0.7726   \n",
              "\n",
              "   Homogeneity Score  Purity Score  \n",
              "0             0.7129        0.7400  \n",
              "1             0.7103        0.7394  "
            ],
            "text/html": [
              "\n",
              "\n",
              "  <div id=\"df-f29bb835-b79a-4af0-83e7-d6735514f003\">\n",
              "    <div class=\"colab-df-container\">\n",
              "      <div>\n",
              "<style scoped>\n",
              "    .dataframe tbody tr th:only-of-type {\n",
              "        vertical-align: middle;\n",
              "    }\n",
              "\n",
              "    .dataframe tbody tr th {\n",
              "        vertical-align: top;\n",
              "    }\n",
              "\n",
              "    .dataframe thead th {\n",
              "        text-align: right;\n",
              "    }\n",
              "</style>\n",
              "<table border=\"1\" class=\"dataframe\">\n",
              "  <thead>\n",
              "    <tr style=\"text-align: right;\">\n",
              "      <th></th>\n",
              "      <th>Algorithm</th>\n",
              "      <th>Silhouette Score</th>\n",
              "      <th>Inertia</th>\n",
              "      <th>Completeness Score</th>\n",
              "      <th>Homogeneity Score</th>\n",
              "      <th>Purity Score</th>\n",
              "    </tr>\n",
              "  </thead>\n",
              "  <tbody>\n",
              "    <tr>\n",
              "      <th>0</th>\n",
              "      <td>KMeans++</td>\n",
              "      <td>0.1939</td>\n",
              "      <td>4006.8148</td>\n",
              "      <td>0.7757</td>\n",
              "      <td>0.7129</td>\n",
              "      <td>0.7400</td>\n",
              "    </tr>\n",
              "    <tr>\n",
              "      <th>1</th>\n",
              "      <td>KMeans-50</td>\n",
              "      <td>0.1939</td>\n",
              "      <td>4006.7741</td>\n",
              "      <td>0.7726</td>\n",
              "      <td>0.7103</td>\n",
              "      <td>0.7394</td>\n",
              "    </tr>\n",
              "  </tbody>\n",
              "</table>\n",
              "</div>\n",
              "      <button class=\"colab-df-convert\" onclick=\"convertToInteractive('df-f29bb835-b79a-4af0-83e7-d6735514f003')\"\n",
              "              title=\"Convert this dataframe to an interactive table.\"\n",
              "              style=\"display:none;\">\n",
              "\n",
              "  <svg xmlns=\"http://www.w3.org/2000/svg\" height=\"24px\"viewBox=\"0 0 24 24\"\n",
              "       width=\"24px\">\n",
              "    <path d=\"M0 0h24v24H0V0z\" fill=\"none\"/>\n",
              "    <path d=\"M18.56 5.44l.94 2.06.94-2.06 2.06-.94-2.06-.94-.94-2.06-.94 2.06-2.06.94zm-11 1L8.5 8.5l.94-2.06 2.06-.94-2.06-.94L8.5 2.5l-.94 2.06-2.06.94zm10 10l.94 2.06.94-2.06 2.06-.94-2.06-.94-.94-2.06-.94 2.06-2.06.94z\"/><path d=\"M17.41 7.96l-1.37-1.37c-.4-.4-.92-.59-1.43-.59-.52 0-1.04.2-1.43.59L10.3 9.45l-7.72 7.72c-.78.78-.78 2.05 0 2.83L4 21.41c.39.39.9.59 1.41.59.51 0 1.02-.2 1.41-.59l7.78-7.78 2.81-2.81c.8-.78.8-2.07 0-2.86zM5.41 20L4 18.59l7.72-7.72 1.47 1.35L5.41 20z\"/>\n",
              "  </svg>\n",
              "      </button>\n",
              "\n",
              "\n",
              "\n",
              "    <div id=\"df-69575e06-2aee-4037-a3c9-4e75372fa727\">\n",
              "      <button class=\"colab-df-quickchart\" onclick=\"quickchart('df-69575e06-2aee-4037-a3c9-4e75372fa727')\"\n",
              "              title=\"Suggest charts.\"\n",
              "              style=\"display:none;\">\n",
              "\n",
              "<svg xmlns=\"http://www.w3.org/2000/svg\" height=\"24px\"viewBox=\"0 0 24 24\"\n",
              "     width=\"24px\">\n",
              "    <g>\n",
              "        <path d=\"M19 3H5c-1.1 0-2 .9-2 2v14c0 1.1.9 2 2 2h14c1.1 0 2-.9 2-2V5c0-1.1-.9-2-2-2zM9 17H7v-7h2v7zm4 0h-2V7h2v10zm4 0h-2v-4h2v4z\"/>\n",
              "    </g>\n",
              "</svg>\n",
              "      </button>\n",
              "    </div>\n",
              "\n",
              "<style>\n",
              "  .colab-df-quickchart {\n",
              "    background-color: #E8F0FE;\n",
              "    border: none;\n",
              "    border-radius: 50%;\n",
              "    cursor: pointer;\n",
              "    display: none;\n",
              "    fill: #1967D2;\n",
              "    height: 32px;\n",
              "    padding: 0 0 0 0;\n",
              "    width: 32px;\n",
              "  }\n",
              "\n",
              "  .colab-df-quickchart:hover {\n",
              "    background-color: #E2EBFA;\n",
              "    box-shadow: 0px 1px 2px rgba(60, 64, 67, 0.3), 0px 1px 3px 1px rgba(60, 64, 67, 0.15);\n",
              "    fill: #174EA6;\n",
              "  }\n",
              "\n",
              "  [theme=dark] .colab-df-quickchart {\n",
              "    background-color: #3B4455;\n",
              "    fill: #D2E3FC;\n",
              "  }\n",
              "\n",
              "  [theme=dark] .colab-df-quickchart:hover {\n",
              "    background-color: #434B5C;\n",
              "    box-shadow: 0px 1px 3px 1px rgba(0, 0, 0, 0.15);\n",
              "    filter: drop-shadow(0px 1px 2px rgba(0, 0, 0, 0.3));\n",
              "    fill: #FFFFFF;\n",
              "  }\n",
              "</style>\n",
              "\n",
              "    <script>\n",
              "      async function quickchart(key) {\n",
              "        const containerElement = document.querySelector('#' + key);\n",
              "        const charts = await google.colab.kernel.invokeFunction(\n",
              "            'suggestCharts', [key], {});\n",
              "      }\n",
              "    </script>\n",
              "\n",
              "      <script>\n",
              "\n",
              "function displayQuickchartButton(domScope) {\n",
              "  let quickchartButtonEl =\n",
              "    domScope.querySelector('#df-69575e06-2aee-4037-a3c9-4e75372fa727 button.colab-df-quickchart');\n",
              "  quickchartButtonEl.style.display =\n",
              "    google.colab.kernel.accessAllowed ? 'block' : 'none';\n",
              "}\n",
              "\n",
              "        displayQuickchartButton(document);\n",
              "      </script>\n",
              "      <style>\n",
              "    .colab-df-container {\n",
              "      display:flex;\n",
              "      flex-wrap:wrap;\n",
              "      gap: 12px;\n",
              "    }\n",
              "\n",
              "    .colab-df-convert {\n",
              "      background-color: #E8F0FE;\n",
              "      border: none;\n",
              "      border-radius: 50%;\n",
              "      cursor: pointer;\n",
              "      display: none;\n",
              "      fill: #1967D2;\n",
              "      height: 32px;\n",
              "      padding: 0 0 0 0;\n",
              "      width: 32px;\n",
              "    }\n",
              "\n",
              "    .colab-df-convert:hover {\n",
              "      background-color: #E2EBFA;\n",
              "      box-shadow: 0px 1px 2px rgba(60, 64, 67, 0.3), 0px 1px 3px 1px rgba(60, 64, 67, 0.15);\n",
              "      fill: #174EA6;\n",
              "    }\n",
              "\n",
              "    [theme=dark] .colab-df-convert {\n",
              "      background-color: #3B4455;\n",
              "      fill: #D2E3FC;\n",
              "    }\n",
              "\n",
              "    [theme=dark] .colab-df-convert:hover {\n",
              "      background-color: #434B5C;\n",
              "      box-shadow: 0px 1px 3px 1px rgba(0, 0, 0, 0.15);\n",
              "      filter: drop-shadow(0px 1px 2px rgba(0, 0, 0, 0.3));\n",
              "      fill: #FFFFFF;\n",
              "    }\n",
              "  </style>\n",
              "\n",
              "      <script>\n",
              "        const buttonEl =\n",
              "          document.querySelector('#df-f29bb835-b79a-4af0-83e7-d6735514f003 button.colab-df-convert');\n",
              "        buttonEl.style.display =\n",
              "          google.colab.kernel.accessAllowed ? 'block' : 'none';\n",
              "\n",
              "        async function convertToInteractive(key) {\n",
              "          const element = document.querySelector('#df-f29bb835-b79a-4af0-83e7-d6735514f003');\n",
              "          const dataTable =\n",
              "            await google.colab.kernel.invokeFunction('convertToInteractive',\n",
              "                                                     [key], {});\n",
              "          if (!dataTable) return;\n",
              "\n",
              "          const docLinkHtml = 'Like what you see? Visit the ' +\n",
              "            '<a target=\"_blank\" href=https://colab.research.google.com/notebooks/data_table.ipynb>data table notebook</a>'\n",
              "            + ' to learn more about interactive tables.';\n",
              "          element.innerHTML = '';\n",
              "          dataTable['output_type'] = 'display_data';\n",
              "          await google.colab.output.renderOutput(dataTable, element);\n",
              "          const docLink = document.createElement('div');\n",
              "          docLink.innerHTML = docLinkHtml;\n",
              "          element.appendChild(docLink);\n",
              "        }\n",
              "      </script>\n",
              "    </div>\n",
              "  </div>\n"
            ]
          },
          "metadata": {},
          "execution_count": 126
        }
      ]
    },
    {
      "cell_type": "markdown",
      "source": [
        "Since KMeans++ is only a variation of KMeans that initialises cluster centres in a smarter way to boost convergence speed and avoid suboptimal solutions, the performance metrics for the two should be very similar. However, due to random initialisation, the actual results may vary slightly. To better understand the variation in performance metrics, we ran KMeans 50 times with different random states which shows that Kmean++ gave quite closely similar but bit better result as expected."
      ],
      "metadata": {
        "id": "2-J3RBHGBXi0"
      }
    },
    {
      "cell_type": "markdown",
      "source": [
        "### **Task 4: Apply DBSCAN on the dataset (digitData2.csv) and find the optimum \"eps\" and \"min_samples\" value. Is the number of clusters the same as the cluster found in Q2? Explain the similarity or differences that you have found between the two solutions.**"
      ],
      "metadata": {
        "id": "glLyQvlk0Jj8"
      }
    },
    {
      "cell_type": "code",
      "source": [
        "# Import DBscan and Nearest Neighbours\n",
        "from sklearn.cluster import DBSCAN\n",
        "from sklearn.neighbors import NearestNeighbors"
      ],
      "metadata": {
        "id": "QFAMMvepENrS"
      },
      "execution_count": null,
      "outputs": []
    },
    {
      "cell_type": "code",
      "source": [
        "# Find the optimum \"eps\" value using the k-distance graph\n",
        "k_dist_graph = NearestNeighbors(n_neighbors=optimal_k)\n",
        "k_dist_graph.fit(X)\n",
        "distances, _ = k_dist_graph.kneighbors(X)\n",
        "distances = np.sort(distances, axis=0)[:, -1]\n",
        "plt.plot(distances)\n",
        "plt.xlabel('Data Points')\n",
        "plt.ylabel('Epsilon (k-dist graph)')\n",
        "plt.title('k-dist graph to find optimum epsilon')\n",
        "plt.show()"
      ],
      "metadata": {
        "colab": {
          "base_uri": "https://localhost:8080/",
          "height": 472
        },
        "id": "vuy31uvLD6DL",
        "outputId": "ba2f0b57-bb2b-49f6-b741-1a6db270728b"
      },
      "execution_count": 129,
      "outputs": [
        {
          "output_type": "display_data",
          "data": {
            "text/plain": [
              "<Figure size 640x480 with 1 Axes>"
            ],
            "image/png": "[encoded data removed]"
          },
          "metadata": {}
        }
      ]
    },
    {
      "cell_type": "code",
      "source": [
        "# Optimal eps value can be observed from the plot, set it accordingly\n",
        "optimal_eps = 2.0\n",
        "\n",
        "# Find the optimum \"min_samples\" value using Silhouette Coefficient\n",
        "silhouette_scores_dbscan = []\n",
        "min_samples_values = range(2, 11)\n",
        "\n",
        "for min_samples in min_samples_values:\n",
        "    dbscan = DBSCAN(eps=optimal_eps, min_samples=min_samples)\n",
        "    dbscan_labels = dbscan.fit_predict(X)\n",
        "    silhouette_scores_dbscan.append(silhouette_score(X, dbscan_labels))\n",
        "\n",
        "# Plot the Silhouette Coefficient scores for different min_samples values\n",
        "plt.plot(min_samples_values, silhouette_scores_dbscan, marker='o')\n",
        "plt.xlabel('min_samples')\n",
        "plt.ylabel('Silhouette Coefficient Score')\n",
        "plt.title('Silhouette Coefficient for Different min_samples values')\n",
        "plt.show()\n"
      ],
      "metadata": {
        "colab": {
          "base_uri": "https://localhost:8080/",
          "height": 472
        },
        "id": "adIxOICSELa-",
        "outputId": "40750e9a-b620-4d68-a390-f52f71f5a2a8"
      },
      "execution_count": 130,
      "outputs": [
        {
          "output_type": "display_data",
          "data": {
            "text/plain": [
              "<Figure size 640x480 with 1 Axes>"
            ],
            "image/png": "[encoded data removed]"
          },
          "metadata": {}
        }
      ]
    },
    {
      "cell_type": "code",
      "source": [
        "# Optimal min_samples value can be observed from the plot, set it accordingly\n",
        "optimal_min_samples = min_samples_values[silhouette_scores_dbscan.index(max(silhouette_scores_dbscan))]\n",
        "\n",
        "# Apply DBSCAN with the optimal parameters\n",
        "dbscan = DBSCAN(eps=optimal_eps, min_samples=optimal_min_samples)\n",
        "dbscan_labels = dbscan.fit_predict(X)\n",
        "\n",
        "# Get the number of clusters\n",
        "num_clusters_dbscan = len(set(dbscan_labels)) - (1 if -1 in dbscan_labels else 0)  # -1 represents noise\n",
        "\n",
        "# Compare the number of clusters\n",
        "print(f\"Number of Clusters found by KMeans and KMeans++: {optimal_k}\")\n",
        "print(f\"Number of Clusters found by DBSCAN: {num_clusters_dbscan}\")"
      ],
      "metadata": {
        "colab": {
          "base_uri": "https://localhost:8080/"
        },
        "id": "k7bn3bqPES0x",
        "outputId": "563b0fb8-3226-489a-e1e2-1b46a3f241b9"
      },
      "execution_count": 131,
      "outputs": [
        {
          "output_type": "stream",
          "name": "stdout",
          "text": [
            "Number of Clusters found by KMeans and KMeans++: 9\n",
            "Number of Clusters found by DBSCAN: 1\n"
          ]
        }
      ]
    },
    {
      "cell_type": "markdown",
      "source": [
        "The number of clusters found by KMeans and KMeans++ is equal to the optimal_k value, which was obtained using the Silhouette Coefficient in Q1.1. On the other hand, DBSCAN does not require specifying the number of clusters explicitly. Instead, it automatically determines the number of clusters based on the density of data points.\n",
        "\n",
        "The differences between the two solutions are:\n",
        "\n",
        "* 1. Cluster Generation:\n",
        "   - KMeans and KMeans++ are centroid-based algorithms that aim to partition the data into a pre-defined number of clusters, where each data point is assigned to the cluster with the nearest centroid.\n",
        "   - DBSCAN, on the other hand, is a density-based algorithm that identifies dense regions as clusters and treats points outside these regions as outliers (noise).\n",
        "\n",
        "* 2. Cluster Shape:\n",
        "   - KMeans and KMeans++ typically produce clusters with convex shapes, as they optimize the sum of squared distances from each point to its assigned cluster centroid.\n",
        "   - DBSCAN can discover clusters of arbitrary shapes and is not limited to convex clusters. It can identify clusters of varying densities and handle noise points effectively.\n",
        "\n",
        "* 3. Handling Outliers:\n",
        "   - KMeans and KMeans++ assign all points to clusters, even if they are far away from the cluster centers. They are sensitive to outliers, and outliers can significantly impact the cluster centroids.\n",
        "   - DBSCAN identifies outliers as points not belonging to any cluster, and it does not force all points into clusters. This makes DBSCAN robust to noise and outliers.\n",
        "\n",
        "* 4. Parameter Dependency:\n",
        "   - KMeans and KMeans++ heavily depend on the initial choice of cluster centroids, and multiple runs with different initializations may lead to different final cluster assignments.\n",
        "   - DBSCAN's performance is less sensitive to initial parameter settings, like \"eps\" and \"min_samples\", due to its density-based nature. The algorithm is less influenced by the initial state and often provides consistent results.\n",
        "\n",
        "In summary, while KMeans and KMeans++ are suitable for data with well-separated and convex clusters, DBSCAN is more appropriate for data with complex shapes, varying cluster densities, and noisy points. The number of clusters is determined automatically by DBSCAN, while KMeans requires specifying the number of clusters beforehand. The choice of algorithm depends on the characteristics of the data and the desired outcomes.\n"
      ],
      "metadata": {
        "id": "p7QBq14ZC_2q"
      }
    },
    {
      "cell_type": "markdown",
      "source": [
        "# **Part 2**\n",
        "Load \"diabetes\" datasets from SKlearn and do the PCA for n=3, and plot the data.\n",
        "### **1. What is the variance (%) covered by the first 3 components? How is this percentage of variance computed?**"
      ],
      "metadata": {
        "id": "IgKroDEy7J_4"
      }
    },
    {
      "cell_type": "code",
      "source": [
        "#load the dataset from sklearn\n",
        "from sklearn.datasets import load_diabetes\n",
        "\n",
        "# Load the diabetes dataset\n",
        "diabetes = load_diabetes()\n",
        "X = diabetes.data"
      ],
      "metadata": {
        "id": "-iiakKs67JYb"
      },
      "execution_count": 132,
      "outputs": []
    },
    {
      "cell_type": "code",
      "source": [
        "#import PCA from sklearn\n",
        "from sklearn.decomposition import PCA\n",
        "from sklearn.manifold import TSNE\n",
        "\n",
        "# Perform PCA for n=3\n",
        "pca = PCA(n_components=3)\n",
        "X_pca = pca.fit_transform(X)\n",
        "\n",
        "# Compute the percentage of variance covered by the first 3 components\n",
        "explained_variance_ratio = pca.explained_variance_ratio_\n",
        "variance_covered = np.sum(explained_variance_ratio) * 100\n",
        "\n",
        "print('Variance covered by the first 3 components: {:.2f}%'.format(variance_covered))"
      ],
      "metadata": {
        "colab": {
          "base_uri": "https://localhost:8080/"
        },
        "id": "i5BhQGNa8I16",
        "outputId": "68c10562-bfcf-448b-f6bd-7a55e415d4e0"
      },
      "execution_count": 133,
      "outputs": [
        {
          "output_type": "stream",
          "name": "stdout",
          "text": [
            "Variance covered by the first 3 components: 67.22%\n"
          ]
        }
      ]
    },
    {
      "cell_type": "markdown",
      "source": [
        "In PCA, you add up the rates of explained variance for the first 3 components to figure out how much of the variance they explain. The explained variance ratio of a component shows how much of the dataset's variation that component can explain. It is worked out by dividing the eigenvalue of the component by the sum of all the eigenvalues. The more important a part is in recording the data's variability, the higher the ratio of explained variance."
      ],
      "metadata": {
        "id": "L0jUyjlCFwsE"
      }
    },
    {
      "cell_type": "markdown",
      "source": [
        "### **2.2. Is there any correlation between these three components?**"
      ],
      "metadata": {
        "id": "hrLEMFUlGXBS"
      }
    },
    {
      "cell_type": "markdown",
      "source": [
        "Calculating the correlation matrix between the three PCA components yields the correlation between these components. The correlation matrix quantifies the linear association between variables. In this instance, the correlation matrix is computed between the three PCA components to determine whether or not they are linearly correlated. If the components are orthogonal (uncorrelated), the off-diagonal elements of the correlation matrix will be close to zero."
      ],
      "metadata": {
        "id": "gPyEutkfGlwf"
      }
    },
    {
      "cell_type": "code",
      "source": [
        "# Calculate the correlation matrix of the three PCA components\n",
        "correlation_matrix = np.corrcoef(X_pca.T)\n",
        "\n",
        "# Plot the correlation matrix as a heatmap\n",
        "plt.figure(figsize=(8, 6))\n",
        "plt.imshow(correlation_matrix, cmap='coolwarm', vmin=-1, vmax=1)\n",
        "plt.colorbar()\n",
        "plt.xticks(range(3), ['PCA 1', 'PCA 2', 'PCA 3'])\n",
        "plt.yticks(range(3), ['PCA 1', 'PCA 2', 'PCA 3'])\n",
        "plt.title('Correlation Matrix of PCA Components')\n",
        "plt.show()"
      ],
      "metadata": {
        "colab": {
          "base_uri": "https://localhost:8080/",
          "height": 545
        },
        "id": "yaEJi1NM8Kyr",
        "outputId": "f786d347-4560-4c71-c592-2214baa5dd2e"
      },
      "execution_count": null,
      "outputs": [
        {
          "output_type": "display_data",
          "data": {
            "text/plain": [
              "<Figure size 800x600 with 2 Axes>"
            ],
            "image/png": "[encoded data removed]"
          },
          "metadata": {}
        }
      ]
    },
    {
      "cell_type": "markdown",
      "source": [
        "### **2.3. Apply t-SNE on the same dataset, select the first 3 components and plot them.**"
      ],
      "metadata": {
        "id": "A1sA1RRTGxhk"
      }
    },
    {
      "cell_type": "code",
      "source": [
        "# Apply t-SNE on the dataset with 3 components\n",
        "tsne = TSNE(n_components=3, random_state=42)\n",
        "X_tsne = tsne.fit_transform(X)\n",
        "\n",
        "# Plot the t-SNE components\n",
        "fig = plt.figure(figsize=(10, 8))\n",
        "ax = fig.add_subplot(111, projection='3d')\n",
        "ax.scatter(X_tsne[:, 0], X_tsne[:, 1], X_tsne[:, 2], c=diabetes.target, cmap='viridis')\n",
        "ax.set_xlabel('t-SNE Component 1')\n",
        "ax.set_ylabel('t-SNE Component 2')\n",
        "ax.set_zlabel('t-SNE Component 3')\n",
        "ax.set_title('t-SNE Components')\n",
        "plt.show()"
      ],
      "metadata": {
        "colab": {
          "base_uri": "https://localhost:8080/",
          "height": 675
        },
        "id": "9m30Ngh68jOz",
        "outputId": "4d2691f7-a7eb-4f5c-8900-69e757cf9482"
      },
      "execution_count": null,
      "outputs": [
        {
          "output_type": "display_data",
          "data": {
            "text/plain": [
              "<Figure size 1000x800 with 1 Axes>"
            ],
            "image/png": "[encoded data removed]"
          },
          "metadata": {}
        }
      ]
    },
    {
      "cell_type": "markdown",
      "source": [
        "The t-SNE is applied to the dataset using the first 3 components obtained from PCA. t-SNE is a non-linear dimensionality reduction technique that aims to preserve the local structures of the data in a lower-dimensional space. The t-SNE plot shows how the data points are projected into a 3D space while preserving their local similarities."
      ],
      "metadata": {
        "id": "KY5gLW8fG7HU"
      }
    },
    {
      "cell_type": "markdown",
      "source": [
        "### **Q.2.4. Report the comparison between the results obtained using t-SNE and PCA**"
      ],
      "metadata": {
        "id": "GDbVX9HYG-TI"
      }
    },
    {
      "cell_type": "markdown",
      "source": [
        "Comparing the results of PCA and t-SNE shows how different they are in how they handle jobs like reducing the number of dimensions and showing the data. PCA is a linear method that keeps global structures and finds the most important patterns. It can be used to compress data and choose which features to use. On the other hand, t-SNE works on keeping local structures, which helps visualise clusters and find local patterns in high-dimensional data. t-SNE is often used to show how the data looks, while PCA is often used to reduce the number of features and figure out the key patterns in the data. The choice between PCA and t-SNE relies on the goals of the analysis and the data set.\n",
        "\n"
      ],
      "metadata": {
        "id": "0AInbA-VHCNj"
      }
    }
  ]
}