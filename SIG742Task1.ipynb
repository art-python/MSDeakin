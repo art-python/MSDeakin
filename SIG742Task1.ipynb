{
  "nbformat": 4,
  "nbformat_minor": 0,
  "metadata": {
    "colab": {
      "provenance": [],
      "collapsed_sections": [
        "Q_82klZn3Rz-",
        "GLE-iElX6rS7"
      ],
      "authorship_tag": "ABX9TyNRo86nEjJ8DyQxvL74uI3Q",
      "include_colab_link": true
    },
    "kernelspec": {
      "name": "python3",
      "display_name": "Python 3"
    },
    "language_info": {
      "name": "python"
    }
  },
  "cells": [
    {
      "cell_type": "markdown",
      "metadata": {
        "id": "view-in-github",
        "colab_type": "text"
      },
      "source": [
        "<a href=\"https://colab.research.google.com/github/art-python/MSDeakin/blob/SIG742-Modern-Data-Science/SIG742Task1.ipynb\" target=\"_parent\"><img src=\"https://colab.research.google.com/assets/colab-badge.svg\" alt=\"Open In Colab\"/></a>"
      ]
    },
    {
      "cell_type": "markdown",
      "source": [
        "**Student ID:** ***S22301452***\n",
        "\n",
        "**Student Name:** ***Anoop Kumar Raut***\n"
      ],
      "metadata": {
        "id": "sLwMLOMx2xSO"
      }
    },
    {
      "cell_type": "markdown",
      "source": [
        "# Part-1"
      ],
      "metadata": {
        "id": "Q_82klZn3Rz-"
      }
    },
    {
      "cell_type": "markdown",
      "source": [
        "### Question 1.1"
      ],
      "metadata": {
        "id": "JHdtAuAL64oH"
      }
    },
    {
      "cell_type": "markdown",
      "source": [
        "ages = [5,31,43,48,50,41,7,11,15,39,80,82,32,2,8,6,25,36,27,61,31] and the length of the list is 21.\n",
        "\n",
        "* find the average value of age (don’t use numpy and do not import other module or library, do not\n",
        "directly use math,statistics module functions except the function sum);\n",
        "* find the standard deviation from the age list (don’t use numpy and do not import other module or\n",
        "library, do not directly use math, statistics module functions except the function sum)\n",
        "\n",
        "**Hints:** You could firstly create a function for calculating the mean, then create the second\n",
        "function for calculate the sum of square deviations of sequence data, then create the thrid one\n",
        "for standard deviation. Check for the steps on how to calculate the standard deviation from\n",
        "https://www.mathsisfun.com/data/standard-deviation-formulas.html\n",
        "\n",
        "Run your defined function(s) to calculate the average value of age and standard deviation of the\n",
        "age from given list\n"
      ],
      "metadata": {
        "id": "-GUYVy8057Zt"
      }
    },
    {
      "cell_type": "markdown",
      "source": [
        "Answer 1.1"
      ],
      "metadata": {
        "id": "X7o6dsYsPj9b"
      }
    },
    {
      "cell_type": "code",
      "source": [
        "# Finding average using basic method\n",
        "\n",
        "ages = [5, 31, 43, 48, 50, 41, 7, 11, 15, 39, 80, 82, 32, 2, 8, 6, 25, 36, 27, 61, 31]"
      ],
      "metadata": {
        "id": "8ZB5mufynalj"
      },
      "execution_count": null,
      "outputs": []
    },
    {
      "cell_type": "code",
      "execution_count": null,
      "metadata": {
        "id": "04q45kcr2aeC",
        "colab": {
          "base_uri": "https://localhost:8080/"
        },
        "outputId": "0fbd4bff-d627-4d66-f1f6-7105ca867ef2"
      },
      "outputs": [
        {
          "output_type": "stream",
          "name": "stdout",
          "text": [
            "Average age: 32.38095238095238\n"
          ]
        }
      ],
      "source": [
        "# Calculate the average using sum and len function\n",
        "avg = sum(ages) / len(ages)\n",
        "\n",
        "print(\"Average age:\", avg)"
      ]
    },
    {
      "cell_type": "markdown",
      "source": [
        "Formula of Standard Deciation:\n",
        "\n",
        "![standard-deviation-formula.svg](data:image/svg+xml;base64,PD94bWwgdmVyc2lvbj0iMS4wIiBlbmNvZGluZz0iVVRGLTgiIHN0YW5kYWxvbmU9Im5vIj8+CjwhLS0gQ29weXJpZ2h0IDIwMTcgbWF0aHNpc2Z1bi5jb20gLS0+Cgo8c3ZnCiAgIHdpZHRoPSIxOTkuODg4IgogICBoZWlnaHQ9IjU4LjY1ODciCiAgIHZlcnNpb249IjEuMSIKICAgaWQ9InN2ZzQ4IgogICBzb2RpcG9kaTpkb2NuYW1lPSJzdGFuZGFyZC1kZXZpYXRpb24tZm9ybXVsYS5zdmciCiAgIGlua3NjYXBlOnZlcnNpb249IjEuMSAoYzY4ZTIyYzM4NywgMjAyMS0wNS0yMykiCiAgIHhtbG5zOmlua3NjYXBlPSJodHRwOi8vd3d3Lmlua3NjYXBlLm9yZy9uYW1lc3BhY2VzL2lua3NjYXBlIgogICB4bWxuczpzb2RpcG9kaT0iaHR0cDovL3NvZGlwb2RpLnNvdXJjZWZvcmdlLm5ldC9EVEQvc29kaXBvZGktMC5kdGQiCiAgIHhtbG5zPSJodHRwOi8vd3d3LnczLm9yZy8yMDAwL3N2ZyIKICAgeG1sbnM6c3ZnPSJodHRwOi8vd3d3LnczLm9yZy8yMDAwL3N2ZyI+CiAgPHNvZGlwb2RpOm5hbWVkdmlldwogICAgIGlkPSJuYW1lZHZpZXc1MCIKICAgICBwYWdlY29sb3I9IiNmZmZmZmYiCiAgICAgYm9yZGVyY29sb3I9IiM2NjY2NjYiCiAgICAgYm9yZGVyb3BhY2l0eT0iMS4wIgogICAgIGlua3NjYXBlOnBhZ2VzaGFkb3c9IjIiCiAgICAgaW5rc2NhcGU6cGFnZW9wYWNpdHk9IjAuMCIKICAgICBpbmtzY2FwZTpwYWdlY2hlY2tlcmJvYXJkPSIwIgogICAgIHNob3dncmlkPSJmYWxzZSIKICAgICBpbmtzY2FwZTpjdXJyZW50LWxheWVyPSJzdmc0OCIKICAgICBzaG93Z3VpZGVzPSJmYWxzZSIKICAgICBpbmtzY2FwZTpzbmFwLWdsb2JhbD0idHJ1ZSIgLz4KICA8ZGVmcwogICAgIGlkPSJkZWZzMiIgLz4KICA8dGV4dAogICAgIHg9Ii0wLjg4NTU1NyIKICAgICB5PSIzNi41MTM3IgogICAgIHN0eWxlPSJjb2xvcjojMDAwMDAwO2ZvbnQtc3R5bGU6bm9ybWFsO2ZvbnQtdmFyaWFudDpub3JtYWw7Zm9udC13ZWlnaHQ6bm9ybWFsO2ZvbnQtc3RyZXRjaDpub3JtYWw7Zm9udC1zaXplOjI0LjUwODRweDtmb250LWZhbWlseTonVHJlYnVjaGV0IE1TJzstaW5rc2NhcGUtZm9udC1zcGVjaWZpY2F0aW9uOidUcmVidWNoZXQgTVMnO292ZXJmbG93OnZpc2libGU7ZmlsbDojZmRjYTAxO3N0cm9rZS13aWR0aDowLjcwMDIzOXB4IgogICAgIGlkPSJ0ZXh0NCI+z4M8L3RleHQ+CiAgPHRleHQKICAgICB4PSIxNy40OTAyIgogICAgIHk9IjQzLjgwODciCiAgICAgdHJhbnNmb3JtPSJzY2FsZSgxLjIzNzk2LDAuODA3NzgxKSIKICAgICBzdHlsZT0iY29sb3I6IzAwMDAwMDtmb250LXN0eWxlOml0YWxpYztmb250LXNpemU6MjQuNTA4NXB4O2ZvbnQtZmFtaWx5OidUcmVidWNoZXQgTVMnO292ZXJmbG93OnZpc2libGU7ZmlsbDojMDE5N2ZkO3N0cm9rZS13aWR0aDowLjcwMDIzOXB4IgogICAgIGlkPSJ0ZXh0NiI+PTwvdGV4dD4KICA8dGV4dAogICAgIHg9IjkxLjY3MDIiCiAgICAgeT0iNTcuMDQwNiIKICAgICBzdHlsZT0iY29sb3I6IzAwMDAwMDtmb250LXN0eWxlOm5vcm1hbDtmb250LXZhcmlhbnQ6bm9ybWFsO2ZvbnQtd2VpZ2h0Om5vcm1hbDtmb250LXN0cmV0Y2g6bm9ybWFsO2ZvbnQtc2l6ZToxNS40MDUycHg7Zm9udC1mYW1pbHk6J1RyZWJ1Y2hldCBNUyc7LWlua3NjYXBlLWZvbnQtc3BlY2lmaWNhdGlvbjonVHJlYnVjaGV0IE1TJztvdmVyZmxvdzp2aXNpYmxlO2ZpbGw6IzAxOTdmZDtzdHJva2Utd2lkdGg6MC43MDAyMzlweCIKICAgICBpZD0idGV4dDgiPmk9MTwvdGV4dD4KICA8dGV4dAogICAgIHg9IjY4LjQ2MDEiCiAgICAgeT0iMjQuNjQ2MiIKICAgICBzdHlsZT0iY29sb3I6IzAwMDAwMDtmb250LXN0eWxlOm5vcm1hbDtmb250LXZhcmlhbnQ6bm9ybWFsO2ZvbnQtd2VpZ2h0Om5vcm1hbDtmb250LXN0cmV0Y2g6bm9ybWFsO2ZvbnQtc2l6ZToyMi40MDc2cHg7Zm9udC1mYW1pbHk6J1RyZWJ1Y2hldCBNUyc7LWlua3NjYXBlLWZvbnQtc3BlY2lmaWNhdGlvbjonVHJlYnVjaGV0IE1TJztvdmVyZmxvdzp2aXNpYmxlO2ZpbGw6IzAxOTdmZDtzdHJva2Utd2lkdGg6MC43MDAyMzlweCIKICAgICBpZD0idGV4dDEwIj4xPC90ZXh0PgogIDx0ZXh0CiAgICAgeD0iMTc3Ljk2OSIKICAgICB5PSIzNy4wMjc4IgogICAgIHN0eWxlPSJjb2xvcjojMDAwMDAwO2ZvbnQtc3R5bGU6bm9ybWFsO2ZvbnQtdmFyaWFudDpub3JtYWw7Zm9udC13ZWlnaHQ6bm9ybWFsO2ZvbnQtc3RyZXRjaDpub3JtYWw7Zm9udC1zaXplOjI0LjUwODRweDtmb250LWZhbWlseTonVHJlYnVjaGV0IE1TJzstaW5rc2NhcGUtZm9udC1zcGVjaWZpY2F0aW9uOidUcmVidWNoZXQgTVMnO292ZXJmbG93OnZpc2libGU7ZmlsbDojYzRhMDAwO3N0cm9rZS13aWR0aDowLjcwMDIzOXB4IgogICAgIGlkPSJ0ZXh0MTIiPik8L3RleHQ+CiAgPHRleHQKICAgICB4PSI5NS45MTYiCiAgICAgeT0iMTYuOTU5NCIKICAgICBzdHlsZT0iY29sb3I6IzAwMDAwMDtmb250LXN0eWxlOm5vcm1hbDtmb250LXZhcmlhbnQ6bm9ybWFsO2ZvbnQtd2VpZ2h0Om5vcm1hbDtmb250LXN0cmV0Y2g6bm9ybWFsO2ZvbnQtc2l6ZToxNS40MDUycHg7Zm9udC1mYW1pbHk6J1RyZWJ1Y2hldCBNUyc7LWlua3NjYXBlLWZvbnQtc3BlY2lmaWNhdGlvbjonVHJlYnVjaGV0IE1TJztvdmVyZmxvdzp2aXNpYmxlO2ZpbGw6IzAxOTdmZDtzdHJva2Utd2lkdGg6MC43MDAyMzlweCIKICAgICBpZD0idGV4dDE0Ij5OPC90ZXh0PgogIDx0ZXh0CiAgICAgeD0iOTAuNTMzIgogICAgIHk9IjQzLjM5NzQiCiAgICAgc3R5bGU9ImNvbG9yOiMwMDAwMDA7Zm9udC1zdHlsZTpub3JtYWw7Zm9udC12YXJpYW50Om5vcm1hbDtmb250LXdlaWdodDpub3JtYWw7Zm9udC1zdHJldGNoOm5vcm1hbDtmb250LXNpemU6MzQuNDM2NXB4O2ZvbnQtZmFtaWx5Okdlb3JnaWE7LWlua3NjYXBlLWZvbnQtc3BlY2lmaWNhdGlvbjpHZW9yZ2lhO292ZXJmbG93OnZpc2libGU7ZmlsbDojMzQ2NWE0O3N0cm9rZS13aWR0aDowLjcwMDIzNnB4IgogICAgIGlkPSJ0ZXh0MTYiPs6jPC90ZXh0PgogIDx0ZXh0CiAgICAgeD0iMTY0Ljg0NyIKICAgICB5PSIzNi40NTA5IgogICAgIHN0eWxlPSJjb2xvcjojMDAwMDAwO2ZvbnQtc3R5bGU6aXRhbGljO2ZvbnQtc2l6ZToyMi40MDc2cHg7Zm9udC1mYW1pbHk6J1RyZWJ1Y2hldCBNUyc7b3ZlcmZsb3c6dmlzaWJsZTtmaWxsOiNjNGEwMDA7c3Ryb2tlLXdpZHRoOjAuNzAwMjM5cHgiCiAgICAgaWQ9InRleHQxOCI+zrw8L3RleHQ+CiAgPHRleHQKICAgICB4PSI2Ni4yMjI2IgogICAgIHk9IjUxLjU3OTkiCiAgICAgc3R5bGU9ImNvbG9yOiMwMDAwMDA7Zm9udC1zdHlsZTpub3JtYWw7Zm9udC12YXJpYW50Om5vcm1hbDtmb250LXdlaWdodDpub3JtYWw7Zm9udC1zdHJldGNoOm5vcm1hbDtmb250LXNpemU6MjIuNDA3NnB4O2ZvbnQtZmFtaWx5OidUcmVidWNoZXQgTVMnOy1pbmtzY2FwZS1mb250LXNwZWNpZmljYXRpb246J1RyZWJ1Y2hldCBNUyc7b3ZlcmZsb3c6dmlzaWJsZTtmaWxsOiMwMTk3ZmQ7c3Ryb2tlLXdpZHRoOjAuNzAwMjM5cHgiCiAgICAgaWQ9InRleHQyMCI+TjwvdGV4dD4KICA8dGV4dAogICAgIHg9IjE0NS45OTMiCiAgICAgeT0iMzguOTIxNiIKICAgICBzdHlsZT0iY29sb3I6IzAwMDAwMDtmb250LXN0eWxlOml0YWxpYztmb250LXNpemU6MjQuNTA4NHB4O2ZvbnQtZmFtaWx5OidUcmVidWNoZXQgTVMnO292ZXJmbG93OnZpc2libGU7ZmlsbDojYzRhMDAwO3N0cm9rZS13aWR0aDowLjcwMDIzOXB4IgogICAgIGlkPSJ0ZXh0MjIiPuKIkjwvdGV4dD4KICA8dGV4dAogICAgIHg9IjE4Ny4xMTkiCiAgICAgeT0iMjYuMzg5OCIKICAgICBzdHlsZT0iY29sb3I6IzAwMDAwMDtmb250LXN0eWxlOm5vcm1hbDtmb250LXZhcmlhbnQ6bm9ybWFsO2ZvbnQtd2VpZ2h0Om5vcm1hbDtmb250LXN0cmV0Y2g6bm9ybWFsO2ZvbnQtc2l6ZToxNS40MDUycHg7Zm9udC1mYW1pbHk6J1RyZWJ1Y2hldCBNUyc7LWlua3NjYXBlLWZvbnQtc3BlY2lmaWNhdGlvbjonVHJlYnVjaGV0IE1TJztvdmVyZmxvdzp2aXNpYmxlO2ZpbGw6I2M0YTAwMDtzdHJva2Utd2lkdGg6MC43MDAyMzlweCIKICAgICBpZD0idGV4dDMwIj4yPC90ZXh0PgogIDxwYXRoCiAgICAgc3R5bGU9ImZvbnQtc2l6ZToxNDRweDtmb250LWZhbWlseTonQ29taWMgU2FucyBNUyc7ZmlsbDpub25lO2ZpbGwtb3BhY2l0eTowLjc1O3N0cm9rZTojMDE5N2ZkO3N0cm9rZS13aWR0aDoxLjQwMDQ4O3N0cm9rZS1taXRlcmxpbWl0OjQ7c3Ryb2tlLWRhc2hhcnJheTpub25lIgogICAgIGQ9Ik0gNTYuMTU4NiwwLjcwMDI0IEggMTk5Ljg4OCIKICAgICBpZD0icGF0aDQwIiAvPgogIDxwYXRoCiAgICAgc3R5bGU9ImZvbnQtc2l6ZToxNDRweDtmb250LWZhbWlseTonQ29taWMgU2FucyBNUyc7ZmlsbDpub25lO2ZpbGwtb3BhY2l0eTowLjc1O3N0cm9rZTojMDE5N2ZkO3N0cm9rZS13aWR0aDoxLjY1OTU2IgogICAgIGQ9Ik0gNjEuNzc3OSwyOS45OTMgSCA4NC45Njc1IgogICAgIGlkPSJwYXRoNDIiIC8+CiAgPHRleHQKICAgICB4PSIxMTcuMjciCiAgICAgeT0iMzcuMDI3OCIKICAgICBzdHlsZT0iY29sb3I6IzAwMDAwMDtmb250LXN0eWxlOm5vcm1hbDtmb250LXZhcmlhbnQ6bm9ybWFsO2ZvbnQtd2VpZ2h0Om5vcm1hbDtmb250LXN0cmV0Y2g6bm9ybWFsO2ZvbnQtc2l6ZToyNC41MDg0cHg7Zm9udC1mYW1pbHk6J1RyZWJ1Y2hldCBNUyc7LWlua3NjYXBlLWZvbnQtc3BlY2lmaWNhdGlvbjonVHJlYnVjaGV0IE1TJztvdmVyZmxvdzp2aXNpYmxlO2ZpbGw6I2M0YTAwMDtzdHJva2Utd2lkdGg6MC43MDAyMzlweCIKICAgICBpZD0idGV4dDE0OTAxIj4oPC90ZXh0PgogIDx0ZXh0CiAgICAgeD0iMTI2LjYwNCIKICAgICB5PSIzNy4wMjc4IgogICAgIHN0eWxlPSJjb2xvcjojMDAwMDAwO2ZvbnQtc3R5bGU6aXRhbGljO2ZvbnQtc2l6ZToyMi40MDc2cHg7Zm9udC1mYW1pbHk6J1RyZWJ1Y2hldCBNUyc7b3ZlcmZsb3c6dmlzaWJsZTtmaWxsOiNjNGEwMDA7c3Ryb2tlLXdpZHRoOjAuNzAwMjM5cHgiCiAgICAgaWQ9InRleHQxNDkwMyI+eDwvdGV4dD4KICA8dGV4dAogICAgIHg9IjEzNy43MyIKICAgICB5PSI0My40NDYyIgogICAgIHN0eWxlPSJjb2xvcjojMDAwMDAwO2ZvbnQtc3R5bGU6aXRhbGljO2ZvbnQtc2l6ZToxNi44MDU3cHg7Zm9udC1mYW1pbHk6J1RyZWJ1Y2hldCBNUyc7b3ZlcmZsb3c6dmlzaWJsZTtmaWxsOiNjNGEwMDA7c3Ryb2tlLXdpZHRoOjAuNzAwMjM5cHgiCiAgICAgaWQ9InRleHQxNzQyMSI+aTwvdGV4dD4KICA8cGF0aAogICAgIHN0eWxlPSJmb250LXZhcmlhdGlvbi1zZXR0aW5nczpub3JtYWw7b3BhY2l0eToxO2ZpbGw6bm9uZTtmaWxsLW9wYWNpdHk6MC43NTtmaWxsLXJ1bGU6ZXZlbm9kZDtzdHJva2U6IzAxOTdmZDtzdHJva2Utd2lkdGg6MS40MDA0ODtzdHJva2UtbGluZWNhcDpidXR0O3N0cm9rZS1saW5lam9pbjptaXRlcjtzdHJva2UtbWl0ZXJsaW1pdDo0O3N0cm9rZS1kYXNoYXJyYXk6bm9uZTtzdHJva2UtZGFzaG9mZnNldDowO3N0cm9rZS1vcGFjaXR5OjE7c3RvcC1jb2xvcjojMDAwMDAwO3N0b3Atb3BhY2l0eToxIgogICAgIGQ9Im0gNDEuMTQzMSw0NS41NDcgMy41Njg4LC00LjY2NjkgNS40OTA2LDE3LjU2OTcgNS45NTYxLC01Ny43NDk1NiIKICAgICBpZD0icGF0aDE4Njk3IgogICAgIHNvZGlwb2RpOm5vZGV0eXBlcz0iY2NjYyIgLz4KPC9zdmc+Cg==)"
      ],
      "metadata": {
        "id": "AwoYhR4doFKX"
      }
    },
    {
      "cell_type": "code",
      "source": [
        "# Calculate the std. deviation using the basic method\n",
        "\n",
        "# Calculate the squared difference\n",
        "sq_diff = [(age - avg) ** 2 for age in ages]\n",
        "\n",
        "# Calculate the average of squared differences\n",
        "avg_sq_diff = sum(sq_diff) / len(ages)\n",
        "\n",
        "# Calculate the standard deviation (square root of average of squarred difference)\n",
        "std_dev = avg_sq_diff ** 0.5\n",
        "\n",
        "print(\"Standard Deviation:\", std_dev)\n"
      ],
      "metadata": {
        "colab": {
          "base_uri": "https://localhost:8080/"
        },
        "id": "Nbsn3fA1lab2",
        "outputId": "b8d6f2e8-c19c-4fb0-c2b6-fd5f2702799c"
      },
      "execution_count": null,
      "outputs": [
        {
          "output_type": "stream",
          "name": "stdout",
          "text": [
            "Standard Deviation: 22.67886826452407\n"
          ]
        }
      ]
    },
    {
      "cell_type": "code",
      "source": [
        "# Lets try using seperate functions for each terms\n",
        "\n",
        "# function to calculate the average\n",
        "def mean(ages):\n",
        "  return sum(ages)/len(ages)\n",
        "\n",
        "# function to calculate the sum of the squares of the deviations\n",
        "def sq_dev (ages,mean):\n",
        "  sq_dev = [(x - mean(ages)) ** 2 for x in ages]\n",
        "  return sum(sq_dev)\n",
        "\n",
        "# function to calculate the standard deviation\n",
        "def std_dev(ages):\n",
        "  ages_mean = mean(ages)\n",
        "  sum_squarred_deviation = sq_dev(ages, mean)\n",
        "  variance =  sum_squarred_deviation / len(ages)\n",
        "  return variance ** 0.5"
      ],
      "metadata": {
        "id": "753D5nthqNCS"
      },
      "execution_count": null,
      "outputs": []
    },
    {
      "cell_type": "code",
      "source": [
        "# now let's use the above function to calculate the standard deviation\n",
        "\n",
        "standard_deviation = std_dev(ages)\n",
        "print(\"Standard Deviation:\", standard_deviation)"
      ],
      "metadata": {
        "colab": {
          "base_uri": "https://localhost:8080/"
        },
        "id": "bXyr30Bms-vE",
        "outputId": "3e70ad76-59ad-44c6-83b5-e0261cb9594e"
      },
      "execution_count": null,
      "outputs": [
        {
          "output_type": "stream",
          "name": "stdout",
          "text": [
            "Standard Deviation: 22.67886826452407\n"
          ]
        }
      ]
    },
    {
      "cell_type": "markdown",
      "source": [
        "### Question 1.2"
      ],
      "metadata": {
        "id": "-Lcjdrh269jU"
      }
    },
    {
      "cell_type": "markdown",
      "source": [
        "Writing the code or function to achieve below requirements:\n",
        "* You are given the heads of two sorted linked lists list1 = [1,2,4] and list2 = [1,3,4]. Merge\n",
        "the two lists in a one sorted list which is [1,1,2,3,4,4]. (don’t use numpy or import other\n",
        "module / library);\n",
        "* You are given the heads of two sorted linked lists list1 = [1,2,4] and list2 = [1,3,4]. Merge\n",
        "the two lists in a one sorted list without duplicated elements which is [1,2,3,4]. (don’t use\n",
        "numpy or import other module / library);"
      ],
      "metadata": {
        "id": "BmoNW1cv6QoP"
      }
    },
    {
      "cell_type": "markdown",
      "source": [
        "Answer 1.2"
      ],
      "metadata": {
        "id": "-KXLDhJyPoPl"
      }
    },
    {
      "cell_type": "code",
      "source": [
        "# list 1 as proposed\n",
        "list1 = [1,2,4]\n",
        "\n",
        "# list 2 as proposed\n",
        "list2 = [1,3,4]"
      ],
      "metadata": {
        "id": "AgFvxETc3U_F"
      },
      "execution_count": null,
      "outputs": []
    },
    {
      "cell_type": "code",
      "source": [
        "# Here we will use the sort function to sort the joint list (list 1 and list 2)\n",
        "\n",
        "merge_list = sorted(list1 + list2)\n",
        "\n",
        "print(merge_list)"
      ],
      "metadata": {
        "colab": {
          "base_uri": "https://localhost:8080/"
        },
        "id": "iOr2jxi4fg3s",
        "outputId": "b6778355-7c21-4141-c985-a752c122acd4"
      },
      "execution_count": null,
      "outputs": [
        {
          "output_type": "stream",
          "name": "stdout",
          "text": [
            "[1, 1, 2, 3, 4, 4]\n"
          ]
        }
      ]
    },
    {
      "cell_type": "code",
      "source": [
        "# Here we will use the set function to sort the value without repeating any duplicates\n",
        "merge2_list = set(list1 + list2)\n",
        "\n",
        "print(merge2_list)"
      ],
      "metadata": {
        "colab": {
          "base_uri": "https://localhost:8080/"
        },
        "id": "j27hVwqBgiZ6",
        "outputId": "b57de91d-8135-4b62-c5fe-d501ecc41b2b"
      },
      "execution_count": null,
      "outputs": [
        {
          "output_type": "stream",
          "name": "stdout",
          "text": [
            "{1, 2, 3, 4}\n"
          ]
        }
      ]
    },
    {
      "cell_type": "markdown",
      "source": [
        "### Question 1.3"
      ],
      "metadata": {
        "id": "09Y9O1b_7D0D"
      }
    },
    {
      "cell_type": "markdown",
      "source": [
        "You are required to design the code (by writing code or function) could achieve the mobile\n",
        "number searching mechanism which could allow you to:\n",
        "\n",
        "* for Four mobile numbers in a list [’10009091003’,’10008293312’,’10007838282’, ‘130001002’]\n",
        "* print “Yes” when last digit in mobile number is not 3\n",
        "* print “No” when last digit in mobile number is 3\n",
        "* print “Not Valid” when length of the mobile number is small than 11 digits\n",
        "\n",
        "(Optional: You could import re to use the regex function)"
      ],
      "metadata": {
        "id": "0fNXmfil6aE5"
      }
    },
    {
      "cell_type": "markdown",
      "source": [
        "Answer 1.3"
      ],
      "metadata": {
        "id": "zGYuY0iBPrrS"
      }
    },
    {
      "cell_type": "code",
      "source": [
        "# Let's first create a list of mobile numbers\n",
        "\n",
        "# List of mobile numbers\n",
        "mobile_numbers = ['10009091003', '10008293312', '10007838282', '130001002']"
      ],
      "metadata": {
        "id": "wVQvBjLK6ofv"
      },
      "execution_count": null,
      "outputs": []
    },
    {
      "cell_type": "code",
      "source": [
        "def search (mobile_numbers):\n",
        "  result = []\n",
        "\n",
        "  for i in mobile_numbers:\n",
        "    if len(i) < 11:\n",
        "      result.append('Not Valid')\n",
        "    else:\n",
        "      if i[-1] != '3':\n",
        "        result.append('Yes')\n",
        "      else:\n",
        "        result.append('No')\n",
        "\n",
        "  return result"
      ],
      "metadata": {
        "id": "Gx3zBxJf5G8v"
      },
      "execution_count": null,
      "outputs": []
    },
    {
      "cell_type": "code",
      "source": [
        "search(mobile_numbers)"
      ],
      "metadata": {
        "colab": {
          "base_uri": "https://localhost:8080/"
        },
        "id": "WsrVQjt68xJh",
        "outputId": "12702886-2670-4c96-f44b-0f3d547f1aeb"
      },
      "execution_count": null,
      "outputs": [
        {
          "output_type": "execute_result",
          "data": {
            "text/plain": [
              "['No', 'Yes', 'Yes', 'Not Valid']"
            ]
          },
          "metadata": {},
          "execution_count": 20
        }
      ]
    },
    {
      "cell_type": "markdown",
      "source": [
        "### Question 1.4"
      ],
      "metadata": {
        "id": "bIA_TjxV6nhR"
      }
    },
    {
      "cell_type": "markdown",
      "source": [
        "You are required to use For statement to print out below * mark in 5 lines (must use control flow\n",
        "such as For statement).\n",
        "\n",
        "&ast;\n",
        "\n",
        "&ast; &ast;\n",
        "\n",
        "&ast; &ast; &ast;\n",
        "\n",
        "&ast; &ast; &ast; &ast;\n",
        "\n",
        "&ast; &ast; &ast; &ast; &ast;\n",
        "\n",
        "Example only (you could use others like While)\n",
        "\n",
        "For i in range ( 5 ) :\n",
        "    \n",
        "      #continue to write your code in below#\n",
        "\n",
        "Please do not directly print it out, you must finish the question with control flow syntax."
      ],
      "metadata": {
        "id": "s7w1T4GR7RE4"
      }
    },
    {
      "cell_type": "markdown",
      "source": [
        "Answer 1.4"
      ],
      "metadata": {
        "id": "xGvNkMFuPu9a"
      }
    },
    {
      "cell_type": "code",
      "source": [
        "for i in range (5):\n",
        "  print(\"*\" * (i + 1))"
      ],
      "metadata": {
        "id": "x8hIwTeI9iqE",
        "colab": {
          "base_uri": "https://localhost:8080/"
        },
        "outputId": "200d9820-3a61-48fb-de08-c90314ebb45b"
      },
      "execution_count": null,
      "outputs": [
        {
          "output_type": "stream",
          "name": "stdout",
          "text": [
            "*\n",
            "**\n",
            "***\n",
            "****\n",
            "*****\n"
          ]
        }
      ]
    },
    {
      "cell_type": "markdown",
      "source": [
        "### Question 1.5"
      ],
      "metadata": {
        "id": "06Sg5WBA8Fsh"
      }
    },
    {
      "cell_type": "markdown",
      "source": [
        "\n",
        "Given list A = [1,2,3,[4,5,[’x1’,6,[1,2,3,’\n",
        "sig742’]]]],\n",
        "\n",
        "writing a function to print 1,2,3,4,5,x1,6,1,2,3,sig742\n",
        "(must define a function to run, the input for function is list A, run the function and print the results line by line or in one line)\n"
      ],
      "metadata": {
        "id": "FPneBkRv9laN"
      }
    },
    {
      "cell_type": "markdown",
      "source": [
        "Answer 1.5"
      ],
      "metadata": {
        "id": "xzSfnL4xPxmS"
      }
    },
    {
      "cell_type": "code",
      "source": [
        "# first create the list\n",
        "A = [1, 2, 3, [4, 5, ['x1', 6, [1, 2, 3, 'sig742']]]]"
      ],
      "metadata": {
        "id": "UoFrITLTPqi6"
      },
      "execution_count": null,
      "outputs": []
    },
    {
      "cell_type": "code",
      "source": [
        "def custom_print(List):\n",
        "  for item in List:\n",
        "    if type(item) == list:\n",
        "      custom_print(item)\n",
        "    else:\n",
        "      print(item)"
      ],
      "metadata": {
        "id": "IlmD5dTYKIpw"
      },
      "execution_count": null,
      "outputs": []
    },
    {
      "cell_type": "code",
      "source": [
        "custom_print(A)"
      ],
      "metadata": {
        "colab": {
          "base_uri": "https://localhost:8080/"
        },
        "id": "xm6bmB26Ml0u",
        "outputId": "2583ec73-faf3-4d5b-b5f6-281bd5a50328"
      },
      "execution_count": null,
      "outputs": [
        {
          "output_type": "stream",
          "name": "stdout",
          "text": [
            "1\n",
            "2\n",
            "3\n",
            "4\n",
            "5\n",
            "x1\n",
            "6\n",
            "1\n",
            "2\n",
            "3\n",
            "sig742\n"
          ]
        }
      ]
    },
    {
      "cell_type": "markdown",
      "source": [
        "### Question 1.6"
      ],
      "metadata": {
        "id": "ec1FKiTOPsfQ"
      }
    },
    {
      "cell_type": "markdown",
      "source": [
        "Write the code or function to achieve:\n",
        "\n",
        "Sort the dictionary list=[{′name′: a, ′age′: 55}, {′name′: b, ′age′: 30}, {′name′: c, ′age′: 50}]\n",
        "\n",
        "with the value of age (from smallest to largest, you could use default sorted function)."
      ],
      "metadata": {
        "id": "Nak8Ji85PvvN"
      }
    },
    {
      "cell_type": "markdown",
      "source": [
        "Answer 1.6"
      ],
      "metadata": {
        "id": "j9gOPxgkPzoc"
      }
    },
    {
      "cell_type": "code",
      "source": [
        "# first create the dictionary as suggested having age and name\n",
        "\n",
        "new_list_unsorted=[{'name': 'a', 'age': 55}, {'name': 'b', 'age': 30}, {'name': 'c', 'age': 50}]"
      ],
      "metadata": {
        "id": "-yVpx83KQNWC"
      },
      "execution_count": null,
      "outputs": []
    },
    {
      "cell_type": "code",
      "source": [
        "new_list_unsorted"
      ],
      "metadata": {
        "colab": {
          "base_uri": "https://localhost:8080/"
        },
        "id": "Kdv1mwPcdBL9",
        "outputId": "4bb2d94c-de0b-4e59-8417-0b833bcf878a"
      },
      "execution_count": null,
      "outputs": [
        {
          "output_type": "execute_result",
          "data": {
            "text/plain": [
              "[{'name': 'a', 'age': 55}, {'name': 'b', 'age': 30}, {'name': 'c', 'age': 50}]"
            ]
          },
          "metadata": {},
          "execution_count": 6
        }
      ]
    },
    {
      "cell_type": "code",
      "source": [
        "# now to sort the value from smallest to largest we can use sort function\n",
        "\n",
        "# sort function needs itemgetter function\n",
        "from operator import itemgetter\n",
        "\n",
        "new_list_sorted = sorted(new_list_unsorted, key=itemgetter('age'))"
      ],
      "metadata": {
        "id": "E40fSz1-YSdX"
      },
      "execution_count": null,
      "outputs": []
    },
    {
      "cell_type": "code",
      "source": [
        "new_list_sorted"
      ],
      "metadata": {
        "colab": {
          "base_uri": "https://localhost:8080/"
        },
        "id": "uaseGY9lbnhN",
        "outputId": "d9f6d377-e42f-4fc3-adaa-2579a2dbaa8e"
      },
      "execution_count": null,
      "outputs": [
        {
          "output_type": "execute_result",
          "data": {
            "text/plain": [
              "[{'name': 'b', 'age': 30}, {'name': 'c', 'age': 50}, {'name': 'a', 'age': 55}]"
            ]
          },
          "metadata": {},
          "execution_count": 5
        }
      ]
    },
    {
      "cell_type": "markdown",
      "source": [
        "### Question 1.7"
      ],
      "metadata": {
        "id": "_lGgr5fLQZHQ"
      }
    },
    {
      "cell_type": "markdown",
      "source": [
        "Define two functions to sum your student ID (all numeric digits in the ID) and then find out if the\n",
        "result is an odd number or even number there are two functions for you to implement (you\n",
        "must create the below two functions):\n",
        "\n",
        "* one is sum_digits,\n",
        "* another one is check_studentid.\n",
        "\n",
        "your code will have two functions as below:\n",
        "\n",
        "* def sum_digits ( studentid ):\n",
        "       #write your code here\n",
        "       return sum_digits_result\n",
        "\n",
        "* def check_studentid (sum_digits_result) :\n",
        "       #write your code here\n",
        "\n",
        "Run your functions to find out the result and the result must illustrate whether the result from\n",
        "function check_studentid is odd or even number (this is critical to be used for Question 2)."
      ],
      "metadata": {
        "id": "WFZLZzuYQbXB"
      }
    },
    {
      "cell_type": "markdown",
      "source": [
        "Answer 1.7"
      ],
      "metadata": {
        "id": "IJxQ73_MP1iR"
      }
    },
    {
      "cell_type": "markdown",
      "source": [
        "Solution 1.7\n",
        "\n",
        "(a) Let's create a function to get the sum of digits in the student_id"
      ],
      "metadata": {
        "id": "uEYeznCGIdZ_"
      }
    },
    {
      "cell_type": "code",
      "source": [
        "student_id =  'S22301452'"
      ],
      "metadata": {
        "id": "NMZHO6rw3Zm-"
      },
      "execution_count": null,
      "outputs": []
    },
    {
      "cell_type": "code",
      "source": [
        "# let;s define a function to total the digits in the student_id\n",
        "def sum_digits(student_id):\n",
        "\n",
        "    # we need to initialize a variable to store the sum of digits\n",
        "    total = 0\n",
        "\n",
        "    # iterate through the characters in the student ID\n",
        "    for i in student_id:\n",
        "        # Check if the character is a numeric digit\n",
        "        if i.isdigit():\n",
        "            # Convert the character to an integer and add it to the total\n",
        "            total += int(i)\n",
        "\n",
        "    return total"
      ],
      "metadata": {
        "id": "X0gmTnotHz22"
      },
      "execution_count": null,
      "outputs": []
    },
    {
      "cell_type": "code",
      "source": [
        "# Calculate the sum of digits in the student ID\n",
        "id_sum = sum_digits(student_id)\n",
        "print(\"Sum of digits:\", id_sum)"
      ],
      "metadata": {
        "colab": {
          "base_uri": "https://localhost:8080/"
        },
        "id": "LSbiGIWdH8Cv",
        "outputId": "3bfbfef1-70c1-479e-b6be-c27c57e94f32"
      },
      "execution_count": null,
      "outputs": [
        {
          "output_type": "stream",
          "name": "stdout",
          "text": [
            "Sum of digits: 19\n"
          ]
        }
      ]
    },
    {
      "cell_type": "markdown",
      "source": [
        "(b) Let's create a function to take the sum obtained from sum_digits as input and checks whether the result is an odd or even number."
      ],
      "metadata": {
        "id": "4v-0ZajEIyNp"
      }
    },
    {
      "cell_type": "code",
      "source": [
        "def check_studentid(student_id):\n",
        "\n",
        "    # first we n eed to call the sum_digits function to calculate the sum of digits\n",
        "    id_sum = sum_digits(student_id)\n",
        "\n",
        "    # Check if the sum is even or odd\n",
        "    if id_sum % 2 == 0:\n",
        "        return \"Even\"\n",
        "    else:\n",
        "        return \"Odd\""
      ],
      "metadata": {
        "id": "F3WVTgrUIZmS"
      },
      "execution_count": null,
      "outputs": []
    },
    {
      "cell_type": "code",
      "source": [
        "# Now let's check if sum of digits in the student ID is even or odd\n",
        "result = check_studentid(student_id)\n",
        "print(\"The total sum of the digits is an\", result, \"number.\")"
      ],
      "metadata": {
        "colab": {
          "base_uri": "https://localhost:8080/"
        },
        "id": "O0LAnCvOJ7uS",
        "outputId": "d7be352d-f1ad-4112-e3fb-4391f0e7da05"
      },
      "execution_count": null,
      "outputs": [
        {
          "output_type": "stream",
          "name": "stdout",
          "text": [
            "The total sum of the digits is an Odd number.\n"
          ]
        }
      ]
    },
    {
      "cell_type": "markdown",
      "source": [
        "So, it's a **Odd** Number"
      ],
      "metadata": {
        "id": "Jjx5gNQD3Rsm"
      }
    },
    {
      "cell_type": "markdown",
      "source": [
        "### Question 1.8"
      ],
      "metadata": {
        "id": "bYQLRj7K3Y1N"
      }
    },
    {
      "cell_type": "markdown",
      "source": [
        "Given an array of integers [1, 2, 6, 8], return indices of the two numbers such that they add up\n",
        "to 10.You may assume that each input would have exactly one solution.\n",
        "Explanation\n",
        "Given nums = [1, 2, 6, 8], target = 10,\n",
        "Because nums[1] + nums[3] = 2 + 8 = 10,\n",
        "return [1, 3].\n",
        "Your code should have a defined function which could take the array nums= [1, 2, 6, 8] as input\n",
        "and run the function to return a list [1,3] (only [1,3])"
      ],
      "metadata": {
        "id": "folCIJvyRabN"
      }
    },
    {
      "cell_type": "markdown",
      "source": [
        "Answer 1.8"
      ],
      "metadata": {
        "id": "_2wLVdKtP4Bw"
      }
    },
    {
      "cell_type": "code",
      "source": [
        "# Example array and target value\n",
        "array = [1, 2, 6, 8]"
      ],
      "metadata": {
        "id": "zDVCgZLhMsGW"
      },
      "execution_count": null,
      "outputs": []
    },
    {
      "cell_type": "code",
      "source": [
        "def two_sum(array):\n",
        "\n",
        "    # Create a dictionary to store the indices of numbers\n",
        "    array_indices = {}\n",
        "\n",
        "    for i, num in enumerate(nums):\n",
        "        comp = 10 - num\n",
        "        if comp in array_indices:\n",
        "            return [array_indices[comp], i]\n",
        "        array_indices[num] = i\n",
        "\n",
        "    return None  # Return None if no solution is found"
      ],
      "metadata": {
        "id": "YpPnEkOuRX8n"
      },
      "execution_count": null,
      "outputs": []
    },
    {
      "cell_type": "code",
      "source": [
        "# Call the function and print the result\n",
        "result = two_sum(array)\n",
        "print(result)  # Output: [1, 3]"
      ],
      "metadata": {
        "colab": {
          "base_uri": "https://localhost:8080/"
        },
        "id": "fzuACaLDMCyV",
        "outputId": "6e74a34a-c252-4103-9440-41597855025d"
      },
      "execution_count": null,
      "outputs": [
        {
          "output_type": "stream",
          "name": "stdout",
          "text": [
            "[1, 3]\n"
          ]
        }
      ]
    },
    {
      "cell_type": "markdown",
      "source": [
        "### =============== THE END ==============="
      ],
      "metadata": {
        "id": "2-GLpn41P6T9"
      }
    },
    {
      "cell_type": "markdown",
      "source": [
        "# Part-2"
      ],
      "metadata": {
        "id": "yGK7O4684VIu"
      }
    },
    {
      "cell_type": "markdown",
      "source": [
        "As in Q.1.7 our output result came out to be an Odd number. Hence, choosing version-1 as task for Part-2.\n",
        "\n",
        "**Question 2.**\n",
        "\n",
        "Whether the three numbers could form the triangle? You need to write code (function) with 3\n",
        "numeric inputs and then check whether the given three numbers could form the triangle."
      ],
      "metadata": {
        "id": "wmsGZNZg4cg7"
      }
    },
    {
      "cell_type": "markdown",
      "source": [
        "### Question 2.1"
      ],
      "metadata": {
        "id": "Ww8gf8Pa7C5b"
      }
    },
    {
      "cell_type": "markdown",
      "source": [
        "You are given three sets of list and each list contains three numbers, you will need to write a\n",
        "code with functionality of inputting the three numbers from each list and find out the answers\n",
        "for below (three) questions. list1 = [1, 3, 5], list2 = [12, 35, 37], list3 = [2, 2, 2.8]\n",
        "\n",
        "* Define a function to check whether the given three numbers could form the a triangle?\n",
        "* Define a function to check whether the given three numbers could form the right\n",
        "triangle?\n",
        "* Write the code or function to check whether the given three numbers could form the\n",
        "isosceles triangle?\n"
      ],
      "metadata": {
        "id": "9L3zv63T6HYp"
      }
    },
    {
      "cell_type": "code",
      "source": [
        "#let's first create the given lists\n",
        "\n",
        "# List 1\n",
        "list1 = [1, 3, 5]\n",
        "\n",
        "# List 2\n",
        "list2 = [12, 35, 37]\n",
        "\n",
        "# List 3\n",
        "list3 = [2, 2, 2.8]"
      ],
      "metadata": {
        "id": "_4GCElob4S-h"
      },
      "execution_count": null,
      "outputs": []
    },
    {
      "cell_type": "markdown",
      "source": [
        "* Define a function to check whether the given three numbers could form the a triangle?\n",
        "\n",
        "Soln. The condiiton to make any triangle as per geometry is defined by a mathematical relation which is:\n",
        "\n",
        "If triangle has 3 sides (a, b, c). The sum of two sides should be larger than 3rd side.\n",
        "\n",
        "1. a + b > c\n",
        "2. b + c > a (or)\n",
        "3. a + c > b (or)"
      ],
      "metadata": {
        "id": "B-xFAKuL7_sw"
      }
    },
    {
      "cell_type": "code",
      "source": [
        "# we would need math library for this task\n",
        "import math\n",
        "\n",
        "# let's create a function that satisfies the condition for making any triangle\n",
        "def is_triangle(side_lengths):\n",
        "\n",
        "    # to check whether there are provided 3 sides of triangle\n",
        "    if len(side_lengths) != 3:\n",
        "        return False\n",
        "\n",
        "    # sort the number\n",
        "    a, b, c = sorted(side_lengths)\n",
        "\n",
        "    if a + b > c:\n",
        "        return True\n",
        "    else:\n",
        "        return False\n"
      ],
      "metadata": {
        "id": "C17k2KKU9tyH"
      },
      "execution_count": null,
      "outputs": []
    },
    {
      "cell_type": "code",
      "source": [
        "# Check if the lists can form triangles\n",
        "result1 = is_triangle(list1)\n",
        "result2 = is_triangle(list2)\n",
        "result3 = is_triangle(list3)\n",
        "\n",
        "# Print the results\n",
        "print(\"Does list-1 forms a triangle or not? True/False: \", result1)\n",
        "print(\"Does list-2 forms a triangle or not? True/False: \", result2)\n",
        "print(\"Does list-3 forms a triangle or not? True/False: \", result3)"
      ],
      "metadata": {
        "colab": {
          "base_uri": "https://localhost:8080/"
        },
        "id": "BUcRRqT3BB9R",
        "outputId": "6dc4f889-2e33-466b-c2cb-6a84b83f1481"
      },
      "execution_count": null,
      "outputs": [
        {
          "output_type": "stream",
          "name": "stdout",
          "text": [
            "Does list-1 forms a triangle or not? True/False:  False\n",
            "Does list-2 forms a triangle or not? True/False:  True\n",
            "Does list-3 forms a triangle or not? True/False:  True\n"
          ]
        }
      ]
    },
    {
      "cell_type": "markdown",
      "source": [
        "* Define a function to check whether the given three numbers could form the right triangle?\n",
        "\n",
        "Soln. As per Pythagorean theorem if squares of the two shorter sides sum up to the square of the longest side. Then, it means the given numbers can form a right triangle."
      ],
      "metadata": {
        "id": "Kf7hDLSHCdwq"
      }
    },
    {
      "cell_type": "code",
      "source": [
        "# let's create a function that satisfies the condition to check whether it's a right triangle\n",
        "\n",
        "def is_right_triangle(side_lengths):\n",
        "\n",
        "    # to check whether there are provided 3 sides of triangle\n",
        "    if len(side_lengths) != 3:\n",
        "        return False\n",
        "\n",
        "    # sort the number in ascending order\n",
        "    a, b, c = sorted(side_lengths)\n",
        "\n",
        "    # we also need to check whethr a given list makes a successful triangle or not\n",
        "    if is_triangle(side_lengths) == False:\n",
        "      return print(side_lengths, 'is not a valid triangle')\n",
        "\n",
        "    # let's check the condition of right triangle\n",
        "    if a**2 + b**2 == c**2:\n",
        "        return True\n",
        "    else:\n",
        "        return False"
      ],
      "metadata": {
        "id": "cUDNkSALCXOf"
      },
      "execution_count": null,
      "outputs": []
    },
    {
      "cell_type": "code",
      "source": [
        "# Check if the lists can form right triangle?\n",
        "result1 = is_right_triangle(list1)\n",
        "result2 = is_right_triangle(list2)\n",
        "result3 = is_right_triangle(list3)\n",
        "\n",
        "# Print the results\n",
        "print(\"Does list-1 forms a right-triangle or not? True/False: \", result1)\n",
        "print(\"Does list-2 forms a right-triangle or not? True/False: \", result2)\n",
        "print(\"Does list-3 forms a right-triangle or not? True/False: \", result3)"
      ],
      "metadata": {
        "colab": {
          "base_uri": "https://localhost:8080/"
        },
        "id": "AXPkKKr8EAOn",
        "outputId": "0097acfd-e817-4a47-caa0-aa698e61c1c4"
      },
      "execution_count": null,
      "outputs": [
        {
          "output_type": "stream",
          "name": "stdout",
          "text": [
            "[1, 3, 5] is not a valid triangle\n",
            "Does list-1 forms a right-triangle or not? True/False:  None\n",
            "Does list-2 forms a right-triangle or not? True/False:  True\n",
            "Does list-3 forms a right-triangle or not? True/False:  False\n"
          ]
        }
      ]
    },
    {
      "cell_type": "markdown",
      "source": [
        "* Write the code or function to check whether the given three numbers could form the isosceles triangle?\n",
        "\n",
        "Sol. To check whether a triangle is isosceles or not, we need to check that at least two of the sides have the same length."
      ],
      "metadata": {
        "id": "TOTliDfNEylZ"
      }
    },
    {
      "cell_type": "code",
      "source": [
        "# let's create a function that satisfies the condition to check whether it's an isosceles triangle\n",
        "\n",
        "def is_iso_triangle(side_lengths):\n",
        "\n",
        "    # to check whether there are provided 3 sides of triangle\n",
        "    if len(side_lengths) != 3:\n",
        "        return False\n",
        "\n",
        "    # sort the number in ascending order\n",
        "    a, b, c = sorted(side_lengths)\n",
        "\n",
        "    # we also need to check whethr a given list makes a successful triangle or not\n",
        "    if is_triangle(side_lengths) == False:\n",
        "        return print(side_lengths, 'is not a valid triangle')\n",
        "\n",
        "    # let's check the condition of isoceles triangle\n",
        "    if a == b or b == c or c == a:\n",
        "        return True\n",
        "    else:\n",
        "        return False"
      ],
      "metadata": {
        "id": "bU9FeDViFITi"
      },
      "execution_count": null,
      "outputs": []
    },
    {
      "cell_type": "code",
      "source": [
        "# Check if the lists can form isosceles triangle?\n",
        "result1 = is_iso_triangle(list1)\n",
        "result2 = is_iso_triangle(list2)\n",
        "result3 = is_iso_triangle(list3)\n",
        "\n",
        "# Print the results\n",
        "print(\"Does list-1 forms an isosceles-triangle or not? True/False: \", result1)\n",
        "print(\"Does list-2 forms an isosceles-triangle or not? True/False: \", result2)\n",
        "print(\"Does list-3 forms an isosceles-triangle or not? True/False: \", result3)"
      ],
      "metadata": {
        "colab": {
          "base_uri": "https://localhost:8080/"
        },
        "id": "RxpthODLFZyG",
        "outputId": "8c40b4de-470f-40e3-f032-b08199ff538a"
      },
      "execution_count": null,
      "outputs": [
        {
          "output_type": "stream",
          "name": "stdout",
          "text": [
            "[1, 3, 5] is not a valid triangle\n",
            "Does list-1 forms an isosceles-triangle or not? True/False:  None\n",
            "Does list-2 forms an isosceles-triangle or not? True/False:  False\n",
            "Does list-3 forms an isosceles-triangle or not? True/False:  True\n"
          ]
        }
      ]
    },
    {
      "cell_type": "markdown",
      "source": [
        "### Question 2.2"
      ],
      "metadata": {
        "id": "Xjs0mx5o6_Bp"
      }
    },
    {
      "cell_type": "markdown",
      "source": [
        "The problem for Question 2.2 is how to calculate the area of the triangle. When you find out the\n",
        "list(s) in Question 2.1 which could form the triangle, could you also please calculate their area\n",
        "(round to integer)? There is one method to calculate the area of given shape - Heron’s formula\n",
        "as below:\n",
        "\n",
        "![image.png](data:image/png;base64,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)\n",
        "\n",
        "You are required to define the function find_area(a,b,c) for this problem, and you will need to run the\n",
        "find_area() and print the results for the list(s) in Question 2.1 which could form the triangle."
      ],
      "metadata": {
        "id": "GLE-iElX6rS7"
      }
    },
    {
      "cell_type": "code",
      "source": [
        "# let's create a function to find the area of triangle from a given list of sides of the triangle\n",
        "\n",
        "# we would need math library for this task\n",
        "import math\n",
        "\n",
        "def find_area(side_lengths):\n",
        "\n",
        "  # to check whether there are provided 3 sides of triangle\n",
        "  if len(side_lengths) != 3:\n",
        "        return False\n",
        "\n",
        "  # sort the number in ascending order\n",
        "  a, b, c = sorted(side_lengths)\n",
        "\n",
        "  # we also need to check whethr a given list makes a successful triangle or not\n",
        "\n",
        "  if is_triangle(side_lengths) == False:\n",
        "        return print(side_lengths, 'is not a valid triangle')\n",
        "\n",
        "  # Calculate the semi-perimeter (s)\n",
        "  s = (a + b + c) / 2\n",
        "\n",
        "  # Calculate the area using Heron's formula\n",
        "  area = math.sqrt(s * (s - a) * (s - b) * (s - c))\n",
        "\n",
        "  # Round the area to the nearest integer\n",
        "  area = round(area)\n",
        "\n",
        "  return area"
      ],
      "metadata": {
        "id": "CUGg1CLJMGDt"
      },
      "execution_count": null,
      "outputs": []
    },
    {
      "cell_type": "code",
      "source": [
        "# Calculate the area from the provided list of triangles sides\n",
        "result1 = find_area(list1)\n",
        "result2 = find_area(list2)\n",
        "result3 = find_area(list3)\n",
        "\n",
        "# Print the results\n",
        "print(\"Area of the triangle List1 is: \", result1)\n",
        "print(\"Area of the triangle List2 is: \", result2)\n",
        "print(\"Area of the triangle List3 is: \", result3)"
      ],
      "metadata": {
        "colab": {
          "base_uri": "https://localhost:8080/"
        },
        "id": "O__3kCM0NF-z",
        "outputId": "b4d21ade-42cd-4bc7-c727-d6e8ec413f25"
      },
      "execution_count": null,
      "outputs": [
        {
          "output_type": "stream",
          "name": "stdout",
          "text": [
            "[1, 3, 5] is not a valid triangle\n",
            "Area of the triangle List1 is:  None\n",
            "Area of the triangle List2 is:  210\n",
            "Area of the triangle List3 is:  2\n"
          ]
        }
      ]
    }
  ]
}