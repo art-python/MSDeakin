{
  "nbformat": 4,
  "nbformat_minor": 0,
  "metadata": {
    "colab": {
      "provenance": [],
      "collapsed_sections": [
        "JHdtAuAL64oH",
        "-Lcjdrh269jU",
        "09Y9O1b_7D0D",
        "bIA_TjxV6nhR",
        "06Sg5WBA8Fsh",
        "ec1FKiTOPsfQ",
        "_lGgr5fLQZHQ",
        "bYQLRj7K3Y1N",
        "8i2C6TX8kMeg",
        "jf1FP6lHkjeD",
        "Ww8gf8Pa7C5b",
        "Xjs0mx5o6_Bp",
        "vpasDW_BlpGV"
      ],
      "authorship_tag": "ABX9TyNOIeOLNcvWyiXundg8rhzz",
      "include_colab_link": true
    },
    "kernelspec": {
      "name": "python3",
      "display_name": "Python 3"
    },
    "language_info": {
      "name": "python"
    }
  },
  "cells": [
    {
      "cell_type": "markdown",
      "metadata": {
        "id": "view-in-github",
        "colab_type": "text"
      },
      "source": [
        "<a href=\"https://colab.research.google.com/github/art-python/MSDeakin/blob/SIG742-Modern-Data-Science/SIG742Task2.ipynb\" target=\"_parent\"><img src=\"https://colab.research.google.com/assets/colab-badge.svg\" alt=\"Open In Colab\"/></a>"
      ]
    },
    {
      "cell_type": "markdown",
      "source": [
        "**Student ID:** ***S22301XXX***\n",
        "\n",
        "**Student Name:** ***XXXXXXXXXXXXX***\n"
      ],
      "metadata": {
        "id": "sLwMLOMx2xSO"
      }
    },
    {
      "cell_type": "code",
      "source": [
        "!git clone <\"https://github.com/art-python/MSDeakin/tree/SIG742-Modern-Data-Science\">"
      ],
      "metadata": {
        "colab": {
          "base_uri": "https://localhost:8080/"
        },
        "id": "_pbe-yidx2bE",
        "outputId": "ff973c0d-0ab4-4080-922e-ac442aba6d4b"
      },
      "execution_count": 1,
      "outputs": [
        {
          "output_type": "stream",
          "name": "stdout",
          "text": [
            "/bin/bash: -c: line 1: syntax error near unexpected token `newline'\n",
            "/bin/bash: -c: line 1: `git clone <\"https://github.com/art-python/MSDeakin/tree/SIG742-Modern-Data-Science\">'\n"
          ]
        }
      ]
    },
    {
      "cell_type": "markdown",
      "source": [
        "# Part-1\n",
        "## Data Acquisition and Manipulation"
      ],
      "metadata": {
        "id": "Q_82klZn3Rz-"
      }
    },
    {
      "cell_type": "markdown",
      "source": [
        "### Question 1.1"
      ],
      "metadata": {
        "id": "JHdtAuAL64oH"
      }
    },
    {
      "cell_type": "markdown",
      "source": [
        "Find the missing values:\n",
        "* Write the function missing_values_table and use the dataframe as the input. The function\n",
        "should return the information of missing values by column (only for columns which have\n",
        "missing values and the returned value should be the count of rows has missing values);\n",
        "* For columns which have missing values, could you impute the missing values with the\n",
        "mean value of the particular columns? (if you think it could not be done with mean value,\n",
        "write down the reason in comments and report rather than code)\n",
        "\n"
      ],
      "metadata": {
        "id": "-GUYVy8057Zt"
      }
    },
    {
      "cell_type": "markdown",
      "source": [
        "Answer 1.1"
      ],
      "metadata": {
        "id": "X7o6dsYsPj9b"
      }
    },
    {
      "cell_type": "code",
      "source": [
        "# import all the libraries\n",
        "import pandas as pd\n",
        "import numpy as np"
      ],
      "metadata": {
        "id": "8ZB5mufynalj"
      },
      "execution_count": null,
      "outputs": []
    },
    {
      "cell_type": "code",
      "source": [],
      "metadata": {
        "id": "oP8veCjvSL7e"
      },
      "execution_count": null,
      "outputs": []
    },
    {
      "cell_type": "markdown",
      "source": [
        "### Question 1.2"
      ],
      "metadata": {
        "id": "-Lcjdrh269jU"
      }
    },
    {
      "cell_type": "markdown",
      "source": [
        "Find the price information from the data:\n",
        "* Write code to print the median price of the items in the data;\n",
        "* What is the 90th percentile value on the price;\n",
        "* Draw the histogram chart for the price of the items in the data with 50 bins."
      ],
      "metadata": {
        "id": "BmoNW1cv6QoP"
      }
    },
    {
      "cell_type": "markdown",
      "source": [
        "Answer 1.2"
      ],
      "metadata": {
        "id": "-KXLDhJyPoPl"
      }
    },
    {
      "cell_type": "code",
      "source": [],
      "metadata": {
        "id": "AgFvxETc3U_F"
      },
      "execution_count": null,
      "outputs": []
    },
    {
      "cell_type": "code",
      "source": [],
      "metadata": {
        "id": "uYwPAZBOSK3L"
      },
      "execution_count": null,
      "outputs": []
    },
    {
      "cell_type": "markdown",
      "source": [
        "### Question 1.3"
      ],
      "metadata": {
        "id": "09Y9O1b_7D0D"
      }
    },
    {
      "cell_type": "markdown",
      "source": [
        "Exploring the shipping information from the data:\n",
        "• Write code to find out the percentage of the items that are paid by the buyers.\n",
        "* Draw (two) histogram graphs in one plot on the price for seller pays shipping and buyer\n",
        "pays shipping (50 bins).\n",
        "* When buying the items online, do you need to pay higher price if seller pays for the\n",
        "shipping? Write the code to find out (Compare the median price of items paid by buyers\n",
        "and items paid by sellers, and explain the result in the comment and report).\n",
        "(Optional: You could use the subplot from EDA)\n"
      ],
      "metadata": {
        "id": "0fNXmfil6aE5"
      }
    },
    {
      "cell_type": "markdown",
      "source": [
        "Answer 1.3"
      ],
      "metadata": {
        "id": "zGYuY0iBPrrS"
      }
    },
    {
      "cell_type": "code",
      "source": [],
      "metadata": {
        "id": "wVQvBjLK6ofv"
      },
      "execution_count": null,
      "outputs": []
    },
    {
      "cell_type": "markdown",
      "source": [
        "### Question 1.4"
      ],
      "metadata": {
        "id": "bIA_TjxV6nhR"
      }
    },
    {
      "cell_type": "markdown",
      "source": [
        "You are required to find out the item condition information from the data. Lower the number\n",
        "(value), the better condition of the item.\n",
        "* Write the code to find out (print) the count of the rows on each number (value) in column\n",
        "item_condition_id.\n",
        "* Draw the boxplot graphs (one plot) on the price for each item condition value, and find out\n",
        "out whether the better condition of the item could have higher median price (draw the plot\n",
        "and answer this question in the comment and report)."
      ],
      "metadata": {
        "id": "s7w1T4GR7RE4"
      }
    },
    {
      "cell_type": "markdown",
      "source": [
        "Answer 1.4"
      ],
      "metadata": {
        "id": "xGvNkMFuPu9a"
      }
    },
    {
      "cell_type": "code",
      "source": [],
      "metadata": {
        "id": "x8hIwTeI9iqE"
      },
      "execution_count": null,
      "outputs": []
    },
    {
      "cell_type": "markdown",
      "source": [
        "### Question 1.5"
      ],
      "metadata": {
        "id": "06Sg5WBA8Fsh"
      }
    },
    {
      "cell_type": "markdown",
      "source": [
        "Conduct the category analysis and find out the relevant information:\n",
        "* Write the code to find out (print) how many unique categories you could find from column\n",
        "category_name.\n",
        "* For the items with worst condition only (highest value from item_condition_id), write code\n",
        "to (print) find out the top 3 categories (now you probably understand the findings you had\n",
        "in Question 1.4)."
      ],
      "metadata": {
        "id": "FPneBkRv9laN"
      }
    },
    {
      "cell_type": "markdown",
      "source": [
        "Answer 1.5"
      ],
      "metadata": {
        "id": "xzSfnL4xPxmS"
      }
    },
    {
      "cell_type": "code",
      "source": [],
      "metadata": {
        "id": "UoFrITLTPqi6"
      },
      "execution_count": null,
      "outputs": []
    },
    {
      "cell_type": "markdown",
      "source": [
        "### Question 1.6"
      ],
      "metadata": {
        "id": "ec1FKiTOPsfQ"
      }
    },
    {
      "cell_type": "markdown",
      "source": [
        "The categories in column category_name have 3 parts. The three parts (main_cat,subcat_1 and\n",
        "subcat_2) are concatenated with ’/’ character sequentially in the data now.\n",
        "* Write the function (must be function) to split the text content (string value in each row) in\n",
        "column category_name by ’/’ character. you need to handle the exception in the function\n",
        "for those has missing values (NaN). For missing values (NaN), the results from splitting\n",
        "should be ”Category Unknown”, ”Category Unknown”, ”Category Unknown”.\n",
        "* Use the above function you wrote to create three new columns main_cat,subcat_1 and\n",
        "subcat_2 with corresponding values from the result of splitting. Print out the dataframe to\n",
        "show the top 5 rows for three new columns main_cat,subcat_1 and subcat_2.\n"
      ],
      "metadata": {
        "id": "Nak8Ji85PvvN"
      }
    },
    {
      "cell_type": "markdown",
      "source": [
        "Answer 1.6"
      ],
      "metadata": {
        "id": "j9gOPxgkPzoc"
      }
    },
    {
      "cell_type": "code",
      "source": [],
      "metadata": {
        "id": "-yVpx83KQNWC"
      },
      "execution_count": null,
      "outputs": []
    },
    {
      "cell_type": "markdown",
      "source": [
        "### Question 1.7"
      ],
      "metadata": {
        "id": "_lGgr5fLQZHQ"
      }
    },
    {
      "cell_type": "markdown",
      "source": [
        "After splitting the category for column category_name, we now have the three main details\n",
        "regarding to the category information. However, we need to clean the text in each of the new\n",
        "three columns in lowercase.\n",
        "* Write code (or function) to change the text (value in each row) from the new three columns\n",
        "to lowercase.\n",
        "* Draw the bar chart to find out the top 5 most popular main categories (in column main_cat)\n",
        "in the data (only showing the top 5).\n",
        "* Write code (or function) to (print) find out how many unique main categories (in col umn\n",
        "main_cat), unique first sub-categories (in column subcat_1) and unique second\n",
        "sub-categories (in column subcat_2) respectively."
      ],
      "metadata": {
        "id": "WFZLZzuYQbXB"
      }
    },
    {
      "cell_type": "markdown",
      "source": [
        "Answer 1.7"
      ],
      "metadata": {
        "id": "uEYeznCGIdZ_"
      }
    },
    {
      "cell_type": "code",
      "source": [],
      "metadata": {
        "id": "NMZHO6rw3Zm-"
      },
      "execution_count": null,
      "outputs": []
    },
    {
      "cell_type": "markdown",
      "source": [
        "### Question 1.8"
      ],
      "metadata": {
        "id": "bYQLRj7K3Y1N"
      }
    },
    {
      "cell_type": "markdown",
      "source": [
        "Exploring the price and categories.\n",
        "* Write code to (print) find out the median price for all the categories in new column main_cat.\n",
        "* Draw the bar chart to find out the top 10 most expensive first sub-categories (in column\n",
        "subcat_1) in the data.\n",
        "* Draw the bar chart to find out the top 10 cheapest second sub-categories (in column\n",
        "subcat_2) in the data.\n"
      ],
      "metadata": {
        "id": "folCIJvyRabN"
      }
    },
    {
      "cell_type": "markdown",
      "source": [
        "Answer 1.8"
      ],
      "metadata": {
        "id": "_2wLVdKtP4Bw"
      }
    },
    {
      "cell_type": "code",
      "source": [],
      "metadata": {
        "id": "zDVCgZLhMsGW"
      },
      "execution_count": null,
      "outputs": []
    },
    {
      "cell_type": "markdown",
      "source": [
        "### Question 1.9"
      ],
      "metadata": {
        "id": "8i2C6TX8kMeg"
      }
    },
    {
      "cell_type": "markdown",
      "source": [
        "Exploring the price and brand.\n",
        "* Write code to (print) find out the median price for all the brands (fill NaN with ’brand\n",
        "unavailable’).\n",
        "* Draw the bar chart to find out the top 10 most popular brands in the data.\n"
      ],
      "metadata": {
        "id": "JSN8sULRkWT6"
      }
    },
    {
      "cell_type": "markdown",
      "source": [
        "Answer 1.9"
      ],
      "metadata": {
        "id": "Ueehnkm9kgkW"
      }
    },
    {
      "cell_type": "code",
      "source": [],
      "metadata": {
        "id": "I3Qaj63Akbss"
      },
      "execution_count": null,
      "outputs": []
    },
    {
      "cell_type": "markdown",
      "source": [
        "### Question 1.10"
      ],
      "metadata": {
        "id": "jf1FP6lHkjeD"
      }
    },
    {
      "cell_type": "markdown",
      "source": [
        "Item Description Analysis.\n",
        "* Could you draw the wordcloud chart by using the column clean_description.\n",
        "* Divide the data with quantiles of the price (using qcut from pandas to obtain the first/sec\n",
        "ond/third/fourth quantile).\n",
        "* Draw the wordcould by using the column clean_description on each quantile of price data.\n"
      ],
      "metadata": {
        "id": "E1GAT2mvkl_G"
      }
    },
    {
      "cell_type": "markdown",
      "source": [
        "Answer 1.10"
      ],
      "metadata": {
        "id": "au8poY_KktRm"
      }
    },
    {
      "cell_type": "code",
      "source": [],
      "metadata": {
        "id": "BCqmz9Ymkvxi"
      },
      "execution_count": null,
      "outputs": []
    },
    {
      "cell_type": "markdown",
      "source": [
        "### =============== THE END ==============="
      ],
      "metadata": {
        "id": "2-GLpn41P6T9"
      }
    },
    {
      "cell_type": "markdown",
      "source": [
        "# Part-2\n",
        "## Time series analysis exercise"
      ],
      "metadata": {
        "id": "yGK7O4684VIu"
      }
    },
    {
      "cell_type": "markdown",
      "source": [
        "### Question 2.1"
      ],
      "metadata": {
        "id": "Ww8gf8Pa7C5b"
      }
    },
    {
      "cell_type": "markdown",
      "source": [
        "The dataset used here is the New York City Taxi Demand dataset. The raw data is from the\n",
        "NYC Taxi and Limousine Commission. The data included here consists of aggregating the total\n",
        "number of taxi passengers into 30 minute buckets. In this question, we will simply process the\n",
        "data and explore the time series.\n",
        "* Create two new dataframes df_day and df_hour by aggregating the demand value on\n",
        "daily and hourly level.\n",
        "* Plot the demand value in two line charts for both df_day and df_hour dataframes.\n",
        "* Plot the seasonal decomposition components (Trend, Seasonal, Residual) from df_day\n",
        "dataframe, also find out the p value from adfuller test. Do you think the df_day is stationary\n",
        "enough (please explain your reasons in comments and report)?\n"
      ],
      "metadata": {
        "id": "9L3zv63T6HYp"
      }
    },
    {
      "cell_type": "code",
      "source": [],
      "metadata": {
        "id": "_4GCElob4S-h"
      },
      "execution_count": null,
      "outputs": []
    },
    {
      "cell_type": "markdown",
      "source": [
        "### Question 2.2"
      ],
      "metadata": {
        "id": "Xjs0mx5o6_Bp"
      }
    },
    {
      "cell_type": "markdown",
      "source": [
        "In this question, we will try to use time series model such as ARIMA and others to build the\n",
        "model(s) for forecasting the future.\n",
        "* Create the acf and pacf plots for df_day dataframe.\n",
        "* Find the best model with different parameters on ARIMA model. The parameter range for\n",
        "p,d,q are all from [0, 1, 2]. In total, you need to find out the best model with lowest Mean\n",
        "Abosulate Error from 27 choices based on the time from ”Jul-01-2014” to ”Dec-01-2014”.\n",
        "* Using the best model in above steps to forecast the time from ”Jan-01-2015” to\n",
        "”Jan-31-2015”. Plot the predicted value and the true demand value from ”Jan-01-2015” to\n",
        "”Jan-31-2015”.\n",
        "* Could you think of any other model (not as same as ARIMA) could do the forecasting for\n",
        "demand value from ”Jan-01-2015” to ”Jan-31-2015”? You could choose one model\n",
        "(except ARIMA) and train the model based on the demand value from ”Jul-01-2014” to\n",
        "”Dec-01-2014” (same training data as the ARIMA). Hint: there are some resources\n",
        "regarding other time series forecasting models such as prophet here and also the\n",
        "exponential smoothing here.\n"
      ],
      "metadata": {
        "id": "GLE-iElX6rS7"
      }
    },
    {
      "cell_type": "code",
      "source": [],
      "metadata": {
        "id": "CUGg1CLJMGDt"
      },
      "execution_count": null,
      "outputs": []
    },
    {
      "cell_type": "markdown",
      "source": [
        "### Question 2.3"
      ],
      "metadata": {
        "id": "vpasDW_BlpGV"
      }
    },
    {
      "cell_type": "markdown",
      "source": [
        "In this question, we will detect the anomaly within the df_day dataframe.\n",
        "* Create the Weekday column according to the timestamp column in df_day dataframe. The\n",
        "value in Weekday column should be from [’Monday’, ’Tuesday’, ’Wednesday’,\n",
        "’Thursday’,’Friday’, ’Saturday’, ’Sunday’]. Also create the Hour, Day, Month, Year,\n",
        "Month_day (numeric format on day of the month), Lag (yesterday’s demand value ), and\n",
        "Rolling_Mean (rolling 7 days mean demand value, minimized period is 1) 7 new columns\n",
        "in df_day dataframe according to the timestamp column.\n",
        "* Using Isolation Forest with above crafted features in df_day to find out the date which is\n",
        "identified as ’outlier’.\n"
      ],
      "metadata": {
        "id": "QWwFawyrlrDC"
      }
    },
    {
      "cell_type": "markdown",
      "source": [
        "Answer 2.3"
      ],
      "metadata": {
        "id": "WCAj1Oxdlx-x"
      }
    },
    {
      "cell_type": "code",
      "source": [],
      "metadata": {
        "id": "iqO0MsOkl2Qx"
      },
      "execution_count": null,
      "outputs": []
    }
  ]
}