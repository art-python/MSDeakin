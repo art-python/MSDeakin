{
  "nbformat": 4,
  "nbformat_minor": 0,
  "metadata": {
    "colab": {
      "provenance": [],
      "collapsed_sections": [
        "Q_82klZn3Rz-",
        "bIA_TjxV6nhR",
        "06Sg5WBA8Fsh",
        "ec1FKiTOPsfQ",
        "_lGgr5fLQZHQ",
        "bYQLRj7K3Y1N",
        "8i2C6TX8kMeg",
        "jf1FP6lHkjeD",
        "Xjs0mx5o6_Bp",
        "vpasDW_BlpGV"
      ],
      "authorship_tag": "ABX9TyN7y0F+lz/Kf+lpizLW5VlZ",
      "include_colab_link": true
    },
    "kernelspec": {
      "name": "python3",
      "display_name": "Python 3"
    },
    "language_info": {
      "name": "python"
    }
  },
  "cells": [
    {
      "cell_type": "markdown",
      "metadata": {
        "id": "view-in-github",
        "colab_type": "text"
      },
      "source": [
        "<a href=\"https://colab.research.google.com/github/art-python/MSDeakin/blob/SIG742-Modern-Data-Science/SIG742Task2.ipynb\" target=\"_parent\"><img src=\"https://colab.research.google.com/assets/colab-badge.svg\" alt=\"Open In Colab\"/></a>"
      ]
    },
    {
      "cell_type": "markdown",
      "source": [
        "**Student ID:** ***S22301XXX***\n",
        "\n",
        "**Student Name:** ***XXXXXXXXXXXXX***\n"
      ],
      "metadata": {
        "id": "sLwMLOMx2xSO"
      }
    },
    {
      "cell_type": "markdown",
      "source": [
        "# Part-1\n",
        "## Data Acquisition and Manipulation"
      ],
      "metadata": {
        "id": "Q_82klZn3Rz-"
      }
    },
    {
      "cell_type": "markdown",
      "source": [
        "### Data Preprocessing"
      ],
      "metadata": {
        "id": "tgsQrEtjLng-"
      }
    },
    {
      "cell_type": "code",
      "source": [
        "# Import important libraries\n",
        "import pandas as pd\n",
        "import numpy as np\n",
        "import matplotlib.pyplot as plt\n",
        "import seaborn as sns"
      ],
      "metadata": {
        "id": "Q897WAFZLmCN"
      },
      "execution_count": 27,
      "outputs": []
    },
    {
      "cell_type": "markdown",
      "source": [
        "**Note for Team:**\n",
        "\n",
        "Click the link below to access the Google Drive page. Add it to your Google Drive and then utilize it in Google Colab. You only need to provide authentication to access your Google Drive and use the datasets stored in the folder.\n",
        "\n",
        "https://drive.google.com/drive/folders/1Y1_AFrHJaIMt4m8FXXBzv4XEme4QrirB?usp=sharing"
      ],
      "metadata": {
        "id": "vn4i4iqCJhvy"
      }
    },
    {
      "cell_type": "code",
      "source": [
        "# to import the file from google drive, mount the drive\n",
        "from google.colab import drive\n",
        "drive.mount('/content/drive')"
      ],
      "metadata": {
        "colab": {
          "base_uri": "https://localhost:8080/"
        },
        "id": "fas4pH_HGNC1",
        "outputId": "3a7dda27-ec4c-46e6-c77e-a3989f8ec7fd"
      },
      "execution_count": 8,
      "outputs": [
        {
          "output_type": "stream",
          "name": "stdout",
          "text": [
            "Mounted at /content/drive\n"
          ]
        }
      ]
    },
    {
      "cell_type": "code",
      "source": [
        "# load the dataset file and read the csv\n",
        "folder_path = \"/content/drive/MyDrive/MSDeakin/SIG742_Modern-Data-Science/SIG742_Task2/\"\n",
        "file_name = \"item_listing_category.csv\"\n",
        "\n",
        "# Load the CSV file into a DataFrame\n",
        "dataset = pd.read_csv(folder_path + file_name)"
      ],
      "metadata": {
        "id": "Q5GRCH_JGrYb"
      },
      "execution_count": 9,
      "outputs": []
    },
    {
      "cell_type": "code",
      "source": [
        "dataset.head()"
      ],
      "metadata": {
        "id": "HOAXeIIsL6IZ",
        "colab": {
          "base_uri": "https://localhost:8080/",
          "height": 241
        },
        "outputId": "d8c18ffc-6f1e-4ccc-a6da-fd0f1c0411de"
      },
      "execution_count": 10,
      "outputs": [
        {
          "output_type": "execute_result",
          "data": {
            "text/plain": [
              "   train_id                            name  item_condition_id  \\\n",
              "0    128037        Bundle for Sassy Sisters                  3   \n",
              "1    491755                    PINK VS TANK                  2   \n",
              "2    470924      Funko Pop Unmasked Cyclops                  1   \n",
              "3    491263                 Baby Roshe Runs                  3   \n",
              "4    836489  Baby Girl Ralph Lauren dresses                  3   \n",
              "\n",
              "                        category_name    brand_name  price  shipping  \\\n",
              "0         Women/Tops & Blouses/Blouse           NaN   16.0         0   \n",
              "1     Women/Tops & Blouses/Tank, Cami           NaN   17.0         0   \n",
              "2  Kids/Toys/Action Figures & Statues         Funko   30.0         1   \n",
              "3               Kids/Boys 2T-5T/Shoes          Nike   19.0         0   \n",
              "4         Kids/Girls 0-24 Mos/Dresses  Ralph Lauren   24.0         0   \n",
              "\n",
              "                                   clean_description  \n",
              "0  max cleo black dress paper crane black tank to...  \n",
              "1       sequin pink sign sequins missing gently worn  \n",
              "2  box great condition comes soft pop protector p...  \n",
              "3                 baby black nike roshe runs size 5c  \n",
              "4  2 polo dresses 3 months wore washed dreft pink...  "
            ],
            "text/html": [
              "\n",
              "  <div id=\"df-20bf5fd9-cb1f-4f4c-ba86-e6cadefd6a8e\" class=\"colab-df-container\">\n",
              "    <div>\n",
              "<style scoped>\n",
              "    .dataframe tbody tr th:only-of-type {\n",
              "        vertical-align: middle;\n",
              "    }\n",
              "\n",
              "    .dataframe tbody tr th {\n",
              "        vertical-align: top;\n",
              "    }\n",
              "\n",
              "    .dataframe thead th {\n",
              "        text-align: right;\n",
              "    }\n",
              "</style>\n",
              "<table border=\"1\" class=\"dataframe\">\n",
              "  <thead>\n",
              "    <tr style=\"text-align: right;\">\n",
              "      <th></th>\n",
              "      <th>train_id</th>\n",
              "      <th>name</th>\n",
              "      <th>item_condition_id</th>\n",
              "      <th>category_name</th>\n",
              "      <th>brand_name</th>\n",
              "      <th>price</th>\n",
              "      <th>shipping</th>\n",
              "      <th>clean_description</th>\n",
              "    </tr>\n",
              "  </thead>\n",
              "  <tbody>\n",
              "    <tr>\n",
              "      <th>0</th>\n",
              "      <td>128037</td>\n",
              "      <td>Bundle for Sassy Sisters</td>\n",
              "      <td>3</td>\n",
              "      <td>Women/Tops &amp; Blouses/Blouse</td>\n",
              "      <td>NaN</td>\n",
              "      <td>16.0</td>\n",
              "      <td>0</td>\n",
              "      <td>max cleo black dress paper crane black tank to...</td>\n",
              "    </tr>\n",
              "    <tr>\n",
              "      <th>1</th>\n",
              "      <td>491755</td>\n",
              "      <td>PINK VS TANK</td>\n",
              "      <td>2</td>\n",
              "      <td>Women/Tops &amp; Blouses/Tank, Cami</td>\n",
              "      <td>NaN</td>\n",
              "      <td>17.0</td>\n",
              "      <td>0</td>\n",
              "      <td>sequin pink sign sequins missing gently worn</td>\n",
              "    </tr>\n",
              "    <tr>\n",
              "      <th>2</th>\n",
              "      <td>470924</td>\n",
              "      <td>Funko Pop Unmasked Cyclops</td>\n",
              "      <td>1</td>\n",
              "      <td>Kids/Toys/Action Figures &amp; Statues</td>\n",
              "      <td>Funko</td>\n",
              "      <td>30.0</td>\n",
              "      <td>1</td>\n",
              "      <td>box great condition comes soft pop protector p...</td>\n",
              "    </tr>\n",
              "    <tr>\n",
              "      <th>3</th>\n",
              "      <td>491263</td>\n",
              "      <td>Baby Roshe Runs</td>\n",
              "      <td>3</td>\n",
              "      <td>Kids/Boys 2T-5T/Shoes</td>\n",
              "      <td>Nike</td>\n",
              "      <td>19.0</td>\n",
              "      <td>0</td>\n",
              "      <td>baby black nike roshe runs size 5c</td>\n",
              "    </tr>\n",
              "    <tr>\n",
              "      <th>4</th>\n",
              "      <td>836489</td>\n",
              "      <td>Baby Girl Ralph Lauren dresses</td>\n",
              "      <td>3</td>\n",
              "      <td>Kids/Girls 0-24 Mos/Dresses</td>\n",
              "      <td>Ralph Lauren</td>\n",
              "      <td>24.0</td>\n",
              "      <td>0</td>\n",
              "      <td>2 polo dresses 3 months wore washed dreft pink...</td>\n",
              "    </tr>\n",
              "  </tbody>\n",
              "</table>\n",
              "</div>\n",
              "    <div class=\"colab-df-buttons\">\n",
              "\n",
              "  <div class=\"colab-df-container\">\n",
              "    <button class=\"colab-df-convert\" onclick=\"convertToInteractive('df-20bf5fd9-cb1f-4f4c-ba86-e6cadefd6a8e')\"\n",
              "            title=\"Convert this dataframe to an interactive table.\"\n",
              "            style=\"display:none;\">\n",
              "\n",
              "  <svg xmlns=\"http://www.w3.org/2000/svg\" height=\"24px\" viewBox=\"0 -960 960 960\">\n",
              "    <path d=\"M120-120v-720h720v720H120Zm60-500h600v-160H180v160Zm220 220h160v-160H400v160Zm0 220h160v-160H400v160ZM180-400h160v-160H180v160Zm440 0h160v-160H620v160ZM180-180h160v-160H180v160Zm440 0h160v-160H620v160Z\"/>\n",
              "  </svg>\n",
              "    </button>\n",
              "\n",
              "  <style>\n",
              "    .colab-df-container {\n",
              "      display:flex;\n",
              "      gap: 12px;\n",
              "    }\n",
              "\n",
              "    .colab-df-convert {\n",
              "      background-color: #E8F0FE;\n",
              "      border: none;\n",
              "      border-radius: 50%;\n",
              "      cursor: pointer;\n",
              "      display: none;\n",
              "      fill: #1967D2;\n",
              "      height: 32px;\n",
              "      padding: 0 0 0 0;\n",
              "      width: 32px;\n",
              "    }\n",
              "\n",
              "    .colab-df-convert:hover {\n",
              "      background-color: #E2EBFA;\n",
              "      box-shadow: 0px 1px 2px rgba(60, 64, 67, 0.3), 0px 1px 3px 1px rgba(60, 64, 67, 0.15);\n",
              "      fill: #174EA6;\n",
              "    }\n",
              "\n",
              "    .colab-df-buttons div {\n",
              "      margin-bottom: 4px;\n",
              "    }\n",
              "\n",
              "    [theme=dark] .colab-df-convert {\n",
              "      background-color: #3B4455;\n",
              "      fill: #D2E3FC;\n",
              "    }\n",
              "\n",
              "    [theme=dark] .colab-df-convert:hover {\n",
              "      background-color: #434B5C;\n",
              "      box-shadow: 0px 1px 3px 1px rgba(0, 0, 0, 0.15);\n",
              "      filter: drop-shadow(0px 1px 2px rgba(0, 0, 0, 0.3));\n",
              "      fill: #FFFFFF;\n",
              "    }\n",
              "  </style>\n",
              "\n",
              "    <script>\n",
              "      const buttonEl =\n",
              "        document.querySelector('#df-20bf5fd9-cb1f-4f4c-ba86-e6cadefd6a8e button.colab-df-convert');\n",
              "      buttonEl.style.display =\n",
              "        google.colab.kernel.accessAllowed ? 'block' : 'none';\n",
              "\n",
              "      async function convertToInteractive(key) {\n",
              "        const element = document.querySelector('#df-20bf5fd9-cb1f-4f4c-ba86-e6cadefd6a8e');\n",
              "        const dataTable =\n",
              "          await google.colab.kernel.invokeFunction('convertToInteractive',\n",
              "                                                    [key], {});\n",
              "        if (!dataTable) return;\n",
              "\n",
              "        const docLinkHtml = 'Like what you see? Visit the ' +\n",
              "          '<a target=\"_blank\" href=https://colab.research.google.com/notebooks/data_table.ipynb>data table notebook</a>'\n",
              "          + ' to learn more about interactive tables.';\n",
              "        element.innerHTML = '';\n",
              "        dataTable['output_type'] = 'display_data';\n",
              "        await google.colab.output.renderOutput(dataTable, element);\n",
              "        const docLink = document.createElement('div');\n",
              "        docLink.innerHTML = docLinkHtml;\n",
              "        element.appendChild(docLink);\n",
              "      }\n",
              "    </script>\n",
              "  </div>\n",
              "\n",
              "\n",
              "<div id=\"df-b1f459b4-07cc-44e6-b7ac-dcadbc94a07a\">\n",
              "  <button class=\"colab-df-quickchart\" onclick=\"quickchart('df-b1f459b4-07cc-44e6-b7ac-dcadbc94a07a')\"\n",
              "            title=\"Suggest charts.\"\n",
              "            style=\"display:none;\">\n",
              "\n",
              "<svg xmlns=\"http://www.w3.org/2000/svg\" height=\"24px\"viewBox=\"0 0 24 24\"\n",
              "     width=\"24px\">\n",
              "    <g>\n",
              "        <path d=\"M19 3H5c-1.1 0-2 .9-2 2v14c0 1.1.9 2 2 2h14c1.1 0 2-.9 2-2V5c0-1.1-.9-2-2-2zM9 17H7v-7h2v7zm4 0h-2V7h2v10zm4 0h-2v-4h2v4z\"/>\n",
              "    </g>\n",
              "</svg>\n",
              "  </button>\n",
              "\n",
              "<style>\n",
              "  .colab-df-quickchart {\n",
              "      --bg-color: #E8F0FE;\n",
              "      --fill-color: #1967D2;\n",
              "      --hover-bg-color: #E2EBFA;\n",
              "      --hover-fill-color: #174EA6;\n",
              "      --disabled-fill-color: #AAA;\n",
              "      --disabled-bg-color: #DDD;\n",
              "  }\n",
              "\n",
              "  [theme=dark] .colab-df-quickchart {\n",
              "      --bg-color: #3B4455;\n",
              "      --fill-color: #D2E3FC;\n",
              "      --hover-bg-color: #434B5C;\n",
              "      --hover-fill-color: #FFFFFF;\n",
              "      --disabled-bg-color: #3B4455;\n",
              "      --disabled-fill-color: #666;\n",
              "  }\n",
              "\n",
              "  .colab-df-quickchart {\n",
              "    background-color: var(--bg-color);\n",
              "    border: none;\n",
              "    border-radius: 50%;\n",
              "    cursor: pointer;\n",
              "    display: none;\n",
              "    fill: var(--fill-color);\n",
              "    height: 32px;\n",
              "    padding: 0;\n",
              "    width: 32px;\n",
              "  }\n",
              "\n",
              "  .colab-df-quickchart:hover {\n",
              "    background-color: var(--hover-bg-color);\n",
              "    box-shadow: 0 1px 2px rgba(60, 64, 67, 0.3), 0 1px 3px 1px rgba(60, 64, 67, 0.15);\n",
              "    fill: var(--button-hover-fill-color);\n",
              "  }\n",
              "\n",
              "  .colab-df-quickchart-complete:disabled,\n",
              "  .colab-df-quickchart-complete:disabled:hover {\n",
              "    background-color: var(--disabled-bg-color);\n",
              "    fill: var(--disabled-fill-color);\n",
              "    box-shadow: none;\n",
              "  }\n",
              "\n",
              "  .colab-df-spinner {\n",
              "    border: 2px solid var(--fill-color);\n",
              "    border-color: transparent;\n",
              "    border-bottom-color: var(--fill-color);\n",
              "    animation:\n",
              "      spin 1s steps(1) infinite;\n",
              "  }\n",
              "\n",
              "  @keyframes spin {\n",
              "    0% {\n",
              "      border-color: transparent;\n",
              "      border-bottom-color: var(--fill-color);\n",
              "      border-left-color: var(--fill-color);\n",
              "    }\n",
              "    20% {\n",
              "      border-color: transparent;\n",
              "      border-left-color: var(--fill-color);\n",
              "      border-top-color: var(--fill-color);\n",
              "    }\n",
              "    30% {\n",
              "      border-color: transparent;\n",
              "      border-left-color: var(--fill-color);\n",
              "      border-top-color: var(--fill-color);\n",
              "      border-right-color: var(--fill-color);\n",
              "    }\n",
              "    40% {\n",
              "      border-color: transparent;\n",
              "      border-right-color: var(--fill-color);\n",
              "      border-top-color: var(--fill-color);\n",
              "    }\n",
              "    60% {\n",
              "      border-color: transparent;\n",
              "      border-right-color: var(--fill-color);\n",
              "    }\n",
              "    80% {\n",
              "      border-color: transparent;\n",
              "      border-right-color: var(--fill-color);\n",
              "      border-bottom-color: var(--fill-color);\n",
              "    }\n",
              "    90% {\n",
              "      border-color: transparent;\n",
              "      border-bottom-color: var(--fill-color);\n",
              "    }\n",
              "  }\n",
              "</style>\n",
              "\n",
              "  <script>\n",
              "    async function quickchart(key) {\n",
              "      const quickchartButtonEl =\n",
              "        document.querySelector('#' + key + ' button');\n",
              "      quickchartButtonEl.disabled = true;  // To prevent multiple clicks.\n",
              "      quickchartButtonEl.classList.add('colab-df-spinner');\n",
              "      try {\n",
              "        const charts = await google.colab.kernel.invokeFunction(\n",
              "            'suggestCharts', [key], {});\n",
              "      } catch (error) {\n",
              "        console.error('Error during call to suggestCharts:', error);\n",
              "      }\n",
              "      quickchartButtonEl.classList.remove('colab-df-spinner');\n",
              "      quickchartButtonEl.classList.add('colab-df-quickchart-complete');\n",
              "    }\n",
              "    (() => {\n",
              "      let quickchartButtonEl =\n",
              "        document.querySelector('#df-b1f459b4-07cc-44e6-b7ac-dcadbc94a07a button');\n",
              "      quickchartButtonEl.style.display =\n",
              "        google.colab.kernel.accessAllowed ? 'block' : 'none';\n",
              "    })();\n",
              "  </script>\n",
              "</div>\n",
              "    </div>\n",
              "  </div>\n"
            ]
          },
          "metadata": {},
          "execution_count": 10
        }
      ]
    },
    {
      "cell_type": "code",
      "source": [
        "dataset.shape"
      ],
      "metadata": {
        "colab": {
          "base_uri": "https://localhost:8080/"
        },
        "id": "eCYC3jTkNiSn",
        "outputId": "aab0ba1d-8e15-4e2f-934f-f0c00cdbdb8c"
      },
      "execution_count": 17,
      "outputs": [
        {
          "output_type": "execute_result",
          "data": {
            "text/plain": [
              "(355808, 8)"
            ]
          },
          "metadata": {},
          "execution_count": 17
        }
      ]
    },
    {
      "cell_type": "code",
      "source": [
        "dataset.info()"
      ],
      "metadata": {
        "colab": {
          "base_uri": "https://localhost:8080/"
        },
        "id": "Zcd2XE6uMGG_",
        "outputId": "63c368e3-afee-4c6c-fcc2-8401b1f2285b"
      },
      "execution_count": 11,
      "outputs": [
        {
          "output_type": "stream",
          "name": "stdout",
          "text": [
            "<class 'pandas.core.frame.DataFrame'>\n",
            "RangeIndex: 355808 entries, 0 to 355807\n",
            "Data columns (total 8 columns):\n",
            " #   Column             Non-Null Count   Dtype  \n",
            "---  ------             --------------   -----  \n",
            " 0   train_id           355808 non-null  int64  \n",
            " 1   name               355808 non-null  object \n",
            " 2   item_condition_id  355808 non-null  int64  \n",
            " 3   category_name      354269 non-null  object \n",
            " 4   brand_name         203852 non-null  object \n",
            " 5   price              355808 non-null  float64\n",
            " 6   shipping           355808 non-null  int64  \n",
            " 7   clean_description  355614 non-null  object \n",
            "dtypes: float64(1), int64(3), object(4)\n",
            "memory usage: 21.7+ MB\n"
          ]
        }
      ]
    },
    {
      "cell_type": "code",
      "source": [
        "dataset.describe()"
      ],
      "metadata": {
        "colab": {
          "base_uri": "https://localhost:8080/",
          "height": 300
        },
        "id": "ieE08weWM9Ml",
        "outputId": "d66d3356-9301-434e-ea60-48ecc8f566e2"
      },
      "execution_count": 16,
      "outputs": [
        {
          "output_type": "execute_result",
          "data": {
            "text/plain": [
              "           train_id  item_condition_id          price       shipping\n",
              "count  3.558080e+05      355808.000000  355808.000000  355808.000000\n",
              "mean   5.931105e+05           1.910128      26.661885       0.446151\n",
              "std    3.425195e+05           0.904000      38.146767       0.497092\n",
              "min    1.000000e+00           1.000000       0.000000       0.000000\n",
              "25%    2.965082e+05           1.000000      10.000000       0.000000\n",
              "50%    5.932885e+05           2.000000      17.000000       0.000000\n",
              "75%    8.904722e+05           3.000000      29.000000       1.000000\n",
              "max    1.186024e+06           5.000000    2000.000000       1.000000"
            ],
            "text/html": [
              "\n",
              "  <div id=\"df-9a9e6de1-00f0-4eb5-a4f2-0a38d6aa6c97\" class=\"colab-df-container\">\n",
              "    <div>\n",
              "<style scoped>\n",
              "    .dataframe tbody tr th:only-of-type {\n",
              "        vertical-align: middle;\n",
              "    }\n",
              "\n",
              "    .dataframe tbody tr th {\n",
              "        vertical-align: top;\n",
              "    }\n",
              "\n",
              "    .dataframe thead th {\n",
              "        text-align: right;\n",
              "    }\n",
              "</style>\n",
              "<table border=\"1\" class=\"dataframe\">\n",
              "  <thead>\n",
              "    <tr style=\"text-align: right;\">\n",
              "      <th></th>\n",
              "      <th>train_id</th>\n",
              "      <th>item_condition_id</th>\n",
              "      <th>price</th>\n",
              "      <th>shipping</th>\n",
              "    </tr>\n",
              "  </thead>\n",
              "  <tbody>\n",
              "    <tr>\n",
              "      <th>count</th>\n",
              "      <td>3.558080e+05</td>\n",
              "      <td>355808.000000</td>\n",
              "      <td>355808.000000</td>\n",
              "      <td>355808.000000</td>\n",
              "    </tr>\n",
              "    <tr>\n",
              "      <th>mean</th>\n",
              "      <td>5.931105e+05</td>\n",
              "      <td>1.910128</td>\n",
              "      <td>26.661885</td>\n",
              "      <td>0.446151</td>\n",
              "    </tr>\n",
              "    <tr>\n",
              "      <th>std</th>\n",
              "      <td>3.425195e+05</td>\n",
              "      <td>0.904000</td>\n",
              "      <td>38.146767</td>\n",
              "      <td>0.497092</td>\n",
              "    </tr>\n",
              "    <tr>\n",
              "      <th>min</th>\n",
              "      <td>1.000000e+00</td>\n",
              "      <td>1.000000</td>\n",
              "      <td>0.000000</td>\n",
              "      <td>0.000000</td>\n",
              "    </tr>\n",
              "    <tr>\n",
              "      <th>25%</th>\n",
              "      <td>2.965082e+05</td>\n",
              "      <td>1.000000</td>\n",
              "      <td>10.000000</td>\n",
              "      <td>0.000000</td>\n",
              "    </tr>\n",
              "    <tr>\n",
              "      <th>50%</th>\n",
              "      <td>5.932885e+05</td>\n",
              "      <td>2.000000</td>\n",
              "      <td>17.000000</td>\n",
              "      <td>0.000000</td>\n",
              "    </tr>\n",
              "    <tr>\n",
              "      <th>75%</th>\n",
              "      <td>8.904722e+05</td>\n",
              "      <td>3.000000</td>\n",
              "      <td>29.000000</td>\n",
              "      <td>1.000000</td>\n",
              "    </tr>\n",
              "    <tr>\n",
              "      <th>max</th>\n",
              "      <td>1.186024e+06</td>\n",
              "      <td>5.000000</td>\n",
              "      <td>2000.000000</td>\n",
              "      <td>1.000000</td>\n",
              "    </tr>\n",
              "  </tbody>\n",
              "</table>\n",
              "</div>\n",
              "    <div class=\"colab-df-buttons\">\n",
              "\n",
              "  <div class=\"colab-df-container\">\n",
              "    <button class=\"colab-df-convert\" onclick=\"convertToInteractive('df-9a9e6de1-00f0-4eb5-a4f2-0a38d6aa6c97')\"\n",
              "            title=\"Convert this dataframe to an interactive table.\"\n",
              "            style=\"display:none;\">\n",
              "\n",
              "  <svg xmlns=\"http://www.w3.org/2000/svg\" height=\"24px\" viewBox=\"0 -960 960 960\">\n",
              "    <path d=\"M120-120v-720h720v720H120Zm60-500h600v-160H180v160Zm220 220h160v-160H400v160Zm0 220h160v-160H400v160ZM180-400h160v-160H180v160Zm440 0h160v-160H620v160ZM180-180h160v-160H180v160Zm440 0h160v-160H620v160Z\"/>\n",
              "  </svg>\n",
              "    </button>\n",
              "\n",
              "  <style>\n",
              "    .colab-df-container {\n",
              "      display:flex;\n",
              "      gap: 12px;\n",
              "    }\n",
              "\n",
              "    .colab-df-convert {\n",
              "      background-color: #E8F0FE;\n",
              "      border: none;\n",
              "      border-radius: 50%;\n",
              "      cursor: pointer;\n",
              "      display: none;\n",
              "      fill: #1967D2;\n",
              "      height: 32px;\n",
              "      padding: 0 0 0 0;\n",
              "      width: 32px;\n",
              "    }\n",
              "\n",
              "    .colab-df-convert:hover {\n",
              "      background-color: #E2EBFA;\n",
              "      box-shadow: 0px 1px 2px rgba(60, 64, 67, 0.3), 0px 1px 3px 1px rgba(60, 64, 67, 0.15);\n",
              "      fill: #174EA6;\n",
              "    }\n",
              "\n",
              "    .colab-df-buttons div {\n",
              "      margin-bottom: 4px;\n",
              "    }\n",
              "\n",
              "    [theme=dark] .colab-df-convert {\n",
              "      background-color: #3B4455;\n",
              "      fill: #D2E3FC;\n",
              "    }\n",
              "\n",
              "    [theme=dark] .colab-df-convert:hover {\n",
              "      background-color: #434B5C;\n",
              "      box-shadow: 0px 1px 3px 1px rgba(0, 0, 0, 0.15);\n",
              "      filter: drop-shadow(0px 1px 2px rgba(0, 0, 0, 0.3));\n",
              "      fill: #FFFFFF;\n",
              "    }\n",
              "  </style>\n",
              "\n",
              "    <script>\n",
              "      const buttonEl =\n",
              "        document.querySelector('#df-9a9e6de1-00f0-4eb5-a4f2-0a38d6aa6c97 button.colab-df-convert');\n",
              "      buttonEl.style.display =\n",
              "        google.colab.kernel.accessAllowed ? 'block' : 'none';\n",
              "\n",
              "      async function convertToInteractive(key) {\n",
              "        const element = document.querySelector('#df-9a9e6de1-00f0-4eb5-a4f2-0a38d6aa6c97');\n",
              "        const dataTable =\n",
              "          await google.colab.kernel.invokeFunction('convertToInteractive',\n",
              "                                                    [key], {});\n",
              "        if (!dataTable) return;\n",
              "\n",
              "        const docLinkHtml = 'Like what you see? Visit the ' +\n",
              "          '<a target=\"_blank\" href=https://colab.research.google.com/notebooks/data_table.ipynb>data table notebook</a>'\n",
              "          + ' to learn more about interactive tables.';\n",
              "        element.innerHTML = '';\n",
              "        dataTable['output_type'] = 'display_data';\n",
              "        await google.colab.output.renderOutput(dataTable, element);\n",
              "        const docLink = document.createElement('div');\n",
              "        docLink.innerHTML = docLinkHtml;\n",
              "        element.appendChild(docLink);\n",
              "      }\n",
              "    </script>\n",
              "  </div>\n",
              "\n",
              "\n",
              "<div id=\"df-a44a8b26-25e6-4f8e-9b4f-6bd7fbce1671\">\n",
              "  <button class=\"colab-df-quickchart\" onclick=\"quickchart('df-a44a8b26-25e6-4f8e-9b4f-6bd7fbce1671')\"\n",
              "            title=\"Suggest charts.\"\n",
              "            style=\"display:none;\">\n",
              "\n",
              "<svg xmlns=\"http://www.w3.org/2000/svg\" height=\"24px\"viewBox=\"0 0 24 24\"\n",
              "     width=\"24px\">\n",
              "    <g>\n",
              "        <path d=\"M19 3H5c-1.1 0-2 .9-2 2v14c0 1.1.9 2 2 2h14c1.1 0 2-.9 2-2V5c0-1.1-.9-2-2-2zM9 17H7v-7h2v7zm4 0h-2V7h2v10zm4 0h-2v-4h2v4z\"/>\n",
              "    </g>\n",
              "</svg>\n",
              "  </button>\n",
              "\n",
              "<style>\n",
              "  .colab-df-quickchart {\n",
              "      --bg-color: #E8F0FE;\n",
              "      --fill-color: #1967D2;\n",
              "      --hover-bg-color: #E2EBFA;\n",
              "      --hover-fill-color: #174EA6;\n",
              "      --disabled-fill-color: #AAA;\n",
              "      --disabled-bg-color: #DDD;\n",
              "  }\n",
              "\n",
              "  [theme=dark] .colab-df-quickchart {\n",
              "      --bg-color: #3B4455;\n",
              "      --fill-color: #D2E3FC;\n",
              "      --hover-bg-color: #434B5C;\n",
              "      --hover-fill-color: #FFFFFF;\n",
              "      --disabled-bg-color: #3B4455;\n",
              "      --disabled-fill-color: #666;\n",
              "  }\n",
              "\n",
              "  .colab-df-quickchart {\n",
              "    background-color: var(--bg-color);\n",
              "    border: none;\n",
              "    border-radius: 50%;\n",
              "    cursor: pointer;\n",
              "    display: none;\n",
              "    fill: var(--fill-color);\n",
              "    height: 32px;\n",
              "    padding: 0;\n",
              "    width: 32px;\n",
              "  }\n",
              "\n",
              "  .colab-df-quickchart:hover {\n",
              "    background-color: var(--hover-bg-color);\n",
              "    box-shadow: 0 1px 2px rgba(60, 64, 67, 0.3), 0 1px 3px 1px rgba(60, 64, 67, 0.15);\n",
              "    fill: var(--button-hover-fill-color);\n",
              "  }\n",
              "\n",
              "  .colab-df-quickchart-complete:disabled,\n",
              "  .colab-df-quickchart-complete:disabled:hover {\n",
              "    background-color: var(--disabled-bg-color);\n",
              "    fill: var(--disabled-fill-color);\n",
              "    box-shadow: none;\n",
              "  }\n",
              "\n",
              "  .colab-df-spinner {\n",
              "    border: 2px solid var(--fill-color);\n",
              "    border-color: transparent;\n",
              "    border-bottom-color: var(--fill-color);\n",
              "    animation:\n",
              "      spin 1s steps(1) infinite;\n",
              "  }\n",
              "\n",
              "  @keyframes spin {\n",
              "    0% {\n",
              "      border-color: transparent;\n",
              "      border-bottom-color: var(--fill-color);\n",
              "      border-left-color: var(--fill-color);\n",
              "    }\n",
              "    20% {\n",
              "      border-color: transparent;\n",
              "      border-left-color: var(--fill-color);\n",
              "      border-top-color: var(--fill-color);\n",
              "    }\n",
              "    30% {\n",
              "      border-color: transparent;\n",
              "      border-left-color: var(--fill-color);\n",
              "      border-top-color: var(--fill-color);\n",
              "      border-right-color: var(--fill-color);\n",
              "    }\n",
              "    40% {\n",
              "      border-color: transparent;\n",
              "      border-right-color: var(--fill-color);\n",
              "      border-top-color: var(--fill-color);\n",
              "    }\n",
              "    60% {\n",
              "      border-color: transparent;\n",
              "      border-right-color: var(--fill-color);\n",
              "    }\n",
              "    80% {\n",
              "      border-color: transparent;\n",
              "      border-right-color: var(--fill-color);\n",
              "      border-bottom-color: var(--fill-color);\n",
              "    }\n",
              "    90% {\n",
              "      border-color: transparent;\n",
              "      border-bottom-color: var(--fill-color);\n",
              "    }\n",
              "  }\n",
              "</style>\n",
              "\n",
              "  <script>\n",
              "    async function quickchart(key) {\n",
              "      const quickchartButtonEl =\n",
              "        document.querySelector('#' + key + ' button');\n",
              "      quickchartButtonEl.disabled = true;  // To prevent multiple clicks.\n",
              "      quickchartButtonEl.classList.add('colab-df-spinner');\n",
              "      try {\n",
              "        const charts = await google.colab.kernel.invokeFunction(\n",
              "            'suggestCharts', [key], {});\n",
              "      } catch (error) {\n",
              "        console.error('Error during call to suggestCharts:', error);\n",
              "      }\n",
              "      quickchartButtonEl.classList.remove('colab-df-spinner');\n",
              "      quickchartButtonEl.classList.add('colab-df-quickchart-complete');\n",
              "    }\n",
              "    (() => {\n",
              "      let quickchartButtonEl =\n",
              "        document.querySelector('#df-a44a8b26-25e6-4f8e-9b4f-6bd7fbce1671 button');\n",
              "      quickchartButtonEl.style.display =\n",
              "        google.colab.kernel.accessAllowed ? 'block' : 'none';\n",
              "    })();\n",
              "  </script>\n",
              "</div>\n",
              "    </div>\n",
              "  </div>\n"
            ]
          },
          "metadata": {},
          "execution_count": 16
        }
      ]
    },
    {
      "cell_type": "code",
      "source": [
        "#get ready to use the dataset for the task\n",
        "df1 = dataset.copy()"
      ],
      "metadata": {
        "id": "eK_wdwoMO6OU"
      },
      "execution_count": 18,
      "outputs": []
    },
    {
      "cell_type": "markdown",
      "source": [
        "### Question 1.1"
      ],
      "metadata": {
        "id": "JHdtAuAL64oH"
      }
    },
    {
      "cell_type": "markdown",
      "source": [
        "Find the missing values:\n",
        "* Write the function missing_values_table and use the dataframe as the input. The function\n",
        "should return the information of missing values by column (only for columns which have\n",
        "missing values and the returned value should be the count of rows has missing values);\n",
        "* For columns which have missing values, could you impute the missing values with the\n",
        "mean value of the particular columns? (if you think it could not be done with mean value,\n",
        "write down the reason in comments and report rather than code)\n",
        "\n"
      ],
      "metadata": {
        "id": "-GUYVy8057Zt"
      }
    },
    {
      "cell_type": "markdown",
      "source": [
        "Answer 1.1"
      ],
      "metadata": {
        "id": "X7o6dsYsPj9b"
      }
    },
    {
      "cell_type": "markdown",
      "source": [
        "Let's create a function named as \"missing_values_table\" which used dataframe as input which returns missing value details."
      ],
      "metadata": {
        "id": "AvzhZZycUQNp"
      }
    },
    {
      "cell_type": "code",
      "source": [
        "# create functon for \"missing_values_table\".\n",
        "\n",
        "def missing_values_table(dataframe):\n",
        "    # Calculate total missing values in each column\n",
        "    missing_values = dataframe.isnull().sum()\n",
        "\n",
        "    # Calculate percentage of missing values\n",
        "    missing_percentage = (missing_values / len(dataframe)) * 100\n",
        "\n",
        "    # Create a table to display missing value information\n",
        "    missing_table = pd.concat([missing_values, missing_percentage], axis=1)\n",
        "    missing_table.columns = ['Missing Values', 'Percentage']\n",
        "\n",
        "    # Filter only columns with missing values\n",
        "    missing_table = missing_table[missing_table['Missing Values'] > 0]\n",
        "\n",
        "    # Impute missing values with the mean for numeric columns (if applicable)\n",
        "    for column in missing_table.index:\n",
        "        if pd.api.types.is_numeric_dtype(dataframe[column]):\n",
        "            dataframe[column].fillna(dataframe[column].mean(), inplace=True)\n",
        "\n",
        "    return missing_table"
      ],
      "metadata": {
        "id": "Mh_HVSmsPZpp"
      },
      "execution_count": 71,
      "outputs": []
    },
    {
      "cell_type": "markdown",
      "source": [
        "Let's apply the function to our dataset and check the details of missing values."
      ],
      "metadata": {
        "id": "TCiOkYhzVJ8M"
      }
    },
    {
      "cell_type": "code",
      "source": [
        "# Apply the function\n",
        "missing_value_info = missing_values_table(df1)\n",
        "print(missing_value_info)"
      ],
      "metadata": {
        "colab": {
          "base_uri": "https://localhost:8080/"
        },
        "id": "kzMgID1CPqLp",
        "outputId": "cfc91e93-550d-4a22-c2a6-f9fff9729f97"
      },
      "execution_count": 72,
      "outputs": [
        {
          "output_type": "stream",
          "name": "stdout",
          "text": [
            "                   Missing Values  Percentage\n",
            "category_name                1539    0.432537\n",
            "brand_name                 151956   42.707303\n",
            "clean_description             194    0.054524\n"
          ]
        }
      ]
    },
    {
      "cell_type": "code",
      "source": [
        "# Create a bar plot to visualize missing value percentages\n",
        "plt.figure(figsize=(6, 4))\n",
        "sns.barplot(x=missing_info.index, y=missing_info['Percentage'], palette='viridis')\n",
        "plt.xticks(rotation=45)\n",
        "plt.xlabel('Columns with Missing Values')\n",
        "plt.ylabel('Percentage of Missing Values')\n",
        "plt.title('Missing Value Analysis')\n",
        "plt.tight_layout()\n",
        "\n",
        "# Show the plot\n",
        "plt.show()"
      ],
      "metadata": {
        "colab": {
          "base_uri": "https://localhost:8080/",
          "height": 407
        },
        "id": "i9TS1GLzQGPx",
        "outputId": "f705fef7-6f12-4a91-a1b1-6058ea47497f"
      },
      "execution_count": 30,
      "outputs": [
        {
          "output_type": "display_data",
          "data": {
            "text/plain": [
              "<Figure size 600x400 with 1 Axes>"
            ],
            "image/png": "[encoded data removed]"
          },
          "metadata": {}
        }
      ]
    },
    {
      "cell_type": "markdown",
      "source": [
        "### Question 1.2"
      ],
      "metadata": {
        "id": "-Lcjdrh269jU"
      }
    },
    {
      "cell_type": "markdown",
      "source": [
        "Find the price information from the data:\n",
        "* Write code to print the median price of the items in the data;\n",
        "* What is the 90th percentile value on the price;\n",
        "* Draw the histogram chart for the price of the items in the data with 50 bins."
      ],
      "metadata": {
        "id": "BmoNW1cv6QoP"
      }
    },
    {
      "cell_type": "markdown",
      "source": [
        "Answer 1.2"
      ],
      "metadata": {
        "id": "-KXLDhJyPoPl"
      }
    },
    {
      "cell_type": "code",
      "source": [
        "# Print the median price\n",
        "median_price = df1['price'].median()\n",
        "print(f\"Median Price: {median_price:.2f}\")"
      ],
      "metadata": {
        "id": "AgFvxETc3U_F",
        "colab": {
          "base_uri": "https://localhost:8080/"
        },
        "outputId": "30cfe072-5dbe-4bc8-abb0-3fff86c3df34"
      },
      "execution_count": 33,
      "outputs": [
        {
          "output_type": "stream",
          "name": "stdout",
          "text": [
            "Median Price: 17.00\n"
          ]
        }
      ]
    },
    {
      "cell_type": "code",
      "source": [
        "# Calculate the 90th percentile price\n",
        "percentile_90th = df1['price'].quantile(0.90)\n",
        "print(f\"90th Percentile Price: {percentile_90th:.2f}\")"
      ],
      "metadata": {
        "id": "uYwPAZBOSK3L",
        "colab": {
          "base_uri": "https://localhost:8080/"
        },
        "outputId": "9de6241c-9877-496c-b3c6-3e8288720778"
      },
      "execution_count": 35,
      "outputs": [
        {
          "output_type": "stream",
          "name": "stdout",
          "text": [
            "90th Percentile Price: 51.00\n"
          ]
        }
      ]
    },
    {
      "cell_type": "code",
      "source": [
        "# Draw a histogram chart for the price with 50 bins\n",
        "plt.figure(figsize=(8, 5))\n",
        "plt.hist(df1['price'], bins=50, color='skyblue', edgecolor='black')\n",
        "plt.xlabel('Price')\n",
        "plt.ylabel('Frequency')\n",
        "plt.title('Price Distribution')\n",
        "plt.grid(True)\n",
        "plt.show()"
      ],
      "metadata": {
        "colab": {
          "base_uri": "https://localhost:8080/",
          "height": 487
        },
        "id": "qj8cBTMnRFjF",
        "outputId": "3d391b5d-d8df-47c1-92c7-4f43ef21eae7"
      },
      "execution_count": 44,
      "outputs": [
        {
          "output_type": "display_data",
          "data": {
            "text/plain": [
              "<Figure size 800x500 with 1 Axes>"
            ],
            "image/png": "[encoded data removed]"
          },
          "metadata": {}
        }
      ]
    },
    {
      "cell_type": "markdown",
      "source": [
        "### Question 1.3"
      ],
      "metadata": {
        "id": "09Y9O1b_7D0D"
      }
    },
    {
      "cell_type": "markdown",
      "source": [
        "Exploring the shipping information from the data:\n",
        "• Write code to find out the percentage of the items that are paid by the buyers.\n",
        "* Draw (two) histogram graphs in one plot on the price for seller pays shipping and buyer\n",
        "pays shipping (50 bins).\n",
        "* When buying the items online, do you need to pay higher price if seller pays for the\n",
        "shipping? Write the code to find out (Compare the median price of items paid by buyers\n",
        "and items paid by sellers, and explain the result in the comment and report).\n",
        "(Optional: You could use the subplot from EDA)\n"
      ],
      "metadata": {
        "id": "0fNXmfil6aE5"
      }
    },
    {
      "cell_type": "markdown",
      "source": [
        "Answer 1.3"
      ],
      "metadata": {
        "id": "zGYuY0iBPrrS"
      }
    },
    {
      "cell_type": "code",
      "source": [
        "# Calculate the percentage of items paid by buyers\n",
        "percentage_buyer_pays = (df1['shipping'] == 1).mean() * 100\n",
        "print(f\"Percentage of Items Paid by Buyers: {percentage_buyer_pays:.2f}%\")"
      ],
      "metadata": {
        "id": "wVQvBjLK6ofv",
        "colab": {
          "base_uri": "https://localhost:8080/"
        },
        "outputId": "2a170054-8f06-46e8-f334-d1dcccd7bcc3"
      },
      "execution_count": 40,
      "outputs": [
        {
          "output_type": "stream",
          "name": "stdout",
          "text": [
            "Percentage of Items Paid by Buyers: 44.62%\n"
          ]
        }
      ]
    },
    {
      "cell_type": "code",
      "source": [
        "plt.figure(figsize=(8, 5))\n",
        "\n",
        "# Histogram for seller pays shipping\n",
        "plt.hist(df1[df1['shipping'] == 0]['price'], bins=50, alpha=0.5, label='Seller Pays Shipping', color='skyblue', edgecolor='black')\n",
        "\n",
        "# Histogram for buyer pays shipping\n",
        "plt.hist(df1[df1['shipping'] == 1]['price'], bins=50, alpha=0.5, label='Buyer Pays Shipping', color='salmon', edgecolor='black')\n",
        "\n",
        "plt.xlabel('Price')\n",
        "plt.ylabel('Frequency')\n",
        "plt.title('Price Distribution by Shipping Type')\n",
        "plt.legend()\n",
        "plt.grid(True)\n",
        "\n",
        "# Show the plot\n",
        "plt.show()"
      ],
      "metadata": {
        "colab": {
          "base_uri": "https://localhost:8080/",
          "height": 487
        },
        "id": "ZmQNlxeaRq47",
        "outputId": "60038226-3381-4bc4-a3c6-9f95808d10ff"
      },
      "execution_count": 43,
      "outputs": [
        {
          "output_type": "display_data",
          "data": {
            "text/plain": [
              "<Figure size 800x500 with 1 Axes>"
            ],
            "image/png": "[encoded data removed]"
          },
          "metadata": {}
        }
      ]
    },
    {
      "cell_type": "code",
      "source": [
        "# Compare median prices for seller and buyer pays shipping\n",
        "median_price_seller_pays = df1[df1['shipping'] == 0]['price'].median()\n",
        "median_price_buyer_pays = df1[df1['shipping'] == 1]['price'].median()"
      ],
      "metadata": {
        "id": "2l-Tj8qLR7Jt"
      },
      "execution_count": 46,
      "outputs": []
    },
    {
      "cell_type": "code",
      "source": [
        "# Explanation\n",
        "print(f\"Median Price when Seller Pays Shipping: {median_price_seller_pays:.2f}\")\n",
        "print(f\"Median Price when Buyer Pays Shipping: {median_price_buyer_pays:.2f}\")"
      ],
      "metadata": {
        "colab": {
          "base_uri": "https://localhost:8080/"
        },
        "id": "_0ZG_4p9STyA",
        "outputId": "3125fb27-7759-4104-ab5c-b0ca48ffe23f"
      },
      "execution_count": 48,
      "outputs": [
        {
          "output_type": "stream",
          "name": "stdout",
          "text": [
            "Median Price when Seller Pays Shipping: 19.00\n",
            "Median Price when Buyer Pays Shipping: 14.00\n"
          ]
        }
      ]
    },
    {
      "cell_type": "code",
      "source": [
        "def compare_median_prices(df):\n",
        "    # Calculate median price for items where the seller pays shipping\n",
        "    median_price_seller_pays = df1[df1['shipping'] == 0]['price'].median()\n",
        "\n",
        "    # Calculate median price for items where the buyer pays shipping\n",
        "    median_price_buyer_pays = df1[df1['shipping'] == 1]['price'].median()\n",
        "\n",
        "    # Explanation based on the comparison\n",
        "    if median_price_seller_pays > median_price_buyer_pays:\n",
        "        explanation = \"When the seller pays for shipping, the median price is higher, suggesting that sellers may charge a higher price when they cover shipping costs.\"\n",
        "    elif median_price_seller_pays < median_price_buyer_pays:\n",
        "        explanation = \"When the buyer pays for shipping, the median price is higher, indicating that buyers may be willing to pay a higher price if they don't have to cover shipping costs.\"\n",
        "    else:\n",
        "        explanation = \"The median prices for both cases are the same.\"\n",
        "\n",
        "    return median_price_seller_pays, median_price_buyer_pays, explanation\n"
      ],
      "metadata": {
        "id": "FgXW5uAnS-2S"
      },
      "execution_count": 53,
      "outputs": []
    },
    {
      "cell_type": "code",
      "source": [
        "explanation = compare_median_prices(df1)\n",
        "print(explanation)"
      ],
      "metadata": {
        "colab": {
          "base_uri": "https://localhost:8080/"
        },
        "id": "PktnIbgHTd3r",
        "outputId": "f40c7646-f075-4b91-81c9-8f7b3f3dc5e8"
      },
      "execution_count": 54,
      "outputs": [
        {
          "output_type": "stream",
          "name": "stdout",
          "text": [
            "(19.0, 14.0, 'When the seller pays for shipping, the median price is higher, suggesting that sellers may charge a higher price when they cover shipping costs.')\n"
          ]
        }
      ]
    },
    {
      "cell_type": "code",
      "source": [
        "# Assuming you have loaded your dataset into the 'df' DataFrame\n",
        "median_seller, median_buyer, explanation = compare_median_prices(df1)\n",
        "\n",
        "# Print the results and explanation\n",
        "print(f\"Median Price when Seller Pays Shipping: ${median_seller:.2f}\")\n",
        "print(f\"Median Price when Buyer Pays Shipping: ${median_buyer:.2f}\")\n",
        "print(explanation)"
      ],
      "metadata": {
        "id": "fR0G72KJTEjZ"
      },
      "execution_count": null,
      "outputs": []
    },
    {
      "cell_type": "markdown",
      "source": [
        "### Question 1.4"
      ],
      "metadata": {
        "id": "bIA_TjxV6nhR"
      }
    },
    {
      "cell_type": "markdown",
      "source": [
        "You are required to find out the item condition information from the data. Lower the number\n",
        "(value), the better condition of the item.\n",
        "* Write the code to find out (print) the count of the rows on each number (value) in column\n",
        "item_condition_id.\n",
        "* Draw the boxplot graphs (one plot) on the price for each item condition value, and find out\n",
        "out whether the better condition of the item could have higher median price (draw the plot\n",
        "and answer this question in the comment and report)."
      ],
      "metadata": {
        "id": "s7w1T4GR7RE4"
      }
    },
    {
      "cell_type": "markdown",
      "source": [
        "Answer 1.4"
      ],
      "metadata": {
        "id": "xGvNkMFuPu9a"
      }
    },
    {
      "cell_type": "code",
      "source": [],
      "metadata": {
        "id": "x8hIwTeI9iqE"
      },
      "execution_count": null,
      "outputs": []
    },
    {
      "cell_type": "markdown",
      "source": [
        "### Question 1.5"
      ],
      "metadata": {
        "id": "06Sg5WBA8Fsh"
      }
    },
    {
      "cell_type": "markdown",
      "source": [
        "Conduct the category analysis and find out the relevant information:\n",
        "* Write the code to find out (print) how many unique categories you could find from column\n",
        "category_name.\n",
        "* For the items with worst condition only (highest value from item_condition_id), write code\n",
        "to (print) find out the top 3 categories (now you probably understand the findings you had\n",
        "in Question 1.4)."
      ],
      "metadata": {
        "id": "FPneBkRv9laN"
      }
    },
    {
      "cell_type": "markdown",
      "source": [
        "Answer 1.5"
      ],
      "metadata": {
        "id": "xzSfnL4xPxmS"
      }
    },
    {
      "cell_type": "code",
      "source": [],
      "metadata": {
        "id": "UoFrITLTPqi6"
      },
      "execution_count": null,
      "outputs": []
    },
    {
      "cell_type": "markdown",
      "source": [
        "### Question 1.6"
      ],
      "metadata": {
        "id": "ec1FKiTOPsfQ"
      }
    },
    {
      "cell_type": "markdown",
      "source": [
        "The categories in column category_name have 3 parts. The three parts (main_cat,subcat_1 and\n",
        "subcat_2) are concatenated with ’/’ character sequentially in the data now.\n",
        "* Write the function (must be function) to split the text content (string value in each row) in\n",
        "column category_name by ’/’ character. you need to handle the exception in the function\n",
        "for those has missing values (NaN). For missing values (NaN), the results from splitting\n",
        "should be ”Category Unknown”, ”Category Unknown”, ”Category Unknown”.\n",
        "* Use the above function you wrote to create three new columns main_cat,subcat_1 and\n",
        "subcat_2 with corresponding values from the result of splitting. Print out the dataframe to\n",
        "show the top 5 rows for three new columns main_cat,subcat_1 and subcat_2.\n"
      ],
      "metadata": {
        "id": "Nak8Ji85PvvN"
      }
    },
    {
      "cell_type": "markdown",
      "source": [
        "Answer 1.6"
      ],
      "metadata": {
        "id": "j9gOPxgkPzoc"
      }
    },
    {
      "cell_type": "code",
      "source": [],
      "metadata": {
        "id": "-yVpx83KQNWC"
      },
      "execution_count": null,
      "outputs": []
    },
    {
      "cell_type": "markdown",
      "source": [
        "### Question 1.7"
      ],
      "metadata": {
        "id": "_lGgr5fLQZHQ"
      }
    },
    {
      "cell_type": "markdown",
      "source": [
        "After splitting the category for column category_name, we now have the three main details\n",
        "regarding to the category information. However, we need to clean the text in each of the new\n",
        "three columns in lowercase.\n",
        "* Write code (or function) to change the text (value in each row) from the new three columns\n",
        "to lowercase.\n",
        "* Draw the bar chart to find out the top 5 most popular main categories (in column main_cat)\n",
        "in the data (only showing the top 5).\n",
        "* Write code (or function) to (print) find out how many unique main categories (in col umn\n",
        "main_cat), unique first sub-categories (in column subcat_1) and unique second\n",
        "sub-categories (in column subcat_2) respectively."
      ],
      "metadata": {
        "id": "WFZLZzuYQbXB"
      }
    },
    {
      "cell_type": "markdown",
      "source": [
        "Answer 1.7"
      ],
      "metadata": {
        "id": "uEYeznCGIdZ_"
      }
    },
    {
      "cell_type": "code",
      "source": [],
      "metadata": {
        "id": "NMZHO6rw3Zm-"
      },
      "execution_count": null,
      "outputs": []
    },
    {
      "cell_type": "markdown",
      "source": [
        "### Question 1.8"
      ],
      "metadata": {
        "id": "bYQLRj7K3Y1N"
      }
    },
    {
      "cell_type": "markdown",
      "source": [
        "Exploring the price and categories.\n",
        "* Write code to (print) find out the median price for all the categories in new column main_cat.\n",
        "* Draw the bar chart to find out the top 10 most expensive first sub-categories (in column\n",
        "subcat_1) in the data.\n",
        "* Draw the bar chart to find out the top 10 cheapest second sub-categories (in column\n",
        "subcat_2) in the data.\n"
      ],
      "metadata": {
        "id": "folCIJvyRabN"
      }
    },
    {
      "cell_type": "markdown",
      "source": [
        "Answer 1.8"
      ],
      "metadata": {
        "id": "_2wLVdKtP4Bw"
      }
    },
    {
      "cell_type": "code",
      "source": [],
      "metadata": {
        "id": "zDVCgZLhMsGW"
      },
      "execution_count": null,
      "outputs": []
    },
    {
      "cell_type": "markdown",
      "source": [
        "### Question 1.9"
      ],
      "metadata": {
        "id": "8i2C6TX8kMeg"
      }
    },
    {
      "cell_type": "markdown",
      "source": [
        "Exploring the price and brand.\n",
        "* Write code to (print) find out the median price for all the brands (fill NaN with ’brand\n",
        "unavailable’).\n",
        "* Draw the bar chart to find out the top 10 most popular brands in the data.\n"
      ],
      "metadata": {
        "id": "JSN8sULRkWT6"
      }
    },
    {
      "cell_type": "markdown",
      "source": [
        "Answer 1.9"
      ],
      "metadata": {
        "id": "Ueehnkm9kgkW"
      }
    },
    {
      "cell_type": "code",
      "source": [],
      "metadata": {
        "id": "I3Qaj63Akbss"
      },
      "execution_count": null,
      "outputs": []
    },
    {
      "cell_type": "markdown",
      "source": [
        "### Question 1.10"
      ],
      "metadata": {
        "id": "jf1FP6lHkjeD"
      }
    },
    {
      "cell_type": "markdown",
      "source": [
        "Item Description Analysis.\n",
        "* Could you draw the wordcloud chart by using the column clean_description.\n",
        "* Divide the data with quantiles of the price (using qcut from pandas to obtain the first/sec\n",
        "ond/third/fourth quantile).\n",
        "* Draw the wordcould by using the column clean_description on each quantile of price data.\n"
      ],
      "metadata": {
        "id": "E1GAT2mvkl_G"
      }
    },
    {
      "cell_type": "markdown",
      "source": [
        "Answer 1.10"
      ],
      "metadata": {
        "id": "au8poY_KktRm"
      }
    },
    {
      "cell_type": "code",
      "source": [],
      "metadata": {
        "id": "BCqmz9Ymkvxi"
      },
      "execution_count": null,
      "outputs": []
    },
    {
      "cell_type": "markdown",
      "source": [
        "### =============== THE END ==============="
      ],
      "metadata": {
        "id": "2-GLpn41P6T9"
      }
    },
    {
      "cell_type": "markdown",
      "source": [
        "# Part-2\n",
        "## Time series analysis exercise"
      ],
      "metadata": {
        "id": "yGK7O4684VIu"
      }
    },
    {
      "cell_type": "markdown",
      "source": [
        "### Data Preprocessing"
      ],
      "metadata": {
        "id": "Dgx6kj8LMXoK"
      }
    },
    {
      "cell_type": "code",
      "source": [
        "# load the dataset file and read the csv\n",
        "file_name = \"nyc_taxi.csv\"\n",
        "\n",
        "# Load the CSV file into a DataFrame\n",
        "dataset2 = pd.read_csv(folder_path + file_name)"
      ],
      "metadata": {
        "id": "UORgrRIiMaZI"
      },
      "execution_count": 12,
      "outputs": []
    },
    {
      "cell_type": "code",
      "source": [
        "dataset2.head()"
      ],
      "metadata": {
        "colab": {
          "base_uri": "https://localhost:8080/",
          "height": 206
        },
        "id": "-up-7gG6MkmU",
        "outputId": "5bf175b3-d44c-4b90-c40d-96b53c7a8423"
      },
      "execution_count": 13,
      "outputs": [
        {
          "output_type": "execute_result",
          "data": {
            "text/plain": [
              "             timestamp  value\n",
              "0  2014-07-01 00:00:00  10844\n",
              "1  2014-07-01 00:30:00   8127\n",
              "2  2014-07-01 01:00:00   6210\n",
              "3  2014-07-01 01:30:00   4656\n",
              "4  2014-07-01 02:00:00   3820"
            ],
            "text/html": [
              "\n",
              "  <div id=\"df-c2885d91-f96d-4584-99d2-77a22f86af43\" class=\"colab-df-container\">\n",
              "    <div>\n",
              "<style scoped>\n",
              "    .dataframe tbody tr th:only-of-type {\n",
              "        vertical-align: middle;\n",
              "    }\n",
              "\n",
              "    .dataframe tbody tr th {\n",
              "        vertical-align: top;\n",
              "    }\n",
              "\n",
              "    .dataframe thead th {\n",
              "        text-align: right;\n",
              "    }\n",
              "</style>\n",
              "<table border=\"1\" class=\"dataframe\">\n",
              "  <thead>\n",
              "    <tr style=\"text-align: right;\">\n",
              "      <th></th>\n",
              "      <th>timestamp</th>\n",
              "      <th>value</th>\n",
              "    </tr>\n",
              "  </thead>\n",
              "  <tbody>\n",
              "    <tr>\n",
              "      <th>0</th>\n",
              "      <td>2014-07-01 00:00:00</td>\n",
              "      <td>10844</td>\n",
              "    </tr>\n",
              "    <tr>\n",
              "      <th>1</th>\n",
              "      <td>2014-07-01 00:30:00</td>\n",
              "      <td>8127</td>\n",
              "    </tr>\n",
              "    <tr>\n",
              "      <th>2</th>\n",
              "      <td>2014-07-01 01:00:00</td>\n",
              "      <td>6210</td>\n",
              "    </tr>\n",
              "    <tr>\n",
              "      <th>3</th>\n",
              "      <td>2014-07-01 01:30:00</td>\n",
              "      <td>4656</td>\n",
              "    </tr>\n",
              "    <tr>\n",
              "      <th>4</th>\n",
              "      <td>2014-07-01 02:00:00</td>\n",
              "      <td>3820</td>\n",
              "    </tr>\n",
              "  </tbody>\n",
              "</table>\n",
              "</div>\n",
              "    <div class=\"colab-df-buttons\">\n",
              "\n",
              "  <div class=\"colab-df-container\">\n",
              "    <button class=\"colab-df-convert\" onclick=\"convertToInteractive('df-c2885d91-f96d-4584-99d2-77a22f86af43')\"\n",
              "            title=\"Convert this dataframe to an interactive table.\"\n",
              "            style=\"display:none;\">\n",
              "\n",
              "  <svg xmlns=\"http://www.w3.org/2000/svg\" height=\"24px\" viewBox=\"0 -960 960 960\">\n",
              "    <path d=\"M120-120v-720h720v720H120Zm60-500h600v-160H180v160Zm220 220h160v-160H400v160Zm0 220h160v-160H400v160ZM180-400h160v-160H180v160Zm440 0h160v-160H620v160ZM180-180h160v-160H180v160Zm440 0h160v-160H620v160Z\"/>\n",
              "  </svg>\n",
              "    </button>\n",
              "\n",
              "  <style>\n",
              "    .colab-df-container {\n",
              "      display:flex;\n",
              "      gap: 12px;\n",
              "    }\n",
              "\n",
              "    .colab-df-convert {\n",
              "      background-color: #E8F0FE;\n",
              "      border: none;\n",
              "      border-radius: 50%;\n",
              "      cursor: pointer;\n",
              "      display: none;\n",
              "      fill: #1967D2;\n",
              "      height: 32px;\n",
              "      padding: 0 0 0 0;\n",
              "      width: 32px;\n",
              "    }\n",
              "\n",
              "    .colab-df-convert:hover {\n",
              "      background-color: #E2EBFA;\n",
              "      box-shadow: 0px 1px 2px rgba(60, 64, 67, 0.3), 0px 1px 3px 1px rgba(60, 64, 67, 0.15);\n",
              "      fill: #174EA6;\n",
              "    }\n",
              "\n",
              "    .colab-df-buttons div {\n",
              "      margin-bottom: 4px;\n",
              "    }\n",
              "\n",
              "    [theme=dark] .colab-df-convert {\n",
              "      background-color: #3B4455;\n",
              "      fill: #D2E3FC;\n",
              "    }\n",
              "\n",
              "    [theme=dark] .colab-df-convert:hover {\n",
              "      background-color: #434B5C;\n",
              "      box-shadow: 0px 1px 3px 1px rgba(0, 0, 0, 0.15);\n",
              "      filter: drop-shadow(0px 1px 2px rgba(0, 0, 0, 0.3));\n",
              "      fill: #FFFFFF;\n",
              "    }\n",
              "  </style>\n",
              "\n",
              "    <script>\n",
              "      const buttonEl =\n",
              "        document.querySelector('#df-c2885d91-f96d-4584-99d2-77a22f86af43 button.colab-df-convert');\n",
              "      buttonEl.style.display =\n",
              "        google.colab.kernel.accessAllowed ? 'block' : 'none';\n",
              "\n",
              "      async function convertToInteractive(key) {\n",
              "        const element = document.querySelector('#df-c2885d91-f96d-4584-99d2-77a22f86af43');\n",
              "        const dataTable =\n",
              "          await google.colab.kernel.invokeFunction('convertToInteractive',\n",
              "                                                    [key], {});\n",
              "        if (!dataTable) return;\n",
              "\n",
              "        const docLinkHtml = 'Like what you see? Visit the ' +\n",
              "          '<a target=\"_blank\" href=https://colab.research.google.com/notebooks/data_table.ipynb>data table notebook</a>'\n",
              "          + ' to learn more about interactive tables.';\n",
              "        element.innerHTML = '';\n",
              "        dataTable['output_type'] = 'display_data';\n",
              "        await google.colab.output.renderOutput(dataTable, element);\n",
              "        const docLink = document.createElement('div');\n",
              "        docLink.innerHTML = docLinkHtml;\n",
              "        element.appendChild(docLink);\n",
              "      }\n",
              "    </script>\n",
              "  </div>\n",
              "\n",
              "\n",
              "<div id=\"df-ccef7388-302e-4a7b-8f25-5377cc6c6074\">\n",
              "  <button class=\"colab-df-quickchart\" onclick=\"quickchart('df-ccef7388-302e-4a7b-8f25-5377cc6c6074')\"\n",
              "            title=\"Suggest charts.\"\n",
              "            style=\"display:none;\">\n",
              "\n",
              "<svg xmlns=\"http://www.w3.org/2000/svg\" height=\"24px\"viewBox=\"0 0 24 24\"\n",
              "     width=\"24px\">\n",
              "    <g>\n",
              "        <path d=\"M19 3H5c-1.1 0-2 .9-2 2v14c0 1.1.9 2 2 2h14c1.1 0 2-.9 2-2V5c0-1.1-.9-2-2-2zM9 17H7v-7h2v7zm4 0h-2V7h2v10zm4 0h-2v-4h2v4z\"/>\n",
              "    </g>\n",
              "</svg>\n",
              "  </button>\n",
              "\n",
              "<style>\n",
              "  .colab-df-quickchart {\n",
              "      --bg-color: #E8F0FE;\n",
              "      --fill-color: #1967D2;\n",
              "      --hover-bg-color: #E2EBFA;\n",
              "      --hover-fill-color: #174EA6;\n",
              "      --disabled-fill-color: #AAA;\n",
              "      --disabled-bg-color: #DDD;\n",
              "  }\n",
              "\n",
              "  [theme=dark] .colab-df-quickchart {\n",
              "      --bg-color: #3B4455;\n",
              "      --fill-color: #D2E3FC;\n",
              "      --hover-bg-color: #434B5C;\n",
              "      --hover-fill-color: #FFFFFF;\n",
              "      --disabled-bg-color: #3B4455;\n",
              "      --disabled-fill-color: #666;\n",
              "  }\n",
              "\n",
              "  .colab-df-quickchart {\n",
              "    background-color: var(--bg-color);\n",
              "    border: none;\n",
              "    border-radius: 50%;\n",
              "    cursor: pointer;\n",
              "    display: none;\n",
              "    fill: var(--fill-color);\n",
              "    height: 32px;\n",
              "    padding: 0;\n",
              "    width: 32px;\n",
              "  }\n",
              "\n",
              "  .colab-df-quickchart:hover {\n",
              "    background-color: var(--hover-bg-color);\n",
              "    box-shadow: 0 1px 2px rgba(60, 64, 67, 0.3), 0 1px 3px 1px rgba(60, 64, 67, 0.15);\n",
              "    fill: var(--button-hover-fill-color);\n",
              "  }\n",
              "\n",
              "  .colab-df-quickchart-complete:disabled,\n",
              "  .colab-df-quickchart-complete:disabled:hover {\n",
              "    background-color: var(--disabled-bg-color);\n",
              "    fill: var(--disabled-fill-color);\n",
              "    box-shadow: none;\n",
              "  }\n",
              "\n",
              "  .colab-df-spinner {\n",
              "    border: 2px solid var(--fill-color);\n",
              "    border-color: transparent;\n",
              "    border-bottom-color: var(--fill-color);\n",
              "    animation:\n",
              "      spin 1s steps(1) infinite;\n",
              "  }\n",
              "\n",
              "  @keyframes spin {\n",
              "    0% {\n",
              "      border-color: transparent;\n",
              "      border-bottom-color: var(--fill-color);\n",
              "      border-left-color: var(--fill-color);\n",
              "    }\n",
              "    20% {\n",
              "      border-color: transparent;\n",
              "      border-left-color: var(--fill-color);\n",
              "      border-top-color: var(--fill-color);\n",
              "    }\n",
              "    30% {\n",
              "      border-color: transparent;\n",
              "      border-left-color: var(--fill-color);\n",
              "      border-top-color: var(--fill-color);\n",
              "      border-right-color: var(--fill-color);\n",
              "    }\n",
              "    40% {\n",
              "      border-color: transparent;\n",
              "      border-right-color: var(--fill-color);\n",
              "      border-top-color: var(--fill-color);\n",
              "    }\n",
              "    60% {\n",
              "      border-color: transparent;\n",
              "      border-right-color: var(--fill-color);\n",
              "    }\n",
              "    80% {\n",
              "      border-color: transparent;\n",
              "      border-right-color: var(--fill-color);\n",
              "      border-bottom-color: var(--fill-color);\n",
              "    }\n",
              "    90% {\n",
              "      border-color: transparent;\n",
              "      border-bottom-color: var(--fill-color);\n",
              "    }\n",
              "  }\n",
              "</style>\n",
              "\n",
              "  <script>\n",
              "    async function quickchart(key) {\n",
              "      const quickchartButtonEl =\n",
              "        document.querySelector('#' + key + ' button');\n",
              "      quickchartButtonEl.disabled = true;  // To prevent multiple clicks.\n",
              "      quickchartButtonEl.classList.add('colab-df-spinner');\n",
              "      try {\n",
              "        const charts = await google.colab.kernel.invokeFunction(\n",
              "            'suggestCharts', [key], {});\n",
              "      } catch (error) {\n",
              "        console.error('Error during call to suggestCharts:', error);\n",
              "      }\n",
              "      quickchartButtonEl.classList.remove('colab-df-spinner');\n",
              "      quickchartButtonEl.classList.add('colab-df-quickchart-complete');\n",
              "    }\n",
              "    (() => {\n",
              "      let quickchartButtonEl =\n",
              "        document.querySelector('#df-ccef7388-302e-4a7b-8f25-5377cc6c6074 button');\n",
              "      quickchartButtonEl.style.display =\n",
              "        google.colab.kernel.accessAllowed ? 'block' : 'none';\n",
              "    })();\n",
              "  </script>\n",
              "</div>\n",
              "    </div>\n",
              "  </div>\n"
            ]
          },
          "metadata": {},
          "execution_count": 13
        }
      ]
    },
    {
      "cell_type": "code",
      "source": [
        "dataset2.shape"
      ],
      "metadata": {
        "colab": {
          "base_uri": "https://localhost:8080/"
        },
        "id": "JYNyvHtOcHaB",
        "outputId": "fcd0db0b-9723-4262-c5a2-f9901d74688f"
      },
      "execution_count": 73,
      "outputs": [
        {
          "output_type": "execute_result",
          "data": {
            "text/plain": [
              "(10320, 2)"
            ]
          },
          "metadata": {},
          "execution_count": 73
        }
      ]
    },
    {
      "cell_type": "code",
      "source": [
        "dataset2.info()"
      ],
      "metadata": {
        "colab": {
          "base_uri": "https://localhost:8080/"
        },
        "id": "cN57gdW1MjxF",
        "outputId": "50ebebaf-8b96-43e8-9624-7d473732b374"
      },
      "execution_count": 14,
      "outputs": [
        {
          "output_type": "stream",
          "name": "stdout",
          "text": [
            "<class 'pandas.core.frame.DataFrame'>\n",
            "RangeIndex: 10320 entries, 0 to 10319\n",
            "Data columns (total 2 columns):\n",
            " #   Column     Non-Null Count  Dtype \n",
            "---  ------     --------------  ----- \n",
            " 0   timestamp  10320 non-null  object\n",
            " 1   value      10320 non-null  int64 \n",
            "dtypes: int64(1), object(1)\n",
            "memory usage: 161.4+ KB\n"
          ]
        }
      ]
    },
    {
      "cell_type": "code",
      "source": [
        "dataset2.describe()"
      ],
      "metadata": {
        "colab": {
          "base_uri": "https://localhost:8080/",
          "height": 300
        },
        "id": "_yLx7JveMqnz",
        "outputId": "05ceecea-cbce-46cb-bb68-1398c74e2070"
      },
      "execution_count": 15,
      "outputs": [
        {
          "output_type": "execute_result",
          "data": {
            "text/plain": [
              "              value\n",
              "count  10320.000000\n",
              "mean   15137.569380\n",
              "std     6939.495808\n",
              "min        8.000000\n",
              "25%    10262.000000\n",
              "50%    16778.000000\n",
              "75%    19838.750000\n",
              "max    39197.000000"
            ],
            "text/html": [
              "\n",
              "  <div id=\"df-4f50ace2-fbb9-48d9-bd87-2c85a6f40f09\" class=\"colab-df-container\">\n",
              "    <div>\n",
              "<style scoped>\n",
              "    .dataframe tbody tr th:only-of-type {\n",
              "        vertical-align: middle;\n",
              "    }\n",
              "\n",
              "    .dataframe tbody tr th {\n",
              "        vertical-align: top;\n",
              "    }\n",
              "\n",
              "    .dataframe thead th {\n",
              "        text-align: right;\n",
              "    }\n",
              "</style>\n",
              "<table border=\"1\" class=\"dataframe\">\n",
              "  <thead>\n",
              "    <tr style=\"text-align: right;\">\n",
              "      <th></th>\n",
              "      <th>value</th>\n",
              "    </tr>\n",
              "  </thead>\n",
              "  <tbody>\n",
              "    <tr>\n",
              "      <th>count</th>\n",
              "      <td>10320.000000</td>\n",
              "    </tr>\n",
              "    <tr>\n",
              "      <th>mean</th>\n",
              "      <td>15137.569380</td>\n",
              "    </tr>\n",
              "    <tr>\n",
              "      <th>std</th>\n",
              "      <td>6939.495808</td>\n",
              "    </tr>\n",
              "    <tr>\n",
              "      <th>min</th>\n",
              "      <td>8.000000</td>\n",
              "    </tr>\n",
              "    <tr>\n",
              "      <th>25%</th>\n",
              "      <td>10262.000000</td>\n",
              "    </tr>\n",
              "    <tr>\n",
              "      <th>50%</th>\n",
              "      <td>16778.000000</td>\n",
              "    </tr>\n",
              "    <tr>\n",
              "      <th>75%</th>\n",
              "      <td>19838.750000</td>\n",
              "    </tr>\n",
              "    <tr>\n",
              "      <th>max</th>\n",
              "      <td>39197.000000</td>\n",
              "    </tr>\n",
              "  </tbody>\n",
              "</table>\n",
              "</div>\n",
              "    <div class=\"colab-df-buttons\">\n",
              "\n",
              "  <div class=\"colab-df-container\">\n",
              "    <button class=\"colab-df-convert\" onclick=\"convertToInteractive('df-4f50ace2-fbb9-48d9-bd87-2c85a6f40f09')\"\n",
              "            title=\"Convert this dataframe to an interactive table.\"\n",
              "            style=\"display:none;\">\n",
              "\n",
              "  <svg xmlns=\"http://www.w3.org/2000/svg\" height=\"24px\" viewBox=\"0 -960 960 960\">\n",
              "    <path d=\"M120-120v-720h720v720H120Zm60-500h600v-160H180v160Zm220 220h160v-160H400v160Zm0 220h160v-160H400v160ZM180-400h160v-160H180v160Zm440 0h160v-160H620v160ZM180-180h160v-160H180v160Zm440 0h160v-160H620v160Z\"/>\n",
              "  </svg>\n",
              "    </button>\n",
              "\n",
              "  <style>\n",
              "    .colab-df-container {\n",
              "      display:flex;\n",
              "      gap: 12px;\n",
              "    }\n",
              "\n",
              "    .colab-df-convert {\n",
              "      background-color: #E8F0FE;\n",
              "      border: none;\n",
              "      border-radius: 50%;\n",
              "      cursor: pointer;\n",
              "      display: none;\n",
              "      fill: #1967D2;\n",
              "      height: 32px;\n",
              "      padding: 0 0 0 0;\n",
              "      width: 32px;\n",
              "    }\n",
              "\n",
              "    .colab-df-convert:hover {\n",
              "      background-color: #E2EBFA;\n",
              "      box-shadow: 0px 1px 2px rgba(60, 64, 67, 0.3), 0px 1px 3px 1px rgba(60, 64, 67, 0.15);\n",
              "      fill: #174EA6;\n",
              "    }\n",
              "\n",
              "    .colab-df-buttons div {\n",
              "      margin-bottom: 4px;\n",
              "    }\n",
              "\n",
              "    [theme=dark] .colab-df-convert {\n",
              "      background-color: #3B4455;\n",
              "      fill: #D2E3FC;\n",
              "    }\n",
              "\n",
              "    [theme=dark] .colab-df-convert:hover {\n",
              "      background-color: #434B5C;\n",
              "      box-shadow: 0px 1px 3px 1px rgba(0, 0, 0, 0.15);\n",
              "      filter: drop-shadow(0px 1px 2px rgba(0, 0, 0, 0.3));\n",
              "      fill: #FFFFFF;\n",
              "    }\n",
              "  </style>\n",
              "\n",
              "    <script>\n",
              "      const buttonEl =\n",
              "        document.querySelector('#df-4f50ace2-fbb9-48d9-bd87-2c85a6f40f09 button.colab-df-convert');\n",
              "      buttonEl.style.display =\n",
              "        google.colab.kernel.accessAllowed ? 'block' : 'none';\n",
              "\n",
              "      async function convertToInteractive(key) {\n",
              "        const element = document.querySelector('#df-4f50ace2-fbb9-48d9-bd87-2c85a6f40f09');\n",
              "        const dataTable =\n",
              "          await google.colab.kernel.invokeFunction('convertToInteractive',\n",
              "                                                    [key], {});\n",
              "        if (!dataTable) return;\n",
              "\n",
              "        const docLinkHtml = 'Like what you see? Visit the ' +\n",
              "          '<a target=\"_blank\" href=https://colab.research.google.com/notebooks/data_table.ipynb>data table notebook</a>'\n",
              "          + ' to learn more about interactive tables.';\n",
              "        element.innerHTML = '';\n",
              "        dataTable['output_type'] = 'display_data';\n",
              "        await google.colab.output.renderOutput(dataTable, element);\n",
              "        const docLink = document.createElement('div');\n",
              "        docLink.innerHTML = docLinkHtml;\n",
              "        element.appendChild(docLink);\n",
              "      }\n",
              "    </script>\n",
              "  </div>\n",
              "\n",
              "\n",
              "<div id=\"df-dd258c7e-baf7-4887-9496-2c92dff688dd\">\n",
              "  <button class=\"colab-df-quickchart\" onclick=\"quickchart('df-dd258c7e-baf7-4887-9496-2c92dff688dd')\"\n",
              "            title=\"Suggest charts.\"\n",
              "            style=\"display:none;\">\n",
              "\n",
              "<svg xmlns=\"http://www.w3.org/2000/svg\" height=\"24px\"viewBox=\"0 0 24 24\"\n",
              "     width=\"24px\">\n",
              "    <g>\n",
              "        <path d=\"M19 3H5c-1.1 0-2 .9-2 2v14c0 1.1.9 2 2 2h14c1.1 0 2-.9 2-2V5c0-1.1-.9-2-2-2zM9 17H7v-7h2v7zm4 0h-2V7h2v10zm4 0h-2v-4h2v4z\"/>\n",
              "    </g>\n",
              "</svg>\n",
              "  </button>\n",
              "\n",
              "<style>\n",
              "  .colab-df-quickchart {\n",
              "      --bg-color: #E8F0FE;\n",
              "      --fill-color: #1967D2;\n",
              "      --hover-bg-color: #E2EBFA;\n",
              "      --hover-fill-color: #174EA6;\n",
              "      --disabled-fill-color: #AAA;\n",
              "      --disabled-bg-color: #DDD;\n",
              "  }\n",
              "\n",
              "  [theme=dark] .colab-df-quickchart {\n",
              "      --bg-color: #3B4455;\n",
              "      --fill-color: #D2E3FC;\n",
              "      --hover-bg-color: #434B5C;\n",
              "      --hover-fill-color: #FFFFFF;\n",
              "      --disabled-bg-color: #3B4455;\n",
              "      --disabled-fill-color: #666;\n",
              "  }\n",
              "\n",
              "  .colab-df-quickchart {\n",
              "    background-color: var(--bg-color);\n",
              "    border: none;\n",
              "    border-radius: 50%;\n",
              "    cursor: pointer;\n",
              "    display: none;\n",
              "    fill: var(--fill-color);\n",
              "    height: 32px;\n",
              "    padding: 0;\n",
              "    width: 32px;\n",
              "  }\n",
              "\n",
              "  .colab-df-quickchart:hover {\n",
              "    background-color: var(--hover-bg-color);\n",
              "    box-shadow: 0 1px 2px rgba(60, 64, 67, 0.3), 0 1px 3px 1px rgba(60, 64, 67, 0.15);\n",
              "    fill: var(--button-hover-fill-color);\n",
              "  }\n",
              "\n",
              "  .colab-df-quickchart-complete:disabled,\n",
              "  .colab-df-quickchart-complete:disabled:hover {\n",
              "    background-color: var(--disabled-bg-color);\n",
              "    fill: var(--disabled-fill-color);\n",
              "    box-shadow: none;\n",
              "  }\n",
              "\n",
              "  .colab-df-spinner {\n",
              "    border: 2px solid var(--fill-color);\n",
              "    border-color: transparent;\n",
              "    border-bottom-color: var(--fill-color);\n",
              "    animation:\n",
              "      spin 1s steps(1) infinite;\n",
              "  }\n",
              "\n",
              "  @keyframes spin {\n",
              "    0% {\n",
              "      border-color: transparent;\n",
              "      border-bottom-color: var(--fill-color);\n",
              "      border-left-color: var(--fill-color);\n",
              "    }\n",
              "    20% {\n",
              "      border-color: transparent;\n",
              "      border-left-color: var(--fill-color);\n",
              "      border-top-color: var(--fill-color);\n",
              "    }\n",
              "    30% {\n",
              "      border-color: transparent;\n",
              "      border-left-color: var(--fill-color);\n",
              "      border-top-color: var(--fill-color);\n",
              "      border-right-color: var(--fill-color);\n",
              "    }\n",
              "    40% {\n",
              "      border-color: transparent;\n",
              "      border-right-color: var(--fill-color);\n",
              "      border-top-color: var(--fill-color);\n",
              "    }\n",
              "    60% {\n",
              "      border-color: transparent;\n",
              "      border-right-color: var(--fill-color);\n",
              "    }\n",
              "    80% {\n",
              "      border-color: transparent;\n",
              "      border-right-color: var(--fill-color);\n",
              "      border-bottom-color: var(--fill-color);\n",
              "    }\n",
              "    90% {\n",
              "      border-color: transparent;\n",
              "      border-bottom-color: var(--fill-color);\n",
              "    }\n",
              "  }\n",
              "</style>\n",
              "\n",
              "  <script>\n",
              "    async function quickchart(key) {\n",
              "      const quickchartButtonEl =\n",
              "        document.querySelector('#' + key + ' button');\n",
              "      quickchartButtonEl.disabled = true;  // To prevent multiple clicks.\n",
              "      quickchartButtonEl.classList.add('colab-df-spinner');\n",
              "      try {\n",
              "        const charts = await google.colab.kernel.invokeFunction(\n",
              "            'suggestCharts', [key], {});\n",
              "      } catch (error) {\n",
              "        console.error('Error during call to suggestCharts:', error);\n",
              "      }\n",
              "      quickchartButtonEl.classList.remove('colab-df-spinner');\n",
              "      quickchartButtonEl.classList.add('colab-df-quickchart-complete');\n",
              "    }\n",
              "    (() => {\n",
              "      let quickchartButtonEl =\n",
              "        document.querySelector('#df-dd258c7e-baf7-4887-9496-2c92dff688dd button');\n",
              "      quickchartButtonEl.style.display =\n",
              "        google.colab.kernel.accessAllowed ? 'block' : 'none';\n",
              "    })();\n",
              "  </script>\n",
              "</div>\n",
              "    </div>\n",
              "  </div>\n"
            ]
          },
          "metadata": {},
          "execution_count": 15
        }
      ]
    },
    {
      "cell_type": "code",
      "source": [
        "# Create a copy the dataset to work on task\n",
        "df2 = dataset2.copy()"
      ],
      "metadata": {
        "id": "kxm6kwhYcu3g"
      },
      "execution_count": 76,
      "outputs": []
    },
    {
      "cell_type": "markdown",
      "source": [
        "### Question 2.1"
      ],
      "metadata": {
        "id": "Ww8gf8Pa7C5b"
      }
    },
    {
      "cell_type": "markdown",
      "source": [
        "The dataset used here is the New York City Taxi Demand dataset. The raw data is from the\n",
        "NYC Taxi and Limousine Commission. The data included here consists of aggregating the total\n",
        "number of taxi passengers into 30 minute buckets. In this question, we will simply process the\n",
        "data and explore the time series.\n",
        "* Create two new dataframes df_day and df_hour by aggregating the demand value on\n",
        "daily and hourly level.\n",
        "* Plot the demand value in two line charts for both df_day and df_hour dataframes.\n",
        "* Plot the seasonal decomposition components (Trend, Seasonal, Residual) from df_day\n",
        "dataframe, also find out the p value from adfuller test. Do you think the df_day is stationary\n",
        "enough (please explain your reasons in comments and report)?\n"
      ],
      "metadata": {
        "id": "9L3zv63T6HYp"
      }
    },
    {
      "cell_type": "code",
      "source": [
        "# Import important libraries for timeseries data\n",
        "from statsmodels.tsa.seasonal import seasonal_decompose\n",
        "from statsmodels.tsa.stattools import adfuller"
      ],
      "metadata": {
        "id": "_4GCElob4S-h"
      },
      "execution_count": 74,
      "outputs": []
    },
    {
      "cell_type": "code",
      "source": [
        "# Convert the 'timestamp' column to datetime type\n",
        "df2['timestamp'] = pd.to_datetime(df2['timestamp'])"
      ],
      "metadata": {
        "id": "u5e6gdpwcrD9"
      },
      "execution_count": 77,
      "outputs": []
    },
    {
      "cell_type": "code",
      "source": [
        "# Set the 'timestamp' column as the index\n",
        "df2.set_index('timestamp', inplace=True)"
      ],
      "metadata": {
        "id": "-letdKb5c_aL"
      },
      "execution_count": 78,
      "outputs": []
    },
    {
      "cell_type": "code",
      "source": [
        "# Create df_day by aggregating the demand on a daily level\n",
        "df2_day = df2.resample('D').sum()"
      ],
      "metadata": {
        "id": "eBslhD3SdChn"
      },
      "execution_count": 79,
      "outputs": []
    },
    {
      "cell_type": "code",
      "source": [
        "# Create df_hour by aggregating the demand on an hourly level\n",
        "df2_hour = df2.resample('H').sum()"
      ],
      "metadata": {
        "id": "76cZf_IkdIx_"
      },
      "execution_count": 80,
      "outputs": []
    },
    {
      "cell_type": "code",
      "source": [
        "# Plot demand values for df_day\n",
        "plt.figure(figsize=(8, 5))\n",
        "plt.plot(df2_day.index, df2_day['value'], label='Daily Demand')\n",
        "plt.title('Daily Taxi Demand in NYC')\n",
        "plt.xlabel('Date')\n",
        "plt.ylabel('Demand Value')\n",
        "plt.legend()\n",
        "plt.grid(True)\n",
        "plt.show()"
      ],
      "metadata": {
        "colab": {
          "base_uri": "https://localhost:8080/",
          "height": 487
        },
        "id": "hSL_FXrmdLRh",
        "outputId": "0d52e85f-894d-4c14-d487-779e56cb245b"
      },
      "execution_count": 81,
      "outputs": [
        {
          "output_type": "display_data",
          "data": {
            "text/plain": [
              "<Figure size 800x500 with 1 Axes>"
            ],
            "image/png": "[encoded data removed]"
          },
          "metadata": {}
        }
      ]
    },
    {
      "cell_type": "code",
      "source": [
        "# Plot demand values for df_hour\n",
        "plt.figure(figsize=(8, 5))\n",
        "plt.plot(df2_hour.index, df2_hour['value'], label='Hourly Demand')\n",
        "plt.title('Hourly Taxi Demand in NYC')\n",
        "plt.xlabel('Date')\n",
        "plt.ylabel('Demand Value')\n",
        "plt.legend()\n",
        "plt.grid(True)\n",
        "plt.show()"
      ],
      "metadata": {
        "colab": {
          "base_uri": "https://localhost:8080/",
          "height": 487
        },
        "id": "Yu8G66dgdQuJ",
        "outputId": "cd0e9bc6-6db2-41f1-9233-fd229cb097ad"
      },
      "execution_count": 82,
      "outputs": [
        {
          "output_type": "display_data",
          "data": {
            "text/plain": [
              "<Figure size 800x500 with 1 Axes>"
            ],
            "image/png": "[encoded data removed]"
          },
          "metadata": {}
        }
      ]
    },
    {
      "cell_type": "code",
      "source": [
        "# Decompose df_day and calculate the p-value from the ADF test\n",
        "result = seasonal_decompose(df2_day['value'], model='additive', period=30)  # Assuming a seasonality of 30 days\n",
        "\n",
        "# Plot the decomposed components\n",
        "result.plot()\n",
        "plt.show()"
      ],
      "metadata": {
        "colab": {
          "base_uri": "https://localhost:8080/",
          "height": 487
        },
        "id": "w42zfQx4dXr4",
        "outputId": "88c3f174-333a-4396-d7cf-5ac56d7d1004"
      },
      "execution_count": 84,
      "outputs": [
        {
          "output_type": "display_data",
          "data": {
            "text/plain": [
              "<Figure size 640x480 with 4 Axes>"
            ],
            "image/png": "[encoded data removed]"
          },
          "metadata": {}
        }
      ]
    },
    {
      "cell_type": "code",
      "source": [
        "# Perform the ADF test (adfuller test) to check stationarity\n",
        "adf_result = adfuller(df2_day['value'], autolag='AIC')\n",
        "\n",
        "# Extract p-value from the ADF test\n",
        "p_value = adf_result[1]\n",
        "\n",
        "# Check if df_day is stationary based on the p-value\n",
        "# A common threshold for significance is 0.05\n",
        "if p_value <= 0.05:\n",
        "    stationary_status = \"stationary\"\n",
        "else:\n",
        "    stationary_status = \"not stationary\""
      ],
      "metadata": {
        "id": "7zMULlVdgPlV"
      },
      "execution_count": 88,
      "outputs": []
    },
    {
      "cell_type": "code",
      "source": [
        "# Print the p-value and stationary status\n",
        "print(f'ADF Test p-value: {p_value}')\n",
        "print(f'Daily Data is {stationary_status}')"
      ],
      "metadata": {
        "colab": {
          "base_uri": "https://localhost:8080/"
        },
        "id": "_BpWOF-qdeqN",
        "outputId": "a2c6395b-3efb-449d-99fc-0b7ad02bf1dc"
      },
      "execution_count": 89,
      "outputs": [
        {
          "output_type": "stream",
          "name": "stdout",
          "text": [
            "ADF Test p-value: 0.009424599993717633\n",
            "Daily Data is stationary\n"
          ]
        }
      ]
    },
    {
      "cell_type": "markdown",
      "source": [
        "### Question 2.2"
      ],
      "metadata": {
        "id": "Xjs0mx5o6_Bp"
      }
    },
    {
      "cell_type": "markdown",
      "source": [
        "In this question, we will try to use time series model such as ARIMA and others to build the\n",
        "model(s) for forecasting the future.\n",
        "* Create the acf and pacf plots for df_day dataframe.\n",
        "* Find the best model with different parameters on ARIMA model. The parameter range for\n",
        "p,d,q are all from [0, 1, 2]. In total, you need to find out the best model with lowest Mean\n",
        "Abosulate Error from 27 choices based on the time from ”Jul-01-2014” to ”Dec-01-2014”.\n",
        "* Using the best model in above steps to forecast the time from ”Jan-01-2015” to\n",
        "”Jan-31-2015”. Plot the predicted value and the true demand value from ”Jan-01-2015” to\n",
        "”Jan-31-2015”.\n",
        "* Could you think of any other model (not as same as ARIMA) could do the forecasting for\n",
        "demand value from ”Jan-01-2015” to ”Jan-31-2015”? You could choose one model\n",
        "(except ARIMA) and train the model based on the demand value from ”Jul-01-2014” to\n",
        "”Dec-01-2014” (same training data as the ARIMA). Hint: there are some resources\n",
        "regarding other time series forecasting models such as prophet here and also the\n",
        "exponential smoothing here.\n"
      ],
      "metadata": {
        "id": "GLE-iElX6rS7"
      }
    },
    {
      "cell_type": "code",
      "source": [],
      "metadata": {
        "id": "CUGg1CLJMGDt"
      },
      "execution_count": null,
      "outputs": []
    },
    {
      "cell_type": "markdown",
      "source": [
        "### Question 2.3"
      ],
      "metadata": {
        "id": "vpasDW_BlpGV"
      }
    },
    {
      "cell_type": "markdown",
      "source": [
        "In this question, we will detect the anomaly within the df_day dataframe.\n",
        "* Create the Weekday column according to the timestamp column in df_day dataframe. The\n",
        "value in Weekday column should be from [’Monday’, ’Tuesday’, ’Wednesday’,\n",
        "’Thursday’,’Friday’, ’Saturday’, ’Sunday’]. Also create the Hour, Day, Month, Year,\n",
        "Month_day (numeric format on day of the month), Lag (yesterday’s demand value ), and\n",
        "Rolling_Mean (rolling 7 days mean demand value, minimized period is 1) 7 new columns\n",
        "in df_day dataframe according to the timestamp column.\n",
        "* Using Isolation Forest with above crafted features in df_day to find out the date which is\n",
        "identified as ’outlier’.\n"
      ],
      "metadata": {
        "id": "QWwFawyrlrDC"
      }
    },
    {
      "cell_type": "markdown",
      "source": [
        "Answer 2.3"
      ],
      "metadata": {
        "id": "WCAj1Oxdlx-x"
      }
    },
    {
      "cell_type": "code",
      "source": [],
      "metadata": {
        "id": "iqO0MsOkl2Qx"
      },
      "execution_count": null,
      "outputs": []
    },
    {
      "cell_type": "markdown",
      "source": [
        "## ------------- THE END -------------"
      ],
      "metadata": {
        "id": "SSBpa-UQWyJW"
      }
    }
  ]
}